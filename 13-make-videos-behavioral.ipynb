{
 "cells": [
  {
   "cell_type": "code",
   "execution_count": 1,
   "metadata": {},
   "outputs": [
    {
     "name": "stdout",
     "output_type": "stream",
     "text": [
      "Fri May 19 06:28:01 EDT 2023\n"
     ]
    }
   ],
   "source": [
    "!date"
   ]
  },
  {
   "cell_type": "code",
   "execution_count": 2,
   "metadata": {},
   "outputs": [
    {
     "data": {
      "text/plain": [
       "'/mmfs1/data/aglinska/BC-actionpred-seg'"
      ]
     },
     "execution_count": 2,
     "metadata": {},
     "output_type": "execute_result"
    }
   ],
   "source": [
    "pwd"
   ]
  },
  {
   "cell_type": "code",
   "execution_count": 3,
   "metadata": {},
   "outputs": [],
   "source": [
    "from matplotlib import pyplot as plt\n",
    "from PIL import Image, ImageEnhance,ImageStat\n",
    "import skvideo\n",
    "import skvideo.io\n",
    "import numpy as np\n",
    "import os\n",
    "from tqdm import tqdm\n",
    "import cv2\n",
    "\n",
    "from PIL import Image\n",
    "from PIL import ImageDraw\n",
    "from PIL import ImageFont\n",
    "import pandas as pd\n",
    "import random"
   ]
  },
  {
   "cell_type": "code",
   "execution_count": 4,
   "metadata": {},
   "outputs": [],
   "source": [
    "#fnt_dir = './FreeMono.ttf'\n",
    "fnt_dir = './Arial Bold.ttf'\n",
    "fnt = ImageFont.truetype(fnt_dir, 40)"
   ]
  },
  {
   "cell_type": "code",
   "execution_count": 5,
   "metadata": {},
   "outputs": [],
   "source": [
    "def load_video(fn):\n",
    "    #fn = 'ID4_h1_1.mp4'\n",
    "    videodata = skvideo.io.vread(fn)\n",
    "    return videodata"
   ]
  },
  {
   "cell_type": "code",
   "execution_count": 6,
   "metadata": {},
   "outputs": [],
   "source": [
    "def get_text_im(text='000',nframes=150):\n",
    "    img = Image.new('RGB', (640,360))\n",
    "    d = ImageDraw.Draw(img)\n",
    "    d.text((320-len(text)*10, 150), text, fill=(255, 255, 255),font=fnt)\n",
    "    return np.array([np.array(img) for _ in range(nframes)])"
   ]
  },
  {
   "cell_type": "code",
   "execution_count": 7,
   "metadata": {},
   "outputs": [],
   "source": [
    "def save_video(videodata,ofn='outvideo.mp4'):\n",
    "    #skvideo.io.vwrite(ofn, videodata.astype(np.uint8),outputdict={'-pix_fmt' : 'yuv420p','-codec': 'h264', '-filter:v' : 'fps=20'})\n",
    "    skvideo.io.vwrite(ofn, videodata.astype(np.uint8))"
   ]
  },
  {
   "cell_type": "code",
   "execution_count": 96,
   "metadata": {},
   "outputs": [],
   "source": [
    "def safe_mkdir(fn):\n",
    "    import os\n",
    "    if not os.path.exists(fn):\n",
    "        os.mkdir(fn)"
   ]
  },
  {
   "cell_type": "markdown",
   "metadata": {},
   "source": [
    "### Define paths"
   ]
  },
  {
   "cell_type": "code",
   "execution_count": 135,
   "metadata": {},
   "outputs": [],
   "source": [
    "\n",
    "indir_root = './Data/pytorch-data/xl_121_15_action_data_bg/test/'\n",
    "#vid_fn_temp = './Data/haa500_v1_1_yolo_seg4/{this_cat}/{this_cat}_{vid_num}.mp4'\n",
    "#vid_fn_temp = './Data/haa500_v1_1_yolo_seg4/{this_cat}/{this_cat}_{vid_num}_item_0_inp_seg.mp4'\n",
    "vid_fn_temp = './Data/haa500_v1_1_yolo_seg4/{this_cat}/{this_cat}_{vid_num}_item_0_inv_seg.mp4'\n",
    "\n",
    "ofdir = './Data/01_gifs_for_mTurk_bg/'\n",
    "safe_mkdir(ofdir)"
   ]
  },
  {
   "cell_type": "markdown",
   "metadata": {},
   "source": [
    "### Generate legend.CSV"
   ]
  },
  {
   "cell_type": "code",
   "execution_count": 136,
   "metadata": {},
   "outputs": [],
   "source": [
    "plt.ioff()"
   ]
  },
  {
   "cell_type": "code",
   "execution_count": 137,
   "metadata": {},
   "outputs": [],
   "source": [
    "mturk_categories = np.load('mturk_categories.npy')\n",
    "n = len(mturk_categories)"
   ]
  },
  {
   "cell_type": "code",
   "execution_count": 138,
   "metadata": {},
   "outputs": [],
   "source": [
    "codes = [f'{np.random.randint(low=0,high=999):03d}' for _ in range(n)]"
   ]
  },
  {
   "cell_type": "code",
   "execution_count": 139,
   "metadata": {},
   "outputs": [],
   "source": [
    "df = pd.DataFrame()"
   ]
  },
  {
   "cell_type": "code",
   "execution_count": 140,
   "metadata": {},
   "outputs": [],
   "source": [
    "# Fix names for some categories\n",
    "mturk_categories_nice = ['skateboard forward',\n",
    " 'golf part',\n",
    " 'pull ups',\n",
    " 'tight-rope walking',\n",
    " 'using lawn mower',\n",
    " 'chainsaw tree',\n",
    " 'closing door',\n",
    " 'using scythe',\n",
    " 'draw handgun',\n",
    " 'yoga gate',\n",
    " 'play maracas',\n",
    " 'play panpipe',\n",
    " 'using typewriter',\n",
    " 'balloon animal',\n",
    " 'add new car tire',\n",
    " 'screw car tire',\n",
    " 'play grandpiano',\n",
    " 'shake cocktail',\n",
    " 'arm wave',\n",
    " 'wear face mask',\n",
    " 'play gong',\n",
    " 'firemaking with bow',\n",
    " 'gym plank',\n",
    " 'play saxophone',\n",
    " 'play sanxian',\n",
    " 'softball pitch',\n",
    " 'floss dance',\n",
    " 'basketball jabstep',\n",
    " 'pottery wheel',\n",
    " 'watering plants',\n",
    " 'volleyball set',\n",
    " 'yoga updog',\n",
    " 'whipping',\n",
    " 'yoga firefly',\n",
    " 'styling hair',\n",
    " 'cutting onion',\n",
    " 'swinging axe on a tree',\n",
    " 'weightlifting stand',\n",
    " 'play serpent',\n",
    " 'squash backhand',\n",
    " 'dog highfive',\n",
    " 'play ukulele',\n",
    " 'smoking inhale',\n",
    " 'shuffle dance',\n",
    " 'taekwondo high block',\n",
    " 'play hulusi',\n",
    " 'bench dip',\n",
    " 'climb stair',\n",
    " 'play sheng',\n",
    " 'playing cajon drum',\n",
    " 'play tambourine',\n",
    " 'play cornett',\n",
    " 'play  piccolo',\n",
    " 'shoveling snow',\n",
    " 'handshake dog',\n",
    " 'handsaw',\n",
    " 'rock balancing',\n",
    " 'play recorder',\n",
    " 'weightlifting overhead',\n",
    " 'running in place',\n",
    " 'jack up car',\n",
    " 'yoga locust',\n",
    " 'jump rope',\n",
    " 'fish-hunting pull',\n",
    " 'yoga pigeon',\n",
    " 'neck side pull stretch',\n",
    " 'pouring wine',\n",
    " 'fish-hunting hold',\n",
    " 'play melodic',\n",
    " 'chalkboard',\n",
    " 'whistle two hands',\n",
    " 'gym squat',\n",
    " 'play leaf-flute',\n",
    " 'blowing balloon',\n",
    " 'play ocarina',\n",
    " 'adjusting glasses',\n",
    " 'eat apple',\n",
    " 'play erhu',\n",
    " 'play triangle',\n",
    " 'blow gun']\n",
    "\n",
    "mturk_categories_nice = np.array(mturk_categories_nice)"
   ]
  },
  {
   "cell_type": "code",
   "execution_count": 141,
   "metadata": {},
   "outputs": [],
   "source": [
    "df['action'] = list(mturk_categories_nice)\n",
    "df['file'] = [f'gif_{i:03d}.gif' for i in range(80)]\n",
    "df['code'] = codes"
   ]
  },
  {
   "cell_type": "code",
   "execution_count": 142,
   "metadata": {},
   "outputs": [],
   "source": [
    "#[i.replace('_',' ') for i in mturk_categories]"
   ]
  },
  {
   "cell_type": "code",
   "execution_count": 143,
   "metadata": {},
   "outputs": [],
   "source": [
    "answer_choices = []\n",
    "for c in range(n):\n",
    "    answer_choices.append( [random.choice(list(mturk_categories_nice[np.arange(0,n)!=c])) for _ in range(5)] )"
   ]
  },
  {
   "cell_type": "code",
   "execution_count": 144,
   "metadata": {},
   "outputs": [
    {
     "data": {
      "text/plain": [
       "(80, 5)"
      ]
     },
     "execution_count": 144,
     "metadata": {},
     "output_type": "execute_result"
    }
   ],
   "source": [
    "answer_choices = np.array(answer_choices)\n",
    "answer_choices.shape"
   ]
  },
  {
   "cell_type": "code",
   "execution_count": 145,
   "metadata": {},
   "outputs": [],
   "source": [
    "for c in range(n):\n",
    "    answer_choices[c,np.random.randint(0,5)] = mturk_categories_nice[c]"
   ]
  },
  {
   "cell_type": "code",
   "execution_count": 146,
   "metadata": {},
   "outputs": [],
   "source": [
    "df['choice_1'] = list(answer_choices[:,0])\n",
    "df['choice_2'] = list(answer_choices[:,1])\n",
    "df['choice_3'] = list(answer_choices[:,2])\n",
    "df['choice_4'] = list(answer_choices[:,3])\n",
    "df['choice_5'] = list(answer_choices[:,4])"
   ]
  },
  {
   "cell_type": "code",
   "execution_count": 147,
   "metadata": {},
   "outputs": [],
   "source": [
    "df.to_csv(os.path.join(ofdir,'data_legend.csv'))"
   ]
  },
  {
   "cell_type": "code",
   "execution_count": 148,
   "metadata": {},
   "outputs": [],
   "source": [
    "pd.set_option('display.max_columns', None)  # or 1000\n",
    "pd.set_option('display.max_rows', None)  # or 1000\n",
    "pd.set_option('display.max_colwidth', None)  # or 199"
   ]
  },
  {
   "cell_type": "code",
   "execution_count": 149,
   "metadata": {},
   "outputs": [
    {
     "data": {
      "text/html": [
       "<div>\n",
       "<style scoped>\n",
       "    .dataframe tbody tr th:only-of-type {\n",
       "        vertical-align: middle;\n",
       "    }\n",
       "\n",
       "    .dataframe tbody tr th {\n",
       "        vertical-align: top;\n",
       "    }\n",
       "\n",
       "    .dataframe thead th {\n",
       "        text-align: right;\n",
       "    }\n",
       "</style>\n",
       "<table border=\"1\" class=\"dataframe\">\n",
       "  <thead>\n",
       "    <tr style=\"text-align: right;\">\n",
       "      <th></th>\n",
       "      <th>action</th>\n",
       "      <th>file</th>\n",
       "      <th>code</th>\n",
       "      <th>choice_1</th>\n",
       "      <th>choice_2</th>\n",
       "      <th>choice_3</th>\n",
       "      <th>choice_4</th>\n",
       "      <th>choice_5</th>\n",
       "    </tr>\n",
       "  </thead>\n",
       "  <tbody>\n",
       "    <tr>\n",
       "      <th>0</th>\n",
       "      <td>skateboard forward</td>\n",
       "      <td>gif_000.gif</td>\n",
       "      <td>802</td>\n",
       "      <td>watering plants</td>\n",
       "      <td>play panpipe</td>\n",
       "      <td>taekwondo high block</td>\n",
       "      <td>play sheng</td>\n",
       "      <td>skateboard forward</td>\n",
       "    </tr>\n",
       "    <tr>\n",
       "      <th>1</th>\n",
       "      <td>golf part</td>\n",
       "      <td>gif_001.gif</td>\n",
       "      <td>214</td>\n",
       "      <td>golf part</td>\n",
       "      <td>volleyball set</td>\n",
       "      <td>play gong</td>\n",
       "      <td>handshake dog</td>\n",
       "      <td>adjusting glasses</td>\n",
       "    </tr>\n",
       "    <tr>\n",
       "      <th>2</th>\n",
       "      <td>pull ups</td>\n",
       "      <td>gif_002.gif</td>\n",
       "      <td>280</td>\n",
       "      <td>using lawn mower</td>\n",
       "      <td>fish-hunting hold</td>\n",
       "      <td>pull ups</td>\n",
       "      <td>whipping</td>\n",
       "      <td>play cornett</td>\n",
       "    </tr>\n",
       "    <tr>\n",
       "      <th>3</th>\n",
       "      <td>tight-rope walking</td>\n",
       "      <td>gif_003.gif</td>\n",
       "      <td>614</td>\n",
       "      <td>tight-rope walking</td>\n",
       "      <td>floss dance</td>\n",
       "      <td>yoga locust</td>\n",
       "      <td>yoga updog</td>\n",
       "      <td>styling hair</td>\n",
       "    </tr>\n",
       "    <tr>\n",
       "      <th>4</th>\n",
       "      <td>using lawn mower</td>\n",
       "      <td>gif_004.gif</td>\n",
       "      <td>229</td>\n",
       "      <td>play grandpiano</td>\n",
       "      <td>shake cocktail</td>\n",
       "      <td>play hulusi</td>\n",
       "      <td>play triangle</td>\n",
       "      <td>using lawn mower</td>\n",
       "    </tr>\n",
       "  </tbody>\n",
       "</table>\n",
       "</div>"
      ],
      "text/plain": [
       "               action         file code            choice_1  \\\n",
       "0  skateboard forward  gif_000.gif  802     watering plants   \n",
       "1           golf part  gif_001.gif  214           golf part   \n",
       "2            pull ups  gif_002.gif  280    using lawn mower   \n",
       "3  tight-rope walking  gif_003.gif  614  tight-rope walking   \n",
       "4    using lawn mower  gif_004.gif  229     play grandpiano   \n",
       "\n",
       "            choice_2              choice_3       choice_4            choice_5  \n",
       "0       play panpipe  taekwondo high block     play sheng  skateboard forward  \n",
       "1     volleyball set             play gong  handshake dog   adjusting glasses  \n",
       "2  fish-hunting hold              pull ups       whipping        play cornett  \n",
       "3        floss dance           yoga locust     yoga updog        styling hair  \n",
       "4     shake cocktail           play hulusi  play triangle    using lawn mower  "
      ]
     },
     "execution_count": 149,
     "metadata": {},
     "output_type": "execute_result"
    }
   ],
   "source": [
    "df.head(5)"
   ]
  },
  {
   "cell_type": "code",
   "execution_count": null,
   "metadata": {},
   "outputs": [],
   "source": []
  },
  {
   "cell_type": "markdown",
   "metadata": {},
   "source": [
    "### Make videos .gifs"
   ]
  },
  {
   "cell_type": "code",
   "execution_count": 150,
   "metadata": {},
   "outputs": [
    {
     "name": "stderr",
     "output_type": "stream",
     "text": [
      "100%|██████████| 80/80 [03:10<00:00,  2.38s/it]\n"
     ]
    }
   ],
   "source": [
    "for c in tqdm(range(n)):\n",
    "    this_cat = mturk_categories[c]\n",
    "    #indir = f'./Data/pytorch-data/xl_121_15_action_data_orig/test/{this_cat}'\n",
    "    #indir = f'./Data/pytorch-data/xl_121_15_action_data_seg/test/{this_cat}'\n",
    "    #indir = f'./Data/pytorch-data/xl_121_15_action_data_orig/test/{this_cat}'\n",
    "    indir = os.path.join(indir_root,this_cat)\n",
    "    frames = [frame for frame in os.listdir(indir) if not frame.startswith('.')]\n",
    "    frames.sort()\n",
    "    frame = frames[0]\n",
    "    vid_num = frame.split('_')[0]\n",
    "    #vid_fn = f'./Data/haa500_v1_1_yolo_seg4/{this_cat}/{this_cat}_{vid_num}.mp4'\n",
    "    vid_fn = vid_fn_temp.format(this_cat=this_cat,vid_num=vid_num)\n",
    "    video_data = load_video(vid_fn)\n",
    "    video_data = video_data[0:min(video_data.shape[0],150),:,:,:]\n",
    "    #video_data.shape\n",
    "    \n",
    "    arr = np.concatenate((\n",
    "                get_text_im(text='5',nframes=25),\n",
    "                get_text_im(text='4',nframes=25),\n",
    "                get_text_im(text='3',nframes=25),\n",
    "                get_text_im(text='2',nframes=25),\n",
    "                get_text_im(text='1',nframes=25),\n",
    "                video_data,\n",
    "                get_text_im(text=codes[c],nframes=250)),axis=0)\n",
    "    \n",
    "    save_video(arr,os.path.join(ofdir,f'gif_{c:03d}.gif'))\n",
    "    \n",
    "    plt.figure(figsize=(20,10))\n",
    "    plt.subplot(1,3,1)\n",
    "    plt.imshow(arr[0,:,:,:])\n",
    "    plt.axis('off')\n",
    "    plt.subplot(1,3,2)\n",
    "    plt.imshow(arr[126,:,:,:])\n",
    "    plt.axis('off')\n",
    "    plt.subplot(1,3,3)\n",
    "    plt.imshow(arr[-1,:,:,:])\n",
    "    plt.axis('off')\n",
    "    plt.suptitle(mturk_categories[c],fontsize=20,y=0.66)\n",
    "    plt.savefig(os.path.join(ofdir,f'im_{c:03d}.jpg'))\n",
    "    plt.close()"
   ]
  },
  {
   "cell_type": "code",
   "execution_count": 114,
   "metadata": {},
   "outputs": [
    {
     "data": {
      "text/plain": [
       "'/mmfs1/data/aglinska/BC-actionpred-seg'"
      ]
     },
     "execution_count": 114,
     "metadata": {},
     "output_type": "execute_result"
    }
   ],
   "source": [
    "pwd"
   ]
  },
  {
   "cell_type": "code",
   "execution_count": 9,
   "metadata": {},
   "outputs": [],
   "source": [
    "#!zip -r './Data/01_gifs_for_mTurk_bg.zip' './Data/01_gifs_for_mTurk_bg/'"
   ]
  },
  {
   "cell_type": "code",
   "execution_count": null,
   "metadata": {},
   "outputs": [],
   "source": []
  },
  {
   "cell_type": "code",
   "execution_count": null,
   "metadata": {},
   "outputs": [],
   "source": []
  },
  {
   "cell_type": "code",
   "execution_count": null,
   "metadata": {},
   "outputs": [],
   "source": []
  }
 ],
 "metadata": {
  "kernelspec": {
   "display_name": "Python 3",
   "language": "python",
   "name": "python3"
  },
  "language_info": {
   "codemirror_mode": {
    "name": "ipython",
    "version": 3
   },
   "file_extension": ".py",
   "mimetype": "text/x-python",
   "name": "python",
   "nbconvert_exporter": "python",
   "pygments_lexer": "ipython3",
   "version": "3.8.3"
  }
 },
 "nbformat": 4,
 "nbformat_minor": 4
}
