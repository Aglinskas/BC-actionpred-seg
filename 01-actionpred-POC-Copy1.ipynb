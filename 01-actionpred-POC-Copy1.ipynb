{
 "cells": [
  {
   "cell_type": "code",
   "execution_count": 1,
   "id": "61b79048",
   "metadata": {},
   "outputs": [],
   "source": [
    "from torchvision import models\n",
    "fcn = models.segmentation.fcn_resnet101(weights=\"FCN_ResNet101_Weights.DEFAULT\").eval()"
   ]
  },
  {
   "cell_type": "code",
   "execution_count": 2,
   "id": "926ebde6",
   "metadata": {},
   "outputs": [],
   "source": [
    "import torch\n",
    "import torchvision.transforms as T"
   ]
  },
  {
   "cell_type": "code",
   "execution_count": 3,
   "id": "3d670186",
   "metadata": {},
   "outputs": [],
   "source": [
    "import PIL\n",
    "from PIL import Image\n",
    "import matplotlib.pyplot as plt\n",
    "import numpy as np\n",
    "from tqdm import tqdm\n",
    "from scipy.ndimage.filters import gaussian_filter\n",
    "import os"
   ]
  },
  {
   "cell_type": "code",
   "execution_count": 4,
   "id": "ceb7aa13",
   "metadata": {},
   "outputs": [],
   "source": [
    "def load_video(fn):\n",
    "    import skvideo\n",
    "    import skvideo.io\n",
    "    videodata = skvideo.io.vread(fn)\n",
    "    return videodata"
   ]
  },
  {
   "cell_type": "code",
   "execution_count": 5,
   "id": "a9a68518",
   "metadata": {},
   "outputs": [],
   "source": [
    "def save_video(videodata,ofn='outvideo.mp4'):\n",
    "    import skvideo\n",
    "    import skvideo.io\n",
    "    skvideo.io.vwrite(ofn, videodata.astype(np.uint8),outputdict={'-codec': 'h264', '-filter:v' : 'fps=29.97'})"
   ]
  },
  {
   "cell_type": "code",
   "execution_count": 6,
   "id": "b8f58ac9",
   "metadata": {},
   "outputs": [],
   "source": [
    "# Define the helper function\n",
    "def decode_segmap(image, nc=21):\n",
    "  \n",
    "  label_colors = np.array([(0, 0, 0),  # 0=background\n",
    "               # 1=aeroplane, 2=bicycle, 3=bird, 4=boat, 5=bottle\n",
    "               (128, 0, 0), (0, 128, 0), (128, 128, 0), (0, 0, 128), (128, 0, 128),\n",
    "               # 6=bus, 7=car, 8=cat, 9=chair, 10=cow\n",
    "               (0, 128, 128), (128, 128, 128), (64, 0, 0), (192, 0, 0), (64, 128, 0),\n",
    "               # 11=dining table, 12=dog, 13=horse, 14=motorbike, 15=person\n",
    "               (192, 128, 0), (64, 0, 128), (192, 0, 128), (64, 128, 128), (192, 128, 128),\n",
    "               # 16=potted plant, 17=sheep, 18=sofa, 19=train, 20=tv/monitor\n",
    "               (0, 64, 0), (128, 64, 0), (0, 192, 0), (128, 192, 0), (0, 64, 128)])\n",
    "\n",
    "  r = np.zeros_like(image).astype(np.uint8)\n",
    "  g = np.zeros_like(image).astype(np.uint8)\n",
    "  b = np.zeros_like(image).astype(np.uint8)\n",
    "  \n",
    "  for l in range(0, nc):\n",
    "    idx = image == l\n",
    "    r[idx] = label_colors[l, 0]\n",
    "    g[idx] = label_colors[l, 1]\n",
    "    b[idx] = label_colors[l, 2]\n",
    "    \n",
    "  rgb = np.stack([r, g, b], axis=2)\n",
    "  return rgb"
   ]
  },
  {
   "cell_type": "code",
   "execution_count": 7,
   "id": "954d1373",
   "metadata": {},
   "outputs": [],
   "source": [
    "def get_seg(net, img, show=True, dev='cpu'):\n",
    "    \n",
    "    if not type(img)==PIL.Image.Image:\n",
    "        img = Image.fromarray(img)\n",
    "    \n",
    "    if show: plt.figure(figsize=(15,5))\n",
    "    \n",
    "    if show: plt.subplot(1,3,1);plt.imshow(img); plt.axis('off');\n",
    "    \n",
    "    \n",
    "    # Comment the Resize and CenterCrop for better inference results\n",
    "    trf = T.Compose([T.Resize((720,1280)), \n",
    "                   #T.CenterCrop(224), \n",
    "                   T.ToTensor(), \n",
    "                   T.Normalize(mean = [0.485, 0.456, 0.406], \n",
    "                               std = [0.229, 0.224, 0.225])])\n",
    "    inp = trf(img).unsqueeze(0).to(dev)\n",
    "    out = net.to(dev)(inp)['out']\n",
    "    om = torch.argmax(out.squeeze(), dim=0).detach().cpu().numpy()\n",
    "    rgb = decode_segmap(om)\n",
    "    #plt.imshow(rgb); plt.axis('off'); plt.show()\n",
    "    \n",
    "    seg_resized = Image.fromarray(rgb).resize((512,512),resample=PIL.Image.NEAREST)\n",
    "    \n",
    "    #bg = (np.array(seg_resized)==0).sum(axis=-1)==3\n",
    "    #img_copy = np.array(img).copy()\n",
    "    #img_copy[:,:,0][bg] = 0\n",
    "    #img_copy[:,:,1][bg] = 0\n",
    "    #img_copy[:,:,2][bg] = 0\n",
    "    #Image.fromarray(img_copy)\n",
    "    \n",
    "    if show: plt.subplot(1,3,2);plt.imshow(rgb); plt.axis('off');\n",
    "    \n",
    "    if show: plt.subplot(1,3,3);plt.imshow(seg_resized); plt.axis('off');\n",
    "    \n",
    "    \n",
    "    if show: plt.show()\n",
    "    \n",
    "    return rgb"
   ]
  },
  {
   "cell_type": "code",
   "execution_count": null,
   "id": "88ac90e0",
   "metadata": {},
   "outputs": [],
   "source": []
  },
  {
   "cell_type": "code",
   "execution_count": 8,
   "id": "b3915264",
   "metadata": {},
   "outputs": [],
   "source": [
    "indir = './haa500_v1_1/video'\n",
    "folders = os.listdir(indir) ; folders.sort()"
   ]
  },
  {
   "cell_type": "code",
   "execution_count": 9,
   "id": "bcd528b0",
   "metadata": {},
   "outputs": [],
   "source": [
    "videos = []\n",
    "for folder in folders:\n",
    "    cont = [file for file in os.listdir(os.path.join(indir,folder)) if file.endswith('.mp4')]\n",
    "    videos.append(cont)"
   ]
  },
  {
   "cell_type": "code",
   "execution_count": null,
   "id": "0646743e",
   "metadata": {},
   "outputs": [],
   "source": []
  },
  {
   "cell_type": "code",
   "execution_count": 12,
   "id": "3f45bce6",
   "metadata": {},
   "outputs": [
    {
     "data": {
      "text/plain": [
       "(82, 720, 1280, 3)"
      ]
     },
     "execution_count": 12,
     "metadata": {},
     "output_type": "execute_result"
    }
   ],
   "source": [
    "fn = 'wall_paint_brush_004.mp4'\n",
    "fn = os.path.join(indir,folders[1],videos[1][1])\n",
    "video_data = load_video(fn)\n",
    "video_data.shape"
   ]
  },
  {
   "cell_type": "code",
   "execution_count": 13,
   "id": "72b75e08",
   "metadata": {},
   "outputs": [
    {
     "name": "stderr",
     "output_type": "stream",
     "text": [
      "100%|███████████████████████████████████████████| 82/82 [18:22<00:00, 13.45s/it]\n"
     ]
    }
   ],
   "source": [
    "#fn = 'taking_selfie_014.mp4'\n",
    "#video_data = load_video(fn)\n",
    "video_seg = np.array([get_seg(fcn,video_data[i,:,:,:],show=False) for i in tqdm(range(video_data.shape[0]))])\n",
    "save_video(video_seg,fn.replace('.mp4','_seg.mp4'))"
   ]
  },
  {
   "cell_type": "code",
   "execution_count": null,
   "id": "2fd0a1dd",
   "metadata": {},
   "outputs": [],
   "source": []
  },
  {
   "cell_type": "code",
   "execution_count": null,
   "id": "67d3882f",
   "metadata": {},
   "outputs": [],
   "source": []
  },
  {
   "cell_type": "code",
   "execution_count": null,
   "id": "e6e73d16",
   "metadata": {},
   "outputs": [],
   "source": [
    "frame = video_data[1,:,:,:]"
   ]
  },
  {
   "cell_type": "code",
   "execution_count": null,
   "id": "9c956e11",
   "metadata": {},
   "outputs": [],
   "source": [
    "seg = get_seg(fcn,frame)"
   ]
  },
  {
   "cell_type": "code",
   "execution_count": null,
   "id": "0871695a",
   "metadata": {},
   "outputs": [],
   "source": []
  },
  {
   "cell_type": "code",
   "execution_count": null,
   "id": "bdc4c56a",
   "metadata": {},
   "outputs": [],
   "source": []
  },
  {
   "cell_type": "code",
   "execution_count": null,
   "id": "f4a97acb",
   "metadata": {},
   "outputs": [],
   "source": []
  },
  {
   "cell_type": "code",
   "execution_count": null,
   "id": "548da1be",
   "metadata": {},
   "outputs": [],
   "source": []
  },
  {
   "cell_type": "code",
   "execution_count": null,
   "id": "c38a5127",
   "metadata": {},
   "outputs": [],
   "source": [
    "# def get_bg(net, img, show=True, dev='cpu'):\n",
    "    \n",
    "#     if not type(img)==PIL.Image.Image:\n",
    "#         img = Image.fromarray(img)\n",
    "    \n",
    "    \n",
    "#     if show: plt.figure(figsize=(15,5))\n",
    "    \n",
    "#     if show: plt.subplot(1,3,1);plt.imshow(img); plt.axis('off');\n",
    "    \n",
    "    \n",
    "#     # Comment the Resize and CenterCrop for better inference results\n",
    "#     trf = T.Compose([T.Resize(640), \n",
    "#                    #T.CenterCrop(224), \n",
    "#                    T.ToTensor(), \n",
    "#                    T.Normalize(mean = [0.485, 0.456, 0.406], \n",
    "#                                std = [0.229, 0.224, 0.225])])\n",
    "#     inp = trf(img).unsqueeze(0).to(dev)\n",
    "#     out = net.to(dev)(inp)['out']\n",
    "#     om = torch.argmax(out.squeeze(), dim=0).detach().cpu().numpy()\n",
    "#     rgb = decode_segmap(om)\n",
    "#     #plt.imshow(rgb); plt.axis('off'); plt.show()\n",
    "    \n",
    "    \n",
    "#     seg_resized = Image.fromarray(rgb).resize((512,512),resample=PIL.Image.NEAREST)\n",
    "#     bg = (np.array(seg_resized)==0).sum(axis=-1)==3\n",
    "#     img_copy = np.array(img).copy()\n",
    "#     img_copy[:,:,0][bg] = 0\n",
    "#     img_copy[:,:,1][bg] = 0\n",
    "#     img_copy[:,:,2][bg] = 0\n",
    "#     #Image.fromarray(img_copy)\n",
    "    \n",
    "#     if show: plt.subplot(1,3,2);plt.imshow(rgb); plt.axis('off');\n",
    "    \n",
    "#     if show: plt.subplot(1,3,3);plt.imshow(img_copy); plt.axis('off');\n",
    "    \n",
    "    \n",
    "#     if show: plt.show()\n",
    "    \n",
    "#     return bg"
   ]
  },
  {
   "cell_type": "code",
   "execution_count": null,
   "id": "4f64ad4e",
   "metadata": {},
   "outputs": [],
   "source": []
  },
  {
   "cell_type": "code",
   "execution_count": null,
   "id": "975a96ac",
   "metadata": {},
   "outputs": [],
   "source": []
  },
  {
   "cell_type": "code",
   "execution_count": null,
   "id": "8c3bb484",
   "metadata": {},
   "outputs": [],
   "source": []
  },
  {
   "cell_type": "code",
   "execution_count": null,
   "id": "fe33eebc",
   "metadata": {},
   "outputs": [],
   "source": []
  },
  {
   "cell_type": "code",
   "execution_count": null,
   "id": "b4354841",
   "metadata": {},
   "outputs": [],
   "source": []
  },
  {
   "cell_type": "code",
   "execution_count": null,
   "id": "ece1729a",
   "metadata": {},
   "outputs": [],
   "source": []
  },
  {
   "cell_type": "code",
   "execution_count": null,
   "id": "937b31bb",
   "metadata": {},
   "outputs": [],
   "source": []
  }
 ],
 "metadata": {
  "kernelspec": {
   "display_name": "Python 3",
   "language": "python",
   "name": "python3"
  },
  "language_info": {
   "codemirror_mode": {
    "name": "ipython",
    "version": 3
   },
   "file_extension": ".py",
   "mimetype": "text/x-python",
   "name": "python",
   "nbconvert_exporter": "python",
   "pygments_lexer": "ipython3",
   "version": "3.8.5"
  }
 },
 "nbformat": 4,
 "nbformat_minor": 5
}
