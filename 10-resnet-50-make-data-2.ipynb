{
 "cells": [
  {
   "cell_type": "code",
   "execution_count": 1,
   "id": "1db7938e",
   "metadata": {},
   "outputs": [
    {
     "name": "stdout",
     "output_type": "stream",
     "text": [
      "Mon Apr 24 13:45:46 EDT 2023\n"
     ]
    }
   ],
   "source": [
    "!date"
   ]
  },
  {
   "cell_type": "code",
   "execution_count": 2,
   "id": "bbf3e388",
   "metadata": {},
   "outputs": [
    {
     "data": {
      "text/plain": [
       "'/mmfs1/data/aglinska/BC-actionpred-seg'"
      ]
     },
     "execution_count": 2,
     "metadata": {},
     "output_type": "execute_result"
    }
   ],
   "source": [
    "pwd"
   ]
  },
  {
   "cell_type": "code",
   "execution_count": 3,
   "id": "c3e097a0",
   "metadata": {},
   "outputs": [
    {
     "name": "stderr",
     "output_type": "stream",
     "text": [
      "/data/aglinska/anaconda3/lib/python3.8/site-packages/pandas/core/computation/expressions.py:20: UserWarning: Pandas requires version '2.7.3' or newer of 'numexpr' (version '2.7.1' currently installed).\n",
      "  from pandas.core.computation.check import NUMEXPR_INSTALLED\n"
     ]
    }
   ],
   "source": [
    "import PIL\n",
    "from PIL import Image,ImageFilter\n",
    "import matplotlib.pyplot as plt\n",
    "import seaborn as sns\n",
    "import numpy as np\n",
    "from tqdm import tqdm\n",
    "from scipy.ndimage.filters import gaussian_filter\n",
    "import os\n",
    "import shutil\n",
    "import random\n",
    "#import cv2\n",
    "from skimage.transform import resize\n",
    "from datetime import datetime\n",
    "now = datetime.now"
   ]
  },
  {
   "cell_type": "code",
   "execution_count": 4,
   "id": "c96a9f2a",
   "metadata": {},
   "outputs": [],
   "source": [
    "def load_video(fn):\n",
    "    import skvideo\n",
    "    import skvideo.io\n",
    "    videodata = skvideo.io.vread(fn)\n",
    "    return videodata"
   ]
  },
  {
   "cell_type": "code",
   "execution_count": 5,
   "id": "7b42ec8a",
   "metadata": {},
   "outputs": [],
   "source": [
    "def safe_mkdir(fn):\n",
    "    import os\n",
    "    if not os.path.exists(fn):\n",
    "        os.mkdir(fn)"
   ]
  },
  {
   "cell_type": "code",
   "execution_count": 6,
   "id": "049f70e9",
   "metadata": {},
   "outputs": [
    {
     "name": "stdout",
     "output_type": "stream",
     "text": [
      "45\n",
      "['CPR', 'badminton_overswing', 'basketball_pass']\n",
      "['weightlifting_stand', 'whipping', 'yoga_updog']\n"
     ]
    }
   ],
   "source": [
    "dataset_dir = './Data/dataset-v3-10/'\n",
    "categories = [cat for cat in os.listdir(dataset_dir) if not cat.startswith('.')]\n",
    "categories.sort()\n",
    "n = len(categories)\n",
    "print(n)\n",
    "print(categories[0:3])\n",
    "print(categories[-3::])"
   ]
  },
  {
   "cell_type": "code",
   "execution_count": 7,
   "id": "a22d41c2",
   "metadata": {},
   "outputs": [],
   "source": [
    "outdir = './Data/pytorch-data/action_data_seg'\n",
    "#fn_temp = '{this_cat}_{vid_num:03d}.mp4' # original videos\n",
    "fn_temp = '{this_cat}_{vid_num:03d}_item_0_fwd_seg.mp4' # Segmented videos\n",
    "#fn_temp = '{this_cat}_{vid_num:03d}_item_0_inp_seg.mp4' # Background\n",
    "#fn_temp = '{this_cat}_{vid_num:03d}_item_0_bg_rnd.mp4' # RND inpainted\n",
    "\n",
    "safe_mkdir(outdir)\n",
    "\n",
    "safe_mkdir(os.path.join(outdir,'train'))\n",
    "safe_mkdir(os.path.join(outdir,'val'))\n",
    "safe_mkdir(os.path.join(outdir,'test'))\n",
    "\n",
    "[safe_mkdir(os.path.join(outdir,'train',category)) for category in categories];\n",
    "[safe_mkdir(os.path.join(outdir,'val',category)) for category in categories];\n",
    "[safe_mkdir(os.path.join(outdir,'test',category)) for category in categories];\n",
    "\n",
    "#cat_val = 8\n",
    "#cat_test = 9"
   ]
  },
  {
   "cell_type": "code",
   "execution_count": null,
   "id": "924d4e66",
   "metadata": {},
   "outputs": [
    {
     "name": "stderr",
     "output_type": "stream",
     "text": [
      " 31%|█████████████▋                              | 14/45 [05:10<09:50, 19.06s/it]"
     ]
    }
   ],
   "source": [
    "for c in tqdm( range( n ) ):\n",
    "    this_cat = categories[c]\n",
    "    files = os.listdir(os.path.join(dataset_dir,this_cat))\n",
    "    files.sort()\n",
    "    vid_nums = np.unique([int(file.replace(this_cat+'_','')[0:3]) for file in files])\n",
    "    vid_nums = vid_nums[0:10]\n",
    "    \n",
    "    for vid_num in vid_nums:\n",
    "        video_data = load_video(os.path.join(dataset_dir,this_cat,fn_temp.format(this_cat=this_cat,vid_num=vid_num))) # load video 360*640\n",
    "        nframes = video_data.shape[0]\n",
    "        video_data = resize(np.pad(video_data,((0,0),(140,140),(0,0),(0,0))),(nframes,224,224,3)) # resize to 244*244 (0-1 range)\n",
    "        video_data = (video_data*255).astype(np.uint8) # make into 0-255 uint\n",
    "\n",
    "        if vid_num==vid_nums[8]:\n",
    "            outdir_subfolder = os.path.join(outdir,'val',this_cat)\n",
    "        elif vid_num==vid_nums[9]:\n",
    "            outdir_subfolder = os.path.join(outdir,'test',this_cat)\n",
    "        else:\n",
    "            outdir_subfolder = os.path.join(outdir,'train',this_cat)    \n",
    "\n",
    "        # Save all frames\n",
    "        [Image.fromarray(video_data[f,:,:,:]).save(os.path.join(outdir_subfolder,f'{vid_num:03d}_{f:03d}.jpg')) for f in range(nframes)];"
   ]
  },
  {
   "cell_type": "code",
   "execution_count": null,
   "id": "8c7ad21d",
   "metadata": {},
   "outputs": [],
   "source": []
  },
  {
   "cell_type": "code",
   "execution_count": null,
   "id": "f0d9090b",
   "metadata": {},
   "outputs": [],
   "source": []
  },
  {
   "cell_type": "code",
   "execution_count": null,
   "id": "a0b1bc32",
   "metadata": {},
   "outputs": [],
   "source": []
  },
  {
   "cell_type": "code",
   "execution_count": null,
   "id": "a08778c8",
   "metadata": {},
   "outputs": [],
   "source": []
  },
  {
   "cell_type": "code",
   "execution_count": null,
   "id": "ab855151",
   "metadata": {},
   "outputs": [],
   "source": []
  },
  {
   "cell_type": "code",
   "execution_count": null,
   "id": "afcac27c",
   "metadata": {},
   "outputs": [],
   "source": []
  },
  {
   "cell_type": "code",
   "execution_count": null,
   "id": "56975212",
   "metadata": {},
   "outputs": [],
   "source": []
  },
  {
   "cell_type": "code",
   "execution_count": null,
   "id": "cf4171ed",
   "metadata": {},
   "outputs": [],
   "source": []
  },
  {
   "cell_type": "code",
   "execution_count": null,
   "id": "e7ddc26b",
   "metadata": {},
   "outputs": [],
   "source": []
  },
  {
   "cell_type": "code",
   "execution_count": null,
   "id": "83247f05",
   "metadata": {},
   "outputs": [],
   "source": []
  },
  {
   "cell_type": "code",
   "execution_count": null,
   "id": "00d87839",
   "metadata": {},
   "outputs": [],
   "source": []
  },
  {
   "cell_type": "code",
   "execution_count": null,
   "id": "5b3b31f8",
   "metadata": {},
   "outputs": [],
   "source": []
  },
  {
   "cell_type": "code",
   "execution_count": null,
   "id": "c827bcee",
   "metadata": {},
   "outputs": [],
   "source": []
  },
  {
   "cell_type": "code",
   "execution_count": null,
   "id": "582239e0",
   "metadata": {},
   "outputs": [],
   "source": []
  },
  {
   "cell_type": "code",
   "execution_count": null,
   "id": "d7eaab22",
   "metadata": {},
   "outputs": [],
   "source": []
  },
  {
   "cell_type": "code",
   "execution_count": null,
   "id": "fb649ef5",
   "metadata": {},
   "outputs": [],
   "source": []
  },
  {
   "cell_type": "code",
   "execution_count": null,
   "id": "dbe448f9",
   "metadata": {},
   "outputs": [],
   "source": []
  },
  {
   "cell_type": "code",
   "execution_count": null,
   "id": "7e796001",
   "metadata": {},
   "outputs": [],
   "source": []
  },
  {
   "cell_type": "code",
   "execution_count": null,
   "id": "fe557776",
   "metadata": {},
   "outputs": [],
   "source": []
  },
  {
   "cell_type": "code",
   "execution_count": null,
   "id": "bd7a92a2",
   "metadata": {},
   "outputs": [],
   "source": []
  },
  {
   "cell_type": "code",
   "execution_count": null,
   "id": "8680da41",
   "metadata": {},
   "outputs": [],
   "source": []
  },
  {
   "cell_type": "code",
   "execution_count": null,
   "id": "868dd107",
   "metadata": {},
   "outputs": [],
   "source": []
  }
 ],
 "metadata": {
  "kernelspec": {
   "display_name": "Python 3 (ipykernel)",
   "language": "python",
   "name": "python3"
  },
  "language_info": {
   "codemirror_mode": {
    "name": "ipython",
    "version": 3
   },
   "file_extension": ".py",
   "mimetype": "text/x-python",
   "name": "python",
   "nbconvert_exporter": "python",
   "pygments_lexer": "ipython3",
   "version": "3.8.5"
  }
 },
 "nbformat": 4,
 "nbformat_minor": 5
}
