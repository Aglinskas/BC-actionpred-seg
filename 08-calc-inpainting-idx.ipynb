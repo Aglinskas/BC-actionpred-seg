{
 "cells": [
  {
   "cell_type": "code",
   "execution_count": 1,
   "id": "88527656",
   "metadata": {},
   "outputs": [
    {
     "data": {
      "text/plain": [
       "'/mmfs1/data/aglinska/BC-actionpred-seg'"
      ]
     },
     "execution_count": 1,
     "metadata": {},
     "output_type": "execute_result"
    }
   ],
   "source": [
    "pwd"
   ]
  },
  {
   "cell_type": "code",
   "execution_count": 2,
   "id": "d52c4f38",
   "metadata": {},
   "outputs": [
    {
     "name": "stderr",
     "output_type": "stream",
     "text": [
      "/data/aglinska/anaconda3/lib/python3.8/site-packages/pandas/core/computation/expressions.py:20: UserWarning: Pandas requires version '2.7.3' or newer of 'numexpr' (version '2.7.1' currently installed).\n",
      "  from pandas.core.computation.check import NUMEXPR_INSTALLED\n"
     ]
    }
   ],
   "source": [
    "import os\n",
    "import PIL\n",
    "from PIL import Image,ImageFilter\n",
    "import matplotlib.pyplot as plt\n",
    "import seaborn as sns\n",
    "import numpy as np\n",
    "from tqdm import tqdm\n",
    "from scipy.ndimage.filters import gaussian_filter\n",
    "import os\n",
    "import shutil\n",
    "import random\n",
    "import cv2"
   ]
  },
  {
   "cell_type": "code",
   "execution_count": 3,
   "id": "cc011f98",
   "metadata": {},
   "outputs": [],
   "source": [
    "import skvideo\n",
    "import skvideo.io\n",
    "\n",
    "def load_video(fn):\n",
    "    videodata = skvideo.io.vread(fn)\n",
    "    return videodata"
   ]
  },
  {
   "cell_type": "code",
   "execution_count": 4,
   "id": "6358edff",
   "metadata": {},
   "outputs": [],
   "source": [
    "def get_mask_resized_num(targ,mask):\n",
    "    im2 = Image.fromarray((mask*255).astype(np.uint8)).resize(size=(targ[1],targ[0]), resample=PIL.Image.NEAREST)\n",
    "    return np.array(im2)"
   ]
  },
  {
   "cell_type": "code",
   "execution_count": 5,
   "id": "3b04cec9",
   "metadata": {},
   "outputs": [],
   "source": [
    "def inflate_mask(mask,radius=5):\n",
    "    mask_temp = Image.fromarray(mask).filter(ImageFilter.GaussianBlur(radius))\n",
    "    mask_temp = np.array(mask_temp)\n",
    "    mask_temp[mask_temp>0]=255\n",
    "    return mask_temp"
   ]
  },
  {
   "cell_type": "code",
   "execution_count": 6,
   "id": "b8a1c69f",
   "metadata": {},
   "outputs": [],
   "source": [
    "def plot_triple(mask1,mask2):\n",
    "    plt.figure(figsize=(15,5))\n",
    "    plt.subplot(1,3,1);plt.imshow(mask1,vmin=mask1.min(),vmax=mask1.max());plt.axis('off')\n",
    "    plt.subplot(1,3,2);plt.imshow(mask2/2,vmin=mask1.min(),vmax=mask1.max());plt.axis('off')\n",
    "    plt.subplot(1,3,3);plt.imshow(mask1+mask2/2,vmin=mask1.min(),vmax=mask1.max());plt.axis('off')\n",
    "    plt.tight_layout()"
   ]
  },
  {
   "cell_type": "code",
   "execution_count": 7,
   "id": "68f42c2d",
   "metadata": {},
   "outputs": [],
   "source": [
    "def random_jiggle_mask(all_mask,inteligent_random=True):\n",
    "    min_y, min_x = np.argwhere(all_mask).min(axis=0)\n",
    "    max_y, max_x = np.argwhere(all_mask).max(axis=0)\n",
    "    dist_x = max_x-min_x\n",
    "    dist_y = max_y-min_y\n",
    "    avail_x = np.arange(0,all_mask.shape[1]-dist_x)\n",
    "    avail_y = np.arange(0,all_mask.shape[0]-dist_y)\n",
    "    \n",
    "    #inteligent_random = True\n",
    "    if inteligent_random==True:\n",
    "        prob_x = np.ones(len(avail_x))\n",
    "        prob_x[((avail_x>=min_x-dist_x)*(avail_x<=max_x))]=.001\n",
    "\n",
    "        prob_y = np.ones(len(avail_y))\n",
    "        prob_y[((avail_y>=min_y)*(avail_y<=max_y))]=.001\n",
    "\n",
    "        choose_x = random.choices(avail_x,weights=prob_x,k=1)[0]\n",
    "        choose_y = random.choices(avail_y,weights=prob_y,k=1)[0]\n",
    "    else:        \n",
    "        choose_x = random.choice(avail_x)\n",
    "        choose_y = random.choice(avail_y)\n",
    "    \n",
    "    e_mask = np.zeros(all_mask.shape)\n",
    "    blob = all_mask[min_y:max_y,min_x:max_x]\n",
    "    e_mask[choose_y:choose_y+dist_y,choose_x:choose_x+dist_x] = blob\n",
    "    return e_mask.astype(np.uint8)"
   ]
  },
  {
   "cell_type": "code",
   "execution_count": 8,
   "id": "121a3d5f",
   "metadata": {},
   "outputs": [
    {
     "data": {
      "text/plain": [
       "'/data/aglinska/BC-actionpred-seg/Data/haa500_v1_1_yolo_seg4'"
      ]
     },
     "execution_count": 8,
     "metadata": {},
     "output_type": "execute_result"
    }
   ],
   "source": [
    "indir = '~/BC-actionpred-seg/Data/haa500_v1_1_yolo_seg4'\n",
    "indir = os.path.expanduser(indir)\n",
    "indir"
   ]
  },
  {
   "cell_type": "code",
   "execution_count": 9,
   "id": "1d839f06",
   "metadata": {},
   "outputs": [
    {
     "name": "stdout",
     "output_type": "stream",
     "text": [
      "499\n"
     ]
    },
    {
     "data": {
      "text/plain": [
       "['ALS_IceBucket_Challenge', 'CPR', 'abseiling']"
      ]
     },
     "execution_count": 9,
     "metadata": {},
     "output_type": "execute_result"
    }
   ],
   "source": [
    "folders = [folder for folder in os.listdir(indir) if not folder.startswith('.')]\n",
    "folders.sort()\n",
    "n = len(folders)\n",
    "print(n)\n",
    "folders[0:3]"
   ]
  },
  {
   "cell_type": "code",
   "execution_count": 10,
   "id": "c8e53384",
   "metadata": {},
   "outputs": [],
   "source": [
    "fn_temp = '{indir}/{folder}/{folder}_{video}_item_0_masks.npy'"
   ]
  },
  {
   "cell_type": "code",
   "execution_count": 11,
   "id": "ea3a5169",
   "metadata": {},
   "outputs": [
    {
     "name": "stdout",
     "output_type": "stream",
     "text": [
      "(20, 499)\n",
      "(0.8550100200400802, 8533)\n"
     ]
    },
    {
     "data": {
      "text/plain": [
       "<matplotlib.image.AxesImage at 0x155512e7be20>"
      ]
     },
     "execution_count": 11,
     "metadata": {},
     "output_type": "execute_result"
    },
    {
     "data": {
      "image/png": "[encoded data removed]",
      "text/plain": [
       "<Figure size 2000x1000 with 1 Axes>"
      ]
     },
     "metadata": {},
     "output_type": "display_data"
    }
   ],
   "source": [
    "#good_videos = np.load('good_videos.npy')\n",
    "good_videos = np.load('good_videos_1p.npy')\n",
    "print(good_videos.shape)\n",
    "print((good_videos.mean(),good_videos.sum()))\n",
    "plt.figure(figsize=np.array((10,5))*2)\n",
    "plt.imshow(good_videos)"
   ]
  },
  {
   "cell_type": "code",
   "execution_count": 12,
   "id": "59c4c909",
   "metadata": {},
   "outputs": [
    {
     "data": {
      "text/plain": [
       "[<matplotlib.lines.Line2D at 0x155510d55880>]"
      ]
     },
     "execution_count": 12,
     "metadata": {},
     "output_type": "execute_result"
    },
    {
     "data": {
      "image/png": "[encoded data removed]",
      "text/plain": [
       "<Figure size 2000x300 with 1 Axes>"
      ]
     },
     "metadata": {},
     "output_type": "display_data"
    }
   ],
   "source": [
    "plt.figure(figsize=np.array((20,3)))\n",
    "plt.plot(good_videos.sum(axis=0),'.')"
   ]
  },
  {
   "cell_type": "code",
   "execution_count": 13,
   "id": "8c09d006",
   "metadata": {},
   "outputs": [],
   "source": [
    "good_videos[:,good_videos.sum(axis=0)<20] = False"
   ]
  },
  {
   "cell_type": "code",
   "execution_count": 14,
   "id": "877b0d43",
   "metadata": {},
   "outputs": [],
   "source": [
    "# good_videos[:,good_videos.sum(axis=0)<15] = False\n",
    "# good_videos[15:20,:] = False"
   ]
  },
  {
   "cell_type": "code",
   "execution_count": 15,
   "id": "f5f13bdb",
   "metadata": {},
   "outputs": [
    {
     "data": {
      "text/plain": [
       "<matplotlib.image.AxesImage at 0x155510d3d070>"
      ]
     },
     "execution_count": 15,
     "metadata": {},
     "output_type": "execute_result"
    },
    {
     "data": {
      "image/png": "[encoded data removed]",
      "text/plain": [
       "<Figure size 2000x1000 with 1 Axes>"
      ]
     },
     "metadata": {},
     "output_type": "display_data"
    }
   ],
   "source": [
    "plt.figure(figsize=np.array((10,5))*2)\n",
    "plt.imshow(good_videos)"
   ]
  },
  {
   "cell_type": "code",
   "execution_count": 16,
   "id": "6f23932b",
   "metadata": {},
   "outputs": [
    {
     "name": "stdout",
     "output_type": "stream",
     "text": [
      "0.40681362725450904 4060\n"
     ]
    }
   ],
   "source": [
    "print(good_videos.mean(),good_videos.sum())"
   ]
  },
  {
   "cell_type": "code",
   "execution_count": null,
   "id": "4f2aa60c",
   "metadata": {},
   "outputs": [],
   "source": []
  },
  {
   "cell_type": "code",
   "execution_count": 17,
   "id": "59ca1e36",
   "metadata": {},
   "outputs": [
    {
     "name": "stdout",
     "output_type": "stream",
     "text": [
      "(4060, 360, 640)\n",
      "(4060,)\n",
      "(4060, 360, 640)\n"
     ]
    }
   ],
   "source": [
    "###\n",
    "\n",
    "calc_or_load = 'load'\n",
    "\n",
    "if calc_or_load=='calc':\n",
    "\n",
    "    fn_temp = '{indir}/{folder}/{folder}_{video}_item_0_masks.npy'\n",
    "    pad_fn_temp = './Data/haa500_v1_1_resized/video/{folder}/{folder}_{video}_padding.npy'\n",
    "\n",
    "    fns = []\n",
    "    masks = []\n",
    "    paddings = []\n",
    "\n",
    "    for f in tqdm(range(good_videos.shape[1])):\n",
    "        for v in range(good_videos.shape[0]):\n",
    "            if bool(good_videos[v,f])==True:\n",
    "                fn = fn_temp.format(indir=indir,folder=folders[f],video=f'{v:03d}')\n",
    "\n",
    "                mask = np.load(fn)\n",
    "                mask = inflate_mask((( mask.sum(axis=0) >0 )*255).astype(np.uint8),radius=15)\n",
    "                mask = get_mask_resized_num((360, 640),mask)\n",
    "\n",
    "\n",
    "                pad_fn = pad_fn_temp.format(folder=folders[f],video=f'{v:03d}')\n",
    "                pad = np.load(pad_fn)\n",
    "\n",
    "                fns.append(fn)\n",
    "                masks.append(mask)\n",
    "                paddings.append(pad)\n",
    "                \n",
    "                \n",
    "    \n",
    "    \n",
    "    \n",
    "    masks = np.array(masks)\n",
    "    fns = np.array(fns)\n",
    "    paddings = (np.array(paddings)==0)*1\n",
    "    #paddings = np.array(paddings)\n",
    "    \n",
    "    np.savez_compressed('./Data/data_good_videos_1p_masks.npz',arr=masks)\n",
    "    np.savez_compressed('./Data/data_good_videos_1p_fns.npz',arr=fns)\n",
    "    np.savez_compressed('./Data/data_good_videos_1p_paddings.npz',arr=paddings)\n",
    "    #np.savez_compressed('./Data/data_good_videos_1p.npz',masks=masks,fns=fns,paddings=paddings)\n",
    "    \n",
    "elif calc_or_load=='load':\n",
    "    \n",
    "    masks = np.load('./Data/data_good_videos_1p_masks.npz')['arr']\n",
    "    fns = np.load('./Data/data_good_videos_1p_fns.npz')['arr']\n",
    "    paddings = np.load('./Data/data_good_videos_1p_paddings.npz')['arr']\n",
    "    \n",
    "    #a = np.load('./Data/data_good_videos_1p.npz')\n",
    "    ## TODO fix loading\n",
    "    #masks = a['masks']\n",
    "    #fns = a['fns']\n",
    "    #paddings = a['paddings']\n",
    "    #paddings = (paddings==0)*1\n",
    "\n",
    "    #del a\n",
    "    \n",
    "    print(masks.shape)\n",
    "    print(fns.shape)\n",
    "    print(paddings.shape)"
   ]
  },
  {
   "cell_type": "code",
   "execution_count": 18,
   "id": "d1741817",
   "metadata": {},
   "outputs": [
    {
     "data": {
      "text/plain": [
       "(4060, 360, 640)"
      ]
     },
     "execution_count": 18,
     "metadata": {},
     "output_type": "execute_result"
    }
   ],
   "source": [
    "masks.shape"
   ]
  },
  {
   "cell_type": "code",
   "execution_count": 19,
   "id": "a66fd6d2",
   "metadata": {},
   "outputs": [
    {
     "data": {
      "text/plain": [
       "(4060, 360, 640)"
      ]
     },
     "execution_count": 19,
     "metadata": {},
     "output_type": "execute_result"
    }
   ],
   "source": [
    "paddings.shape"
   ]
  },
  {
   "cell_type": "code",
   "execution_count": 20,
   "id": "3357bb19",
   "metadata": {},
   "outputs": [
    {
     "data": {
      "text/plain": [
       "<matplotlib.image.AxesImage at 0x15531af830d0>"
      ]
     },
     "execution_count": 20,
     "metadata": {},
     "output_type": "execute_result"
    },
    {
     "data": {
      "image/png": "[encoded data removed]",
      "text/plain": [
       "<Figure size 1500x500 with 3 Axes>"
      ]
     },
     "metadata": {},
     "output_type": "display_data"
    }
   ],
   "source": [
    "plt.figure(figsize=(15,5))\n",
    "plt.subplot(1,3,1);plt.imshow(masks.mean(axis=0))\n",
    "plt.subplot(1,3,2);plt.imshow(paddings.max(axis=0))\n",
    "plt.subplot(1,3,3);plt.imshow(paddings.mean(axis=0))\n",
    "#plt.show()"
   ]
  },
  {
   "cell_type": "code",
   "execution_count": 21,
   "id": "0c5ddbe0",
   "metadata": {},
   "outputs": [],
   "source": [
    "perc = [((masks[i,:,:]+paddings[i,:,:])==0).sum() / (360*640) for i in range(masks.shape[0])]"
   ]
  },
  {
   "cell_type": "code",
   "execution_count": 25,
   "id": "8fe810e9",
   "metadata": {},
   "outputs": [
    {
     "data": {
      "text/plain": [
       "0.5839219434181717"
      ]
     },
     "execution_count": 25,
     "metadata": {},
     "output_type": "execute_result"
    }
   ],
   "source": [
    "np.array(perc).mean()"
   ]
  },
  {
   "cell_type": "code",
   "execution_count": 47,
   "id": "e5989b16",
   "metadata": {},
   "outputs": [],
   "source": [
    "# %%time\n",
    "# filled_spots = np.load('./Data/data_inpainting_idx_filled_spots.npz')['arr']\n",
    "# spots_found_for = np.load('./Data/data_inpainting_idx_spots_found_for.npz')['arr']\n",
    "# where_to_inpaint_idx = np.load('./Data/data_inpainting_idx_where_to_inpaint_idx.npz')['arr']\n",
    "# masks_to_inpain = np.load('./Data/data_inpainting_idx_masks_to_inpain.npz')['arr']"
   ]
  },
  {
   "cell_type": "code",
   "execution_count": null,
   "id": "b1f977cd",
   "metadata": {},
   "outputs": [],
   "source": [
    "calc_or_load_inpaint_idx = 'continue'\n",
    "\n",
    "if calc_or_load_inpaint_idx == 'calc':\n",
    "    \n",
    "    n = masks.shape[0]\n",
    "    filled_spots = np.repeat(False,n)\n",
    "    spots_found_for = np.repeat(False,n)\n",
    "    where_to_inpaint_idx = np.zeros(n)\n",
    "    masks_to_inpaint = np.zeros(masks.shape) # To keep the jiggled masks \n",
    "\n",
    "    plt.ioff()\n",
    "    for i in tqdm(range(n)):\n",
    "        this_mask = masks[i,:,:] # grab a mask\n",
    "        \n",
    "        for rr in range(50): #V2.0 jiggle a hundo times\n",
    "            this_mask = random_jiggle_mask(this_mask,inteligent_random=False) # V2.0 Jiggle the mask \n",
    "\n",
    "            ## N.B if comp is <1.0 or <255\n",
    "            where_fits = np.array( [(  this_mask.astype(float)+masks[j,:,:].astype(float)+paddings[j,:,:].astype(float)   ).max()   <=1.0 for j in range(n)] ) # Teh l33t alg0\n",
    "            where_fits[filled_spots] = False # Make sure not already filles\n",
    "\n",
    "            if where_fits.sum()>0:\n",
    "                #print('triggered')\n",
    "                where_fits_idx = np.nonzero(where_fits)[0]\n",
    "                temp = np.argsort([    ((this_mask.astype(float)+masks[j,:,:].astype(float)+paddings[j,:,:].astype(float))==0).sum()       for j in where_fits_idx])[0]\n",
    "                where_fits_choose = where_fits_idx[temp]\n",
    "\n",
    "                # Bookkeeping\n",
    "                filled_spots[where_fits_choose] = True\n",
    "                spots_found_for[i]=True\n",
    "                where_to_inpaint_idx[i] = where_fits_choose\n",
    "                masks_to_inpaint[i,:,:] = this_mask # V2.0\n",
    "\n",
    "                plot_triple(this_mask,masks[where_fits_choose,:,:]+paddings[where_fits_choose,:,:])\n",
    "                plt.savefig(f'./Data/inpaint-triplet-figs/{i:04d}.png')\n",
    "                plt.close()\n",
    "                \n",
    "                break # If found a spot, break out of the for loop\n",
    "                \n",
    "            if np.mod(i,100)==0:\n",
    "                np.savez_compressed('./Data/data_inpainting_idx_filled_spots.npz',arr=filled_spots)\n",
    "                np.savez_compressed('./Data/data_inpainting_idx_spots_found_for.npz',arr=spots_found_for)\n",
    "                np.savez_compressed('./Data/data_inpainting_idx_where_to_inpaint_idx.npz',arr=where_to_inpaint_idx)\n",
    "                np.savez_compressed('./Data/data_inpainting_idx_masks_to_inpain.npz',arr=masks_to_inpaint)\n",
    "\n",
    "    print('saving')\n",
    "    #np.savez_compressed('./Data/data_inpainting_idx.npz',filled_spots=filled_spots,spots_found_for=spots_found_for,where_to_inpaint_idx=where_to_inpaint_idx,masks_to_inpain=masks_to_inpaint)\n",
    "    np.savez_compressed('./Data/data_inpainting_idx_filled_spots.npz',arr=filled_spots)\n",
    "    np.savez_compressed('./Data/data_inpainting_idx_spots_found_for.npz',arr=spots_found_for)\n",
    "    np.savez_compressed('./Data/data_inpainting_idx_where_to_inpaint_idx.npz',arr=where_to_inpaint_idx)\n",
    "    np.savez_compressed('./Data/data_inpainting_idx_masks_to_inpain.npz',arr=masks_to_inpaint)\n",
    "    print('done')\n",
    "    \n",
    "elif calc_or_load_inpaint_idx == 'load':\n",
    "\n",
    "    filled_spots = np.load('./Data/data_inpainting_idx_filled_spots.npz')['arr']\n",
    "    spots_found_for = np.load('./Data/data_inpainting_idx_spots_found_for.npz')['arr']\n",
    "    where_to_inpaint_idx = np.load('./Data/data_inpainting_idx_where_to_inpaint_idx.npz')['arr']\n",
    "    masks_to_inpain = np.load('./Data/data_inpainting_idx_masks_to_inpain.npz')['arr']\n",
    "\n",
    "    \n",
    "elif calc_or_load_inpaint_idx == 'continue':\n",
    "    \n",
    "    n = masks.shape[0]\n",
    "    filled_spots = np.load('./Data/data_inpainting_idx_filled_spots.npz')['arr']\n",
    "    spots_found_for = np.load('./Data/data_inpainting_idx_spots_found_for.npz')['arr']\n",
    "    where_to_inpaint_idx = np.load('./Data/data_inpainting_idx_where_to_inpaint_idx.npz')['arr']\n",
    "    masks_to_inpaint = np.load('./Data/data_inpainting_idx_masks_to_inpain.npz')['arr']\n",
    "    start_point = spots_found_for.nonzero()[0].max()\n",
    "    \n",
    "    plt.ioff()\n",
    "    for i in tqdm(range(start_point,n)):\n",
    "        this_mask = masks[i,:,:] # grab a mask\n",
    "        \n",
    "        for rr in range(50): #V2.0 jiggle a hundo times\n",
    "            this_mask = random_jiggle_mask(this_mask,inteligent_random=False) # V2.0 Jiggle the mask \n",
    "\n",
    "            ## N.B if comp is <1.0 or <255\n",
    "            where_fits = np.array( [(  this_mask.astype(float)+masks[j,:,:].astype(float)+paddings[j,:,:].astype(float)   ).max()   <=1.0 for j in range(n)] ) # Teh l33t alg0\n",
    "            where_fits[filled_spots] = False # Make sure not already filles\n",
    "\n",
    "            if where_fits.sum()>0:\n",
    "                #print('triggered')\n",
    "                where_fits_idx = np.nonzero(where_fits)[0]\n",
    "                temp = np.argsort([    ((this_mask.astype(float)+masks[j,:,:].astype(float)+paddings[j,:,:].astype(float))==0).sum()       for j in where_fits_idx])[0]\n",
    "                where_fits_choose = where_fits_idx[temp]\n",
    "\n",
    "                # Bookkeeping\n",
    "                filled_spots[where_fits_choose] = True\n",
    "                spots_found_for[i]=True\n",
    "                where_to_inpaint_idx[i] = where_fits_choose\n",
    "                masks_to_inpaint[i,:,:] = this_mask # V2.0\n",
    "\n",
    "                plot_triple(this_mask,masks[where_fits_choose,:,:]+paddings[where_fits_choose,:,:])\n",
    "                plt.savefig(f'./Data/inpaint-triplet-figs/{i:04d}.png')\n",
    "                plt.close()\n",
    "                \n",
    "                break # If found a spot, break out of the for loop\n",
    "                \n",
    "        if np.mod(i,500)==0:\n",
    "            np.savez_compressed('./Data/data_inpainting_idx_filled_spots.npz',arr=filled_spots)\n",
    "            np.savez_compressed('./Data/data_inpainting_idx_spots_found_for.npz',arr=spots_found_for)\n",
    "            np.savez_compressed('./Data/data_inpainting_idx_where_to_inpaint_idx.npz',arr=where_to_inpaint_idx)\n",
    "            np.savez_compressed('./Data/data_inpainting_idx_masks_to_inpain.npz',arr=masks_to_inpaint)\n",
    "\n",
    "    print('saving')\n",
    "    #np.savez_compressed('./Data/data_inpainting_idx.npz',filled_spots=filled_spots,spots_found_for=spots_found_for,where_to_inpaint_idx=where_to_inpaint_idx,masks_to_inpain=masks_to_inpaint)\n",
    "    np.savez_compressed('./Data/data_inpainting_idx_filled_spots.npz',arr=filled_spots)\n",
    "    np.savez_compressed('./Data/data_inpainting_idx_spots_found_for.npz',arr=spots_found_for)\n",
    "    np.savez_compressed('./Data/data_inpainting_idx_where_to_inpaint_idx.npz',arr=where_to_inpaint_idx)\n",
    "    np.savez_compressed('./Data/data_inpainting_idx_masks_to_inpain.npz',arr=masks_to_inpaint)\n",
    "    print('done')"
   ]
  },
  {
   "cell_type": "code",
   "execution_count": 31,
   "id": "294a22b7",
   "metadata": {},
   "outputs": [
    {
     "name": "stdout",
     "output_type": "stream",
     "text": [
      "73.86%\n"
     ]
    }
   ],
   "source": [
    "import numpy as np\n",
    "import os\n",
    "from matplotlib import pyplot as plt\n",
    "\n",
    "a = [int(f.replace('.png','')) for f in os.listdir('./Data/inpaint-triplet-figs') if f.endswith('.png')]\n",
    "a.sort()\n",
    "a = np.array(a)\n",
    "print(f'{a.shape[0]/a.max()*100:.2f}%')"
   ]
  },
  {
   "cell_type": "code",
   "execution_count": null,
   "id": "5e2c6ce3",
   "metadata": {},
   "outputs": [],
   "source": []
  },
  {
   "cell_type": "code",
   "execution_count": null,
   "id": "8eef70fc",
   "metadata": {},
   "outputs": [],
   "source": []
  },
  {
   "cell_type": "code",
   "execution_count": null,
   "id": "d81bef0d",
   "metadata": {},
   "outputs": [],
   "source": []
  }
 ],
 "metadata": {
  "kernelspec": {
   "display_name": "Python 3 (ipykernel)",
   "language": "python",
   "name": "python3"
  },
  "language_info": {
   "codemirror_mode": {
    "name": "ipython",
    "version": 3
   },
   "file_extension": ".py",
   "mimetype": "text/x-python",
   "name": "python",
   "nbconvert_exporter": "python",
   "pygments_lexer": "ipython3",
   "version": "3.8.5"
  }
 },
 "nbformat": 4,
 "nbformat_minor": 5
}
