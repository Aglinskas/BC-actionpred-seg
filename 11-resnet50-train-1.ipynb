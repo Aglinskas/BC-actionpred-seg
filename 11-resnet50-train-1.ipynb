{
 "cells": [
  {
   "cell_type": "code",
   "execution_count": 1,
   "metadata": {},
   "outputs": [],
   "source": [
    "from PIL import Image\n",
    "from tqdm import tqdm\n",
    "import torch\n",
    "import torch.nn as nn\n",
    "import torch.optim as optim\n",
    "from torch.optim import lr_scheduler\n",
    "import torch.backends.cudnn as cudnn\n",
    "import numpy as np\n",
    "import torchvision\n",
    "from torchvision import datasets, models, transforms\n",
    "import matplotlib.pyplot as plt\n",
    "import time\n",
    "import os\n",
    "import copy\n",
    "import random\n",
    "cudnn.benchmark = True\n",
    "plt.ion()   # interactive m"
   ]
  },
  {
   "cell_type": "code",
   "execution_count": 2,
   "metadata": {},
   "outputs": [],
   "source": [
    "from torchvision.models import resnet50\n",
    "from torch.utils.data import Dataset, DataLoader\n",
    "#from torchvision.models import resnet50, ResNet50_Weights\n"
   ]
  },
  {
   "cell_type": "code",
   "execution_count": 3,
   "metadata": {},
   "outputs": [
    {
     "data": {
      "text/plain": [
       "device(type='cuda', index=0)"
      ]
     },
     "execution_count": 3,
     "metadata": {},
     "output_type": "execute_result"
    }
   ],
   "source": [
    "device = torch.device(\"cuda:0\" if torch.cuda.is_available() else \"cpu\")\n",
    "device"
   ]
  },
  {
   "cell_type": "code",
   "execution_count": 4,
   "metadata": {},
   "outputs": [
    {
     "data": {
      "text/plain": [
       "'Tesla V100-SXM2-16GB'"
      ]
     },
     "execution_count": 4,
     "metadata": {},
     "output_type": "execute_result"
    }
   ],
   "source": [
    "torch.cuda.get_device_name(0)"
   ]
  },
  {
   "cell_type": "code",
   "execution_count": 14,
   "metadata": {},
   "outputs": [],
   "source": [
    "class HAA_dataset(Dataset):\n",
    "    \"Video frame Dataset\"\n",
    "    def __init__(self,data_dir,usage='train'):\n",
    "        self.data_dir = data_dir\n",
    "        self.categories = os.listdir(self.data_dir)\n",
    "        self.categories.sort()\n",
    "        self.n_cat = len(self.categories)\n",
    "        self.usage = usage\n",
    "        \n",
    "        if self.usage=='train':\n",
    "            seed = np.random.randint(2147483647) \n",
    "            random.seed(seed) \n",
    "            torch.manual_seed(seed)\n",
    "            np.random.seed(seed)\n",
    "        else:\n",
    "            seed = 42\n",
    "            random.seed(seed) \n",
    "            torch.manual_seed(seed)\n",
    "            np.random.seed(seed)\n",
    "        \n",
    "        frames = []\n",
    "        for category in self.categories:\n",
    "            folder_frames = [frame for frame in os.listdir(os.path.join(data_dir,category)) if not frame.startswith('.')]\n",
    "            folder_frames.sort()\n",
    "            frames.append(folder_frames)\n",
    "        self.frames = frames\n",
    "        \n",
    "        self.Ts = transforms.Compose([transforms.ColorJitter(brightness=.3, contrast=.3, saturation=.3, hue=.3),\n",
    "        transforms.GaussianBlur(kernel_size=(5,9), sigma=(0.1, 2.0))])\n",
    "        \n",
    "    def __len__(self):\n",
    "        return 10_000 # \n",
    "        \n",
    "    def __getitem__(self, idx):\n",
    "        \n",
    "        #data_dir = './Data/pytorch-data/action_data_orig/train'\n",
    "        self.rand_cat = np.random.randint(low=0,high=self.n_cat)\n",
    "        self.rand_frame = np.random.randint(low=0,high=len(self.frames[self.rand_cat]))\n",
    "        fn = os.path.join(self.data_dir,self.categories[self.rand_cat],self.frames[self.rand_cat][self.rand_frame])\n",
    "        im = Image.open(fn)\n",
    "        im = Ts(im)\n",
    "        im = np.array(im)\n",
    "        im = im/255\n",
    "        im = im.swapaxes(2,1).swapaxes(0,1)\n",
    "        \n",
    "        #sample = {'image': torch.from_numpy(image).float(), 'label': torch.from_numpy(label).float()}  # make a dict with the image and the correct label\n",
    "        sample = {'image': torch.from_numpy(im).float(), 'label': torch.from_numpy(np.array([self.rand_cat])).float()}  # make a dict with the image and the correct label\n",
    "        return sample\n",
    "    \n",
    "    \n",
    "    def get_im(self,rand_cat):\n",
    "        self.rand_cat = rand_cat\n",
    "        self.rand_frame = np.random.randint(low=0,high=len(self.frames[self.rand_cat]))\n",
    "        fn = os.path.join(self.data_dir,self.categories[self.rand_cat],self.frames[self.rand_cat][self.rand_frame])\n",
    "        im = Image.open(fn)\n",
    "        im = self.Ts(im)\n",
    "        im = np.array(im)\n",
    "        im = im/255\n",
    "        im = im.swapaxes(2,1).swapaxes(0,1)\n",
    "        \n",
    "        return im\n",
    "    \n",
    "    def get_batch(self,batch_size):\n",
    "        self.this_batch_cats = np.random.randint(low=0,high=self.n_cat,size=batch_size)\n",
    "        self.this_batch_cats = np.array(self.this_batch_cats)\n",
    "        self.this_batch_im = [self.get_im(i) for i in self.this_batch_cats]\n",
    "        self.this_batch_im = np.array(self.this_batch_im)\n",
    "        sample = {'image': torch.from_numpy(self.this_batch_im).float(), 'label': torch.from_numpy(self.this_batch_cats).float()}  # make a dict with the image and the correct label\n",
    "        return sample"
   ]
  },
  {
   "cell_type": "code",
   "execution_count": 15,
   "metadata": {},
   "outputs": [],
   "source": [
    "def get_acc(which_dataset):\n",
    "    net.eval();\n",
    "    \n",
    "    ncat = 45\n",
    "    nrep = 10\n",
    "    test_res = np.zeros((nrep,ncat))\n",
    "    \n",
    "    for c in range(ncat):\n",
    "        for rep in range(nrep):\n",
    "            test_im = torch.from_numpy(which_dataset.get_im(c)[np.newaxis,:,:,:]).half().cuda()\n",
    "            test_pred = net(test_im)\n",
    "            test_pred = np.array(test_pred.cpu().detach().numpy())[0,:]\n",
    "            test_res[rep,c] = np.argmax(test_pred)==c\n",
    "        \n",
    "    return test_res.mean(axis=0).mean()"
   ]
  },
  {
   "cell_type": "code",
   "execution_count": 16,
   "metadata": {},
   "outputs": [],
   "source": [
    "data_dir = './Data/pytorch-data/action_data_orig/train'\n",
    "train_dataset = HAA_dataset(data_dir,usage='train')"
   ]
  },
  {
   "cell_type": "code",
   "execution_count": 17,
   "metadata": {},
   "outputs": [],
   "source": [
    "val_dataset = HAA_dataset('./Data/pytorch-data/action_data_orig/val',usage='val')\n",
    "test_dataset = HAA_dataset('./Data/pytorch-data/action_data_orig/val',usage='test')"
   ]
  },
  {
   "cell_type": "code",
   "execution_count": 18,
   "metadata": {},
   "outputs": [],
   "source": [
    "net = resnet50()\n",
    "net.fc = nn.Linear(net.fc.in_features,train_dataset.n_cat)\n",
    "\n",
    "net = net.to(device)\n",
    "net = net.half()"
   ]
  },
  {
   "cell_type": "code",
   "execution_count": null,
   "metadata": {},
   "outputs": [],
   "source": []
  },
  {
   "cell_type": "code",
   "execution_count": 19,
   "metadata": {},
   "outputs": [],
   "source": [
    "criterion = nn.CrossEntropyLoss()                                 # specify the loss function\n",
    "optimizer = optim.SGD(net.parameters(), lr=0.001, momentum=0.9)     # specify the optimizer"
   ]
  },
  {
   "cell_type": "code",
   "execution_count": 20,
   "metadata": {},
   "outputs": [],
   "source": [
    "#val_data = val_dataset.get_batch(64)\n",
    "val_data = val_dataset.get_batch(32)\n",
    "val_images = val_data['image'].half()\n",
    "val_labels = val_data['label'].half()\n",
    "tmp = []\n",
    "tmp = torch.squeeze(val_labels.long())\n",
    "val_images, val_labels = val_images.cuda(),  tmp.cuda()"
   ]
  },
  {
   "cell_type": "code",
   "execution_count": 21,
   "metadata": {},
   "outputs": [
    {
     "name": "stdout",
     "output_type": "stream",
     "text": [
      "epoch [0], train loss 3.97, ValLoss [5.21], ValAcc [0.0089], TrainAcc [0.0289]\n",
      "epoch [1], train loss 3.94, ValLoss [4.33], ValAcc [0.0156], TrainAcc [0.0244]\n",
      "epoch [2], train loss 3.94, ValLoss [4.25], ValAcc [0.0267], TrainAcc [0.0244]\n",
      "epoch [3], train loss 3.94, ValLoss [4.36], ValAcc [0.0267], TrainAcc [0.0311]\n",
      "epoch [4], train loss 3.90, ValLoss [4.11], ValAcc [0.0244], TrainAcc [0.0444]\n",
      "epoch [5], train loss 3.88, ValLoss [4.39], ValAcc [0.0200], TrainAcc [0.0356]\n",
      "epoch [6], train loss 3.84, ValLoss [4.08], ValAcc [0.0422], TrainAcc [0.0378]\n",
      "epoch [7], train loss 3.83, ValLoss [4.25], ValAcc [0.0178], TrainAcc [0.0400]\n",
      "epoch [8], train loss 3.81, ValLoss [4.00], ValAcc [0.0200], TrainAcc [0.0733]\n",
      "epoch [9], train loss 3.78, ValLoss [3.88], ValAcc [0.0356], TrainAcc [0.0467]\n",
      "epoch [10], train loss 3.77, ValLoss [4.12], ValAcc [0.0267], TrainAcc [0.0556]\n",
      "epoch [11], train loss 3.73, ValLoss [3.80], ValAcc [0.0311], TrainAcc [0.0778]\n",
      "epoch [12], train loss 3.66, ValLoss [3.84], ValAcc [0.0111], TrainAcc [0.0867]\n",
      "epoch [13], train loss 3.59, ValLoss [3.85], ValAcc [0.0200], TrainAcc [0.1089]\n",
      "epoch [14], train loss 3.62, ValLoss [3.89], ValAcc [0.0422], TrainAcc [0.1378]\n",
      "epoch [15], train loss 3.51, ValLoss [3.67], ValAcc [0.0511], TrainAcc [0.1133]\n",
      "epoch [16], train loss 3.47, ValLoss [3.72], ValAcc [0.0400], TrainAcc [0.1711]\n",
      "epoch [17], train loss 3.38, ValLoss [3.71], ValAcc [0.0444], TrainAcc [0.1467]\n",
      "epoch [18], train loss 3.32, ValLoss [3.75], ValAcc [0.0689], TrainAcc [0.1844]\n",
      "epoch [19], train loss 3.29, ValLoss [3.59], ValAcc [0.0378], TrainAcc [0.1489]\n",
      "epoch [20], train loss 3.26, ValLoss [3.72], ValAcc [0.0289], TrainAcc [0.1600]\n",
      "epoch [21], train loss 3.16, ValLoss [3.82], ValAcc [0.0222], TrainAcc [0.1978]\n",
      "epoch [22], train loss 3.08, ValLoss [3.69], ValAcc [0.0400], TrainAcc [0.2133]\n",
      "epoch [23], train loss 2.99, ValLoss [3.57], ValAcc [0.0422], TrainAcc [0.2133]\n",
      "epoch [24], train loss 2.90, ValLoss [3.60], ValAcc [0.0600], TrainAcc [0.2356]\n",
      "epoch [25], train loss 2.88, ValLoss [3.61], ValAcc [0.0622], TrainAcc [0.2556]\n",
      "epoch [26], train loss 2.82, ValLoss [3.98], ValAcc [0.0667], TrainAcc [0.2622]\n",
      "epoch [27], train loss 2.71, ValLoss [3.57], ValAcc [0.0378], TrainAcc [0.2644]\n",
      "epoch [28], train loss 2.67, ValLoss [3.63], ValAcc [0.0622], TrainAcc [0.3378]\n",
      "epoch [29], train loss 2.57, ValLoss [3.70], ValAcc [0.0578], TrainAcc [0.3622]\n",
      "epoch [30], train loss 2.50, ValLoss [3.49], ValAcc [0.0444], TrainAcc [0.4200]\n",
      "epoch [31], train loss 2.40, ValLoss [3.51], ValAcc [0.0400], TrainAcc [0.4400]\n",
      "epoch [32], train loss 2.32, ValLoss [3.65], ValAcc [0.0511], TrainAcc [0.4333]\n",
      "epoch [33], train loss 2.26, ValLoss [3.69], ValAcc [0.0711], TrainAcc [0.4867]\n",
      "epoch [34], train loss 2.14, ValLoss [3.94], ValAcc [0.0822], TrainAcc [0.4178]\n",
      "epoch [35], train loss 2.06, ValLoss [3.81], ValAcc [0.0356], TrainAcc [0.4889]\n",
      "epoch [36], train loss 1.90, ValLoss [3.81], ValAcc [0.0622], TrainAcc [0.3867]\n",
      "epoch [37], train loss 1.79, ValLoss [3.72], ValAcc [0.0378], TrainAcc [0.5911]\n",
      "epoch [38], train loss 1.73, ValLoss [4.05], ValAcc [0.0533], TrainAcc [0.5733]\n",
      "epoch [39], train loss 1.60, ValLoss [3.77], ValAcc [0.0689], TrainAcc [0.6756]\n",
      "epoch [40], train loss 1.55, ValLoss [3.57], ValAcc [0.0867], TrainAcc [0.6356]\n",
      "epoch [41], train loss 1.42, ValLoss [3.93], ValAcc [0.0711], TrainAcc [0.6667]\n",
      "epoch [42], train loss 1.31, ValLoss [3.96], ValAcc [0.0556], TrainAcc [0.6911]\n",
      "epoch [43], train loss 1.21, ValLoss [3.92], ValAcc [0.0578], TrainAcc [0.7533]\n",
      "epoch [44], train loss 1.19, ValLoss [4.06], ValAcc [0.0622], TrainAcc [0.7756]\n",
      "epoch [45], train loss 1.02, ValLoss [3.85], ValAcc [0.0867], TrainAcc [0.7622]\n",
      "epoch [46], train loss 0.94, ValLoss [4.00], ValAcc [0.0778], TrainAcc [0.8222]\n",
      "epoch [47], train loss 0.97, ValLoss [4.14], ValAcc [0.0778], TrainAcc [0.8111]\n",
      "epoch [48], train loss 0.79, ValLoss [4.24], ValAcc [0.0822], TrainAcc [0.8356]\n",
      "epoch [49], train loss 0.78, ValLoss [4.39], ValAcc [0.0689], TrainAcc [0.8489]\n",
      "epoch [50], train loss 0.69, ValLoss [3.96], ValAcc [0.1133], TrainAcc [0.8889]\n",
      "epoch [51], train loss 0.67, ValLoss [4.05], ValAcc [0.0644], TrainAcc [0.9267]\n",
      "epoch [52], train loss 0.62, ValLoss [4.23], ValAcc [0.0867], TrainAcc [0.9178]\n",
      "epoch [53], train loss 0.57, ValLoss [4.45], ValAcc [0.0867], TrainAcc [0.9089]\n",
      "epoch [54], train loss 0.52, ValLoss [4.11], ValAcc [0.1200], TrainAcc [0.9289]\n",
      "epoch [55], train loss 0.44, ValLoss [4.14], ValAcc [0.0622], TrainAcc [0.9444]\n",
      "epoch [56], train loss 0.39, ValLoss [4.38], ValAcc [0.0889], TrainAcc [0.9622]\n",
      "epoch [57], train loss 0.37, ValLoss [4.41], ValAcc [0.1044], TrainAcc [0.9600]\n",
      "epoch [58], train loss 0.37, ValLoss [4.30], ValAcc [0.0822], TrainAcc [0.9600]\n",
      "epoch [59], train loss 0.34, ValLoss [4.54], ValAcc [0.0578], TrainAcc [0.9511]\n",
      "epoch [60], train loss 0.29, ValLoss [4.46], ValAcc [0.0956], TrainAcc [0.9778]\n",
      "epoch [61], train loss 0.28, ValLoss [4.36], ValAcc [0.0756], TrainAcc [0.9867]\n",
      "epoch [62], train loss 0.27, ValLoss [4.44], ValAcc [0.0889], TrainAcc [0.9644]\n",
      "epoch [63], train loss 0.23, ValLoss [4.45], ValAcc [0.0889], TrainAcc [0.9822]\n",
      "epoch [64], train loss 0.24, ValLoss [4.46], ValAcc [0.0822], TrainAcc [0.9889]\n",
      "epoch [65], train loss 0.20, ValLoss [4.24], ValAcc [0.0733], TrainAcc [0.9778]\n",
      "epoch [66], train loss 0.18, ValLoss [4.40], ValAcc [0.0756], TrainAcc [0.9911]\n",
      "epoch [67], train loss 0.16, ValLoss [4.28], ValAcc [0.1022], TrainAcc [0.9867]\n",
      "epoch [68], train loss 0.18, ValLoss [4.64], ValAcc [0.0956], TrainAcc [0.9867]\n",
      "epoch [69], train loss 0.16, ValLoss [4.54], ValAcc [0.1022], TrainAcc [0.9911]\n",
      "epoch [70], train loss 0.17, ValLoss [4.24], ValAcc [0.1067], TrainAcc [0.9844]\n",
      "epoch [71], train loss 0.16, ValLoss [4.51], ValAcc [0.1067], TrainAcc [0.9933]\n",
      "epoch [72], train loss 0.13, ValLoss [4.48], ValAcc [0.0956], TrainAcc [0.9911]\n",
      "epoch [73], train loss 0.12, ValLoss [4.58], ValAcc [0.0956], TrainAcc [0.9956]\n",
      "epoch [74], train loss 0.13, ValLoss [4.46], ValAcc [0.1111], TrainAcc [0.9978]\n",
      "epoch [75], train loss 0.11, ValLoss [4.54], ValAcc [0.0844], TrainAcc [0.9956]\n",
      "epoch [76], train loss 0.11, ValLoss [4.54], ValAcc [0.0889], TrainAcc [0.9933]\n",
      "epoch [77], train loss 0.11, ValLoss [4.59], ValAcc [0.1200], TrainAcc [0.9911]\n",
      "epoch [78], train loss 0.12, ValLoss [4.52], ValAcc [0.0822], TrainAcc [0.9956]\n",
      "epoch [79], train loss 0.09, ValLoss [4.59], ValAcc [0.1111], TrainAcc [0.9911]\n",
      "epoch [80], train loss 0.11, ValLoss [4.59], ValAcc [0.1000], TrainAcc [0.9933]\n",
      "epoch [81], train loss 0.08, ValLoss [4.61], ValAcc [0.0933], TrainAcc [0.9956]\n",
      "epoch [82], train loss 0.10, ValLoss [4.58], ValAcc [0.0978], TrainAcc [1.0000]\n",
      "epoch [83], train loss 0.10, ValLoss [4.66], ValAcc [0.1000], TrainAcc [1.0000]\n",
      "epoch [84], train loss 0.09, ValLoss [4.65], ValAcc [0.1089], TrainAcc [0.9956]\n",
      "epoch [85], train loss 0.09, ValLoss [4.75], ValAcc [0.0844], TrainAcc [0.9978]\n",
      "epoch [86], train loss 0.09, ValLoss [4.51], ValAcc [0.0733], TrainAcc [1.0000]\n",
      "epoch [87], train loss 0.09, ValLoss [4.70], ValAcc [0.0911], TrainAcc [0.9978]\n",
      "epoch [88], train loss 0.08, ValLoss [4.61], ValAcc [0.1000], TrainAcc [0.9978]\n",
      "epoch [89], train loss 0.08, ValLoss [4.58], ValAcc [0.0822], TrainAcc [0.9978]\n",
      "epoch [90], train loss 0.07, ValLoss [4.70], ValAcc [0.0933], TrainAcc [0.9978]\n",
      "epoch [91], train loss 0.08, ValLoss [4.71], ValAcc [0.0844], TrainAcc [1.0000]\n",
      "epoch [92], train loss 0.07, ValLoss [4.52], ValAcc [0.0867], TrainAcc [0.9956]\n",
      "epoch [93], train loss 0.07, ValLoss [4.58], ValAcc [0.0733], TrainAcc [1.0000]\n",
      "epoch [94], train loss 0.06, ValLoss [4.88], ValAcc [0.0822], TrainAcc [0.9978]\n",
      "epoch [95], train loss 0.06, ValLoss [4.88], ValAcc [0.0889], TrainAcc [0.9933]\n",
      "epoch [96], train loss 0.06, ValLoss [4.66], ValAcc [0.1089], TrainAcc [0.9978]\n",
      "epoch [97], train loss 0.06, ValLoss [4.59], ValAcc [0.0933], TrainAcc [0.9978]\n",
      "epoch [98], train loss 0.06, ValLoss [4.73], ValAcc [0.0800], TrainAcc [0.9978]\n",
      "epoch [99], train loss 0.06, ValLoss [4.78], ValAcc [0.0889], TrainAcc [0.9978]\n"
     ]
    }
   ],
   "source": [
    "save_freq = 5                               # specify every how many epochs to save the model\n",
    "#net.train()                                 # put the network in \"training mode\" (let's not worry about this for now)\n",
    "loss_memory = []\n",
    "val_memory = []\n",
    "n_batches = 50\n",
    "for epoch in range(100):  # loop over the dataset multiple times\n",
    "    running_loss = 0.0\n",
    "    net.train()\n",
    "    for _ in range(n_batches):\n",
    "        #torch.cuda.empty_cache() \n",
    "        # get the inputs\n",
    "        data = train_dataset.get_batch(32)\n",
    "        images = data['image'].half()\n",
    "        labels = data['label'].half()\n",
    "        tmp = []\n",
    "        tmp = torch.squeeze(labels.long())\n",
    "        images, labels = images.cuda(),  tmp.cuda()\n",
    "        # zero the parameter gradients\n",
    "        optimizer.zero_grad()\n",
    "        # forward + backward + optimize\n",
    "        outputs = net(images)\n",
    "        loss = criterion(outputs, labels)\n",
    "        loss.backward()\n",
    "        optimizer.step()\n",
    "        # print statistics\n",
    "        running_loss += loss.data.item()\n",
    "    epoch_loss = running_loss / n_batches\n",
    "    loss_memory.append(epoch_loss)\n",
    "    running_loss = 0.0\n",
    "    \n",
    "    net.eval();\n",
    "    val_outputs = net(val_images)\n",
    "    val_loss = criterion(val_outputs, val_labels)\n",
    "    val_memory.append(val_loss.data.item())\n",
    "    \n",
    "    val_acc = get_acc(val_dataset)\n",
    "    train_acc = get_acc(train_dataset)\n",
    "    \n",
    "    print(f'epoch [{epoch}], train loss {epoch_loss:.2f}, ValLoss [{val_loss:.2f}], ValAcc [{val_acc:.4f}], TrainAcc [{train_acc:.4f}]')    "
   ]
  },
  {
   "cell_type": "code",
   "execution_count": null,
   "metadata": {},
   "outputs": [],
   "source": []
  },
  {
   "cell_type": "code",
   "execution_count": 23,
   "metadata": {},
   "outputs": [
    {
     "data": {
      "text/plain": [
       "[<matplotlib.lines.Line2D at 0x1554ba544fa0>]"
      ]
     },
     "execution_count": 23,
     "metadata": {},
     "output_type": "execute_result"
    },
    {
     "data": {
      "image/png": "[encoded data removed]",
      "text/plain": [
       "<Figure size 432x288 with 1 Axes>"
      ]
     },
     "metadata": {
      "needs_background": "light"
     },
     "output_type": "display_data"
    }
   ],
   "source": [
    "plt.plot(val_memory)"
   ]
  },
  {
   "cell_type": "code",
   "execution_count": null,
   "metadata": {},
   "outputs": [],
   "source": []
  },
  {
   "cell_type": "code",
   "execution_count": null,
   "metadata": {},
   "outputs": [],
   "source": []
  },
  {
   "cell_type": "code",
   "execution_count": null,
   "metadata": {},
   "outputs": [],
   "source": []
  },
  {
   "cell_type": "code",
   "execution_count": null,
   "metadata": {},
   "outputs": [],
   "source": []
  },
  {
   "cell_type": "code",
   "execution_count": null,
   "metadata": {},
   "outputs": [],
   "source": []
  },
  {
   "cell_type": "code",
   "execution_count": null,
   "metadata": {},
   "outputs": [],
   "source": []
  },
  {
   "cell_type": "code",
   "execution_count": null,
   "metadata": {},
   "outputs": [],
   "source": []
  }
 ],
 "metadata": {
  "kernelspec": {
   "display_name": "Python 3",
   "language": "python",
   "name": "python3"
  },
  "language_info": {
   "codemirror_mode": {
    "name": "ipython",
    "version": 3
   },
   "file_extension": ".py",
   "mimetype": "text/x-python",
   "name": "python",
   "nbconvert_exporter": "python",
   "pygments_lexer": "ipython3",
   "version": "3.8.3"
  }
 },
 "nbformat": 4,
 "nbformat_minor": 4
}
