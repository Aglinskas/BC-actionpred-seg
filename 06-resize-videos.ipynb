{
 "cells": [
  {
   "cell_type": "code",
   "execution_count": 1,
   "id": "8530a995",
   "metadata": {},
   "outputs": [
    {
     "data": {
      "text/plain": [
       "'/mmfs1/data/aglinska/BC-actionpred-seg'"
      ]
     },
     "execution_count": 1,
     "metadata": {},
     "output_type": "execute_result"
    }
   ],
   "source": [
    "pwd"
   ]
  },
  {
   "cell_type": "code",
   "execution_count": 2,
   "id": "89a58423",
   "metadata": {},
   "outputs": [
    {
     "name": "stderr",
     "output_type": "stream",
     "text": [
      "/data/aglinska/anaconda3/lib/python3.8/site-packages/pandas/core/computation/expressions.py:20: UserWarning: Pandas requires version '2.7.3' or newer of 'numexpr' (version '2.7.1' currently installed).\n",
      "  from pandas.core.computation.check import NUMEXPR_INSTALLED\n"
     ]
    }
   ],
   "source": [
    "import PIL\n",
    "from PIL import Image,ImageFilter\n",
    "import matplotlib.pyplot as plt\n",
    "import seaborn as sns\n",
    "import numpy as np\n",
    "from tqdm import tqdm\n",
    "from scipy.ndimage.filters import gaussian_filter\n",
    "import os\n",
    "import shutil\n",
    "import random\n",
    "import cv2"
   ]
  },
  {
   "cell_type": "code",
   "execution_count": 3,
   "id": "315defb8",
   "metadata": {},
   "outputs": [],
   "source": [
    "import skvideo\n",
    "import skvideo.io"
   ]
  },
  {
   "cell_type": "code",
   "execution_count": 4,
   "id": "247ea11d",
   "metadata": {},
   "outputs": [],
   "source": [
    "def inflate_mask(mask,radius=5):\n",
    "    mask_temp = Image.fromarray(mask).filter(ImageFilter.GaussianBlur(radius))\n",
    "    mask_temp = np.array(mask_temp)\n",
    "    mask_temp[mask_temp>0]=255\n",
    "    return mask_temp"
   ]
  },
  {
   "cell_type": "code",
   "execution_count": 5,
   "id": "c5122e44",
   "metadata": {},
   "outputs": [],
   "source": [
    "def plot_video(videodata):\n",
    "    plt.figure(figsize=(15,5))\n",
    "    for c,i in enumerate(np.floor(np.linspace(0,videodata.shape[0]-1,5))):\n",
    "        plt.subplot(1,5,c+1)\n",
    "        plt.axis('off')\n",
    "        plt.imshow(videodata[int(i),:,:,0:3])\n",
    "    plt.show()"
   ]
  },
  {
   "cell_type": "code",
   "execution_count": 6,
   "id": "982ad59f",
   "metadata": {},
   "outputs": [],
   "source": [
    "def load_video(fn):\n",
    "    import skvideo\n",
    "    import skvideo.io\n",
    "    videodata = skvideo.io.vread(fn)\n",
    "    return videodata"
   ]
  },
  {
   "cell_type": "code",
   "execution_count": 7,
   "id": "5e0ed48a",
   "metadata": {},
   "outputs": [],
   "source": [
    "def save_video(videodata,ofn='outvideo.mp4'):\n",
    "    import skvideo\n",
    "    import skvideo.io\n",
    "    #skvideo.io.vwrite(ofn, videodata.astype(np.uint8),outputdict={'-codec': 'h264', '-filter:v' : 'fps=29.97'})\n",
    "    skvideo.io.vwrite(ofn, videodata.astype(np.uint8))"
   ]
  },
  {
   "cell_type": "code",
   "execution_count": 8,
   "id": "d3e4cc19",
   "metadata": {},
   "outputs": [],
   "source": [
    "def safe_mkdir(fn):\n",
    "    import os\n",
    "    if not os.path.exists(fn):\n",
    "        os.mkdir(fn)"
   ]
  },
  {
   "cell_type": "code",
   "execution_count": 9,
   "id": "a9d725a1",
   "metadata": {},
   "outputs": [],
   "source": [
    "def safe_mkdir_subdirs(fn):\n",
    "    fn_split = fn.split('/')\n",
    "    n = len(fn.split('/'))\n",
    "    paths = ['/'.join(fn_split[0:i]) for i in range(0,n) if len('/'.join(fn_split[0:i]))>1]\n",
    "    for path in paths:\n",
    "        safe_mkdir(path)"
   ]
  },
  {
   "cell_type": "code",
   "execution_count": 10,
   "id": "adc685bd",
   "metadata": {},
   "outputs": [
    {
     "name": "stdout",
     "output_type": "stream",
     "text": [
      "500\n",
      "['ALS_IceBucket_Challenge', 'CPR', 'abseiling']\n",
      "['yoga_tree', 'yoga_triangle', 'yoga_updog']\n"
     ]
    }
   ],
   "source": [
    "indir = './Data/haa500_v1_1/video'\n",
    "folders = [f for f in os.listdir(indir) if not f.startswith('.')]\n",
    "folders.sort()\n",
    "n = len(folders)\n",
    "print(n)\n",
    "print(folders[0:3])\n",
    "print(folders[n-3::])"
   ]
  },
  {
   "cell_type": "code",
   "execution_count": 11,
   "id": "79c8c912",
   "metadata": {},
   "outputs": [],
   "source": [
    "fn_temp = indir+'/{folder}/{folder}_{video}.mp4'"
   ]
  },
  {
   "cell_type": "code",
   "execution_count": 78,
   "id": "afa2555f",
   "metadata": {},
   "outputs": [],
   "source": [
    "# # Get video sizes\n",
    "# video_sizes = np.zeros((500,20,2))\n",
    "# for f in tqdm(range(500)):\n",
    "#     for v in range(20):\n",
    "#         fn = fn_temp.format(folder=folders[f],video=f'{v:03d}')\n",
    "#         metadata = skvideo.io.ffprobe(fn)\n",
    "#         video_sizes[f,v,:] = int(metadata['video']['@height']),int(metadata['video']['@width'])\n",
    "# np.save('videosizes.npy',np.array(video_sizes))"
   ]
  },
  {
   "cell_type": "code",
   "execution_count": 79,
   "id": "72333614",
   "metadata": {},
   "outputs": [],
   "source": [
    "# video_sizes = np.load('videosizes.npy')"
   ]
  },
  {
   "cell_type": "code",
   "execution_count": 80,
   "id": "07f42c50",
   "metadata": {},
   "outputs": [],
   "source": [
    "# plt.figure(figsize=(10,5))\n",
    "# plt.subplot(1,2,1);plt.hist(video_sizes[:,:,0].flatten());\n",
    "# plt.subplot(1,2,2);plt.hist(video_sizes[:,:,1].flatten());"
   ]
  },
  {
   "cell_type": "code",
   "execution_count": 81,
   "id": "914246cc",
   "metadata": {},
   "outputs": [],
   "source": [
    "# check = (video_sizes[:,:,0]==720)*(video_sizes[:,:,1]==1280)\n",
    "# check = check.transpose()\n",
    "# plt.figure(figsize=(20,5))\n",
    "# plt.imshow(check)"
   ]
  },
  {
   "cell_type": "code",
   "execution_count": 82,
   "id": "1a9f093e",
   "metadata": {},
   "outputs": [],
   "source": [
    "# np.array((int(np.median(video_sizes[:,:,0].flatten())),int(np.median(video_sizes[:,:,1].flatten()))))"
   ]
  },
  {
   "cell_type": "code",
   "execution_count": 83,
   "id": "304953c9",
   "metadata": {},
   "outputs": [],
   "source": [
    "# u,c = np.unique([str(val) for val in video_sizes.reshape(-1,2)],return_counts=True)\n",
    "# s = np.argsort(c)[-1::-1]\n",
    "# for i in range(25):\n",
    "#     print(f'Count: {c[s[i]]}, resolution: {u[s[i]]}')"
   ]
  },
  {
   "cell_type": "code",
   "execution_count": 84,
   "id": "1059a9b3",
   "metadata": {},
   "outputs": [],
   "source": [
    "# f = 1\n",
    "# v = 0\n",
    "# fn = fn_temp.format(folder=folders[f],video=f'{v:03d}')\n",
    "# video_data = load_video(fn)\n",
    "# print(video_data.shape)\n",
    "\n",
    "# plot_video(video_data)"
   ]
  },
  {
   "cell_type": "code",
   "execution_count": 85,
   "id": "525fcc0c",
   "metadata": {},
   "outputs": [],
   "source": [
    "# input_size = np.array((720,720))\n",
    "# input_size = np.array((720,1280))\n",
    "# input_size = np.array((360,480))\n",
    "# input_size = np.array((272,480))"
   ]
  },
  {
   "cell_type": "code",
   "execution_count": 86,
   "id": "ac4d0194",
   "metadata": {},
   "outputs": [],
   "source": [
    "# video_data = (np.ones((10,272,480,3))*125).astype(np.uint8)\n",
    "# plot_video(video_data)"
   ]
  },
  {
   "cell_type": "code",
   "execution_count": 12,
   "id": "300972af",
   "metadata": {},
   "outputs": [],
   "source": [
    "def resize_and_pad_video(video_data):\n",
    "\n",
    "    target_size = np.array((360, 640))\n",
    "    input_size = (video_data.shape[1],video_data.shape[2])\n",
    "    \n",
    "    d1 = input_size[0]/target_size[0]\n",
    "    d2 = input_size[1]/target_size[1]\n",
    "\n",
    "    choose_size = input_size/max(d1,d2)\n",
    "    choose_size = choose_size.round().astype(int) ## Hacks?\n",
    "\n",
    "    video_data_resized = np.array([np.array(Image.fromarray(video_data[frame,:,:,:]).resize(choose_size.astype(int)[-1::-1])) for frame in range(video_data.shape[0])])\n",
    "\n",
    "    assert any(video_data_resized.shape[1:3]==target_size),'neither dimension matches'\n",
    "\n",
    "    if not video_data_resized.shape[1]==target_size[0]:\n",
    "\n",
    "        if np.mod(video_data_resized.shape[1],2)==0:\n",
    "            p = (target_size[0]-video_data_resized.shape[1])/2\n",
    "            pp = (p.astype(int),p.astype(int))\n",
    "        else:\n",
    "            p = (target_size[0]-video_data_resized.shape[1])/2\n",
    "            p = np.floor(p)\n",
    "            pp = (p.astype(int),p.astype(int)+1)\n",
    "\n",
    "        video_data_resized_padded = np.pad(video_data_resized,((0,0),(pp[0],pp[1]),(0,0),(0,0)))\n",
    "        padding = np.pad(np.ones(video_data_resized.shape),((0,0),(pp[0],pp[1]),(0,0),(0,0)))[0,:,:,0]\n",
    "\n",
    "    elif not video_data_resized.shape[2]==target_size[1]:\n",
    "\n",
    "        if np.mod(video_data_resized.shape[2],2)==0:\n",
    "            p = (target_size[1]-video_data_resized.shape[2])/2\n",
    "            pp = (p.astype(int),p.astype(int))\n",
    "        else:\n",
    "            p = (target_size[1]-video_data_resized.shape[2])/2\n",
    "            p = np.floor(p)\n",
    "            pp = (p.astype(int),p.astype(int)+1)\n",
    "\n",
    "        video_data_resized_padded = np.pad(video_data_resized,((0,0),(0,0),(pp[0],pp[1]),(0,0)))\n",
    "        padding = np.pad(np.ones(video_data_resized.shape),((0,0),(0,0),(pp[0],pp[1]),(0,0)))[0,:,:,0]\n",
    "\n",
    "    else:\n",
    "        video_data_resized_padded = video_data_resized\n",
    "        padding = np.ones(video_data_resized.shape)[0,:,:,0]\n",
    "\n",
    "    assert all(video_data_resized_padded.shape[1:3]==target_size), 'failed resizing'\n",
    "    \n",
    "    return video_data_resized_padded,padding"
   ]
  },
  {
   "cell_type": "code",
   "execution_count": 88,
   "id": "57cad665",
   "metadata": {
    "tags": [
     "parameters"
    ]
   },
   "outputs": [],
   "source": [
    "f = 0"
   ]
  },
  {
   "cell_type": "code",
   "execution_count": null,
   "id": "96305b18",
   "metadata": {},
   "outputs": [],
   "source": [
    "for v in range(20):\n",
    "\n",
    "    fn = fn_temp.format(folder=folders[f],video=f'{v:03d}')\n",
    "    ofn = fn.replace('haa500_v1_1','haa500_v1_1_resized')\n",
    "\n",
    "    if not os.path.exists(ofn):\n",
    "        video_data = load_video(fn)\n",
    "\n",
    "        video_data_resized_padded,padding = resize_and_pad_video(video_data)\n",
    "\n",
    "\n",
    "        safe_mkdir_subdirs(ofn)\n",
    "\n",
    "        save_video(video_data_resized_padded,ofn)\n",
    "        np.save(ofn.replace('.mp4','_padding.npy'),padding)\n",
    "\n",
    "        assert load_video(ofn).shape[0]==video_data.shape[0], 'frames mismatch'"
   ]
  },
  {
   "cell_type": "code",
   "execution_count": null,
   "id": "6c10928a",
   "metadata": {},
   "outputs": [],
   "source": []
  },
  {
   "cell_type": "code",
   "execution_count": null,
   "id": "17b7f38f",
   "metadata": {},
   "outputs": [],
   "source": []
  },
  {
   "cell_type": "code",
   "execution_count": null,
   "id": "465675cf",
   "metadata": {},
   "outputs": [],
   "source": []
  },
  {
   "cell_type": "code",
   "execution_count": 29,
   "id": "9a330cc1",
   "metadata": {},
   "outputs": [],
   "source": [
    "arr_exists = np.zeros((20,500))\n",
    "\n",
    "for f in range(500):\n",
    "    for v in range(20):\n",
    "\n",
    "        fn = fn_temp.format(folder=folders[f],video=f'{v:03d}')\n",
    "        ofn = fn.replace('haa500_v1_1','haa500_v1_1_resized')\n",
    "\n",
    "        arr_exists[v,f] = os.path.exists(ofn)"
   ]
  },
  {
   "cell_type": "code",
   "execution_count": 36,
   "id": "9aa2fabc",
   "metadata": {},
   "outputs": [
    {
     "data": {
      "text/plain": [
       "Text(0.5, 1.0, 'resized videos')"
      ]
     },
     "execution_count": 36,
     "metadata": {},
     "output_type": "execute_result"
    },
    {
     "data": {
      "image/png": "[encoded data removed]",
      "text/plain": [
       "<Figure size 2000x500 with 1 Axes>"
      ]
     },
     "metadata": {},
     "output_type": "display_data"
    }
   ],
   "source": [
    "plt.figure(figsize=(20,5))\n",
    "plt.imshow(arr_exists,vmin=0,vmax=1)\n",
    "plt.title('resized videos')"
   ]
  },
  {
   "cell_type": "code",
   "execution_count": 34,
   "id": "26129415",
   "metadata": {},
   "outputs": [
    {
     "data": {
      "text/plain": [
       "1.0"
      ]
     },
     "execution_count": 34,
     "metadata": {},
     "output_type": "execute_result"
    }
   ],
   "source": [
    "arr_exists.mean()"
   ]
  },
  {
   "cell_type": "code",
   "execution_count": 35,
   "id": "2e727df9",
   "metadata": {},
   "outputs": [
    {
     "data": {
      "text/plain": [
       "(array([], dtype=int64),)"
      ]
     },
     "execution_count": 35,
     "metadata": {},
     "output_type": "execute_result"
    }
   ],
   "source": [
    "np.nonzero(arr_exists.sum(axis=0)<20)"
   ]
  },
  {
   "cell_type": "code",
   "execution_count": null,
   "id": "cd3de225",
   "metadata": {},
   "outputs": [],
   "source": []
  },
  {
   "cell_type": "code",
   "execution_count": null,
   "id": "66f041af",
   "metadata": {},
   "outputs": [],
   "source": []
  },
  {
   "cell_type": "code",
   "execution_count": null,
   "id": "82189197",
   "metadata": {},
   "outputs": [],
   "source": []
  },
  {
   "cell_type": "code",
   "execution_count": null,
   "id": "4ff35a95",
   "metadata": {},
   "outputs": [],
   "source": []
  },
  {
   "cell_type": "code",
   "execution_count": 89,
   "id": "3729f096",
   "metadata": {},
   "outputs": [],
   "source": [
    "# for f in tqdm(range(500)):\n",
    "#     for v in range(20):\n",
    "        \n",
    "#         fn = fn_temp.format(folder=folders[f],video=f'{v:03d}')\n",
    "#         ofn = fn.replace('haa500_v1_1','haa500_v1_1_resized')\n",
    "        \n",
    "#         if not os.path.exists(ofn):\n",
    "#             video_data = load_video(fn)\n",
    "\n",
    "#             video_data_resized_padded,padding = resize_and_pad_video(video_data)\n",
    "\n",
    "\n",
    "#             safe_mkdir_subdirs(ofn)\n",
    "\n",
    "#             save_video(video_data_resized_padded,ofn)\n",
    "#             np.save(ofn.replace('.mp4','_padding.npy'),padding)\n",
    "\n",
    "#             #assert load_video(ofn).shape[0]==video_data.shape[0], 'frames mismatch'"
   ]
  },
  {
   "cell_type": "code",
   "execution_count": null,
   "id": "1d95e708",
   "metadata": {},
   "outputs": [],
   "source": []
  },
  {
   "cell_type": "code",
   "execution_count": null,
   "id": "a6be4796",
   "metadata": {},
   "outputs": [],
   "source": []
  },
  {
   "cell_type": "code",
   "execution_count": null,
   "id": "1bb85bc1",
   "metadata": {},
   "outputs": [],
   "source": []
  },
  {
   "cell_type": "code",
   "execution_count": null,
   "id": "dc75a2f1",
   "metadata": {},
   "outputs": [],
   "source": []
  },
  {
   "cell_type": "code",
   "execution_count": null,
   "id": "dfda4fd7",
   "metadata": {},
   "outputs": [],
   "source": []
  },
  {
   "cell_type": "code",
   "execution_count": null,
   "id": "96ab73a9",
   "metadata": {},
   "outputs": [],
   "source": []
  },
  {
   "cell_type": "code",
   "execution_count": null,
   "id": "ada99680",
   "metadata": {},
   "outputs": [],
   "source": []
  },
  {
   "cell_type": "code",
   "execution_count": null,
   "id": "a2c24f89",
   "metadata": {},
   "outputs": [],
   "source": []
  }
 ],
 "metadata": {
  "kernelspec": {
   "display_name": "Python 3 (ipykernel)",
   "language": "python",
   "name": "python3"
  },
  "language_info": {
   "codemirror_mode": {
    "name": "ipython",
    "version": 3
   },
   "file_extension": ".py",
   "mimetype": "text/x-python",
   "name": "python",
   "nbconvert_exporter": "python",
   "pygments_lexer": "ipython3",
   "version": "3.8.5"
  }
 },
 "nbformat": 4,
 "nbformat_minor": 5
}
