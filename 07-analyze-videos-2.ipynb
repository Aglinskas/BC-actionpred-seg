{
 "cells": [
  {
   "cell_type": "code",
   "execution_count": 1,
   "id": "fecd93bb",
   "metadata": {},
   "outputs": [
    {
     "data": {
      "text/plain": [
       "'/mmfs1/data/aglinska/BC-actionpred-seg'"
      ]
     },
     "execution_count": 1,
     "metadata": {},
     "output_type": "execute_result"
    }
   ],
   "source": [
    "pwd"
   ]
  },
  {
   "cell_type": "code",
   "execution_count": 2,
   "id": "ea87e000",
   "metadata": {},
   "outputs": [
    {
     "name": "stderr",
     "output_type": "stream",
     "text": [
      "/data/aglinska/anaconda3/lib/python3.8/site-packages/pandas/core/computation/expressions.py:20: UserWarning: Pandas requires version '2.7.3' or newer of 'numexpr' (version '2.7.1' currently installed).\n",
      "  from pandas.core.computation.check import NUMEXPR_INSTALLED\n"
     ]
    }
   ],
   "source": [
    "import PIL\n",
    "from PIL import Image,ImageFilter\n",
    "import matplotlib.pyplot as plt\n",
    "import seaborn as sns\n",
    "import numpy as np\n",
    "from tqdm import tqdm\n",
    "from scipy.ndimage.filters import gaussian_filter\n",
    "import os\n",
    "import shutil\n",
    "import random\n",
    "import cv2"
   ]
  },
  {
   "cell_type": "code",
   "execution_count": 3,
   "id": "c4848433",
   "metadata": {},
   "outputs": [
    {
     "data": {
      "text/plain": [
       "'/data/aglinska/BC-actionpred-seg/Data/haa500_v1_1_yolo_seg4'"
      ]
     },
     "execution_count": 3,
     "metadata": {},
     "output_type": "execute_result"
    }
   ],
   "source": [
    "indir = '~/BC-actionpred-seg/Data/haa500_v1_1_yolo_seg4'\n",
    "indir = os.path.expanduser(indir)\n",
    "indir"
   ]
  },
  {
   "cell_type": "code",
   "execution_count": 4,
   "id": "817a6ad0",
   "metadata": {},
   "outputs": [
    {
     "name": "stdout",
     "output_type": "stream",
     "text": [
      "499\n"
     ]
    },
    {
     "data": {
      "text/plain": [
       "['ALS_IceBucket_Challenge', 'CPR', 'abseiling']"
      ]
     },
     "execution_count": 4,
     "metadata": {},
     "output_type": "execute_result"
    }
   ],
   "source": [
    "folders = [folder for folder in os.listdir(indir) if not folder.startswith('.')]\n",
    "folders.sort()\n",
    "n = len(folders)\n",
    "print(n)\n",
    "folders[0:3]"
   ]
  },
  {
   "cell_type": "code",
   "execution_count": 5,
   "id": "163f5b13",
   "metadata": {},
   "outputs": [
    {
     "name": "stdout",
     "output_type": "stream",
     "text": [
      "(20, 499)\n"
     ]
    },
    {
     "data": {
      "text/plain": [
       "<matplotlib.image.AxesImage at 0x15548709e700>"
      ]
     },
     "execution_count": 5,
     "metadata": {},
     "output_type": "execute_result"
    },
    {
     "data": {
      "image/png": "[encoded data removed]",
      "text/plain": [
       "<Figure size 2500x500 with 1 Axes>"
      ]
     },
     "metadata": {},
     "output_type": "display_data"
    }
   ],
   "source": [
    "good_videos = np.load('good_videos.npy')\n",
    "print(good_videos.shape)\n",
    "plt.figure(figsize=(25,5))\n",
    "plt.imshow(good_videos)"
   ]
  },
  {
   "cell_type": "markdown",
   "id": "c10851d7",
   "metadata": {},
   "source": [
    "### Count people in vids"
   ]
  },
  {
   "cell_type": "code",
   "execution_count": 6,
   "id": "60e3ec7c",
   "metadata": {},
   "outputs": [],
   "source": [
    "yolo_labels = ['person', 'bicycle', 'car', 'motorcycle', 'airplane', 'bus', 'train', 'truck', 'boat', 'traffic light', 'fire hydrant', 'stop sign', 'parking meter', 'bench', 'bird', 'cat', 'dog', 'horse', 'sheep', 'cow', 'elephant', 'bear', 'zebra', 'giraffe', 'backpack', 'umbrella', 'handbag', 'tie', 'suitcase', 'frisbee', 'skis', 'snowboard', 'sports ball', 'kite', 'baseball bat', 'baseball glove', 'skateboard', 'surfboard', 'tennis racket', 'bottle', 'wine glass', 'cup', 'fork', 'knife', 'spoon', 'bowl', 'banana', 'apple', 'sandwich', 'orange', 'broccoli', 'carrot', 'hot dog', 'pizza', 'donut', 'cake', 'chair', 'couch', 'potted plant', 'bed', 'dining table', 'toilet', 'tv', 'laptop', 'mouse', 'remote', 'keyboard', 'cell phone', 'microwave', 'oven', 'toaster', 'sink', 'refrigerator', 'book', 'clock', 'vase', 'scissors', 'teddy bear', 'hair drier', 'toothbrush']\n"
   ]
  },
  {
   "cell_type": "code",
   "execution_count": 8,
   "id": "5e39b5f7",
   "metadata": {},
   "outputs": [
    {
     "name": "stderr",
     "output_type": "stream",
     "text": [
      "100%|██████████████████████████████████████████████████████████████████████████████| 499/499 [00:28<00:00, 17.40it/s]\n"
     ]
    }
   ],
   "source": [
    "people_count = np.zeros((20,499))\n",
    "for f in tqdm(range(499)):\n",
    "    for v in range(20):\n",
    "        if bool(good_videos[v,f])==True:\n",
    "            folder = folders[f]\n",
    "            video = v\n",
    "            fn = f'./Data/haa500_v1_1_frames/video/{folder}/{folder}_{video:03d}/{folder}_{video:03d}_000_box.npy'\n",
    "            box = np.load(fn)\n",
    "            npeople_in_vid = np.array(np.array([yolo_labels[int(box[i,-1])] for i in range(box.shape[0])])=='person').sum()\n",
    "            people_count[v,f] = npeople_in_vid\n",
    "            #people_count.append(npeople_in_vid)"
   ]
  },
  {
   "cell_type": "code",
   "execution_count": 9,
   "id": "458e3fc3",
   "metadata": {},
   "outputs": [
    {
     "data": {
      "image/png": "[encoded data removed]",
      "text/plain": [
       "<Figure size 1500x500 with 1 Axes>"
      ]
     },
     "metadata": {},
     "output_type": "display_data"
    }
   ],
   "source": [
    "plt.figure(figsize=(15,5))\n",
    "plt.hist(people_count[good_videos==1],bins=50);\n",
    "plt.xticks(np.unique(people_count[good_videos==1]));"
   ]
  },
  {
   "cell_type": "code",
   "execution_count": 10,
   "id": "e87289e7",
   "metadata": {},
   "outputs": [
    {
     "data": {
      "text/plain": [
       "0.7228407359662486"
      ]
     },
     "execution_count": 10,
     "metadata": {},
     "output_type": "execute_result"
    }
   ],
   "source": [
    "(people_count[good_videos==1]==1).mean()"
   ]
  },
  {
   "cell_type": "code",
   "execution_count": 11,
   "id": "9d4a0004",
   "metadata": {},
   "outputs": [
    {
     "data": {
      "text/plain": [
       "6168"
      ]
     },
     "execution_count": 11,
     "metadata": {},
     "output_type": "execute_result"
    }
   ],
   "source": [
    "(people_count[good_videos==1]==1).sum()"
   ]
  },
  {
   "cell_type": "code",
   "execution_count": 16,
   "id": "e5deb8eb",
   "metadata": {},
   "outputs": [],
   "source": [
    "good_videos_1p = good_videos.astype(np.bool_)*people_count.astype(np.bool_)"
   ]
  },
  {
   "cell_type": "code",
   "execution_count": 20,
   "id": "f9ba093c",
   "metadata": {},
   "outputs": [],
   "source": [
    "np.save('good_videos_1p.npy',good_videos_1p)"
   ]
  },
  {
   "cell_type": "code",
   "execution_count": null,
   "id": "d460e6d5",
   "metadata": {},
   "outputs": [],
   "source": []
  },
  {
   "cell_type": "code",
   "execution_count": 119,
   "id": "e944c032",
   "metadata": {},
   "outputs": [
    {
     "data": {
      "text/plain": [
       "<matplotlib.image.AxesImage at 0x15548492e490>"
      ]
     },
     "execution_count": 119,
     "metadata": {},
     "output_type": "execute_result"
    },
    {
     "data": {
      "image/png": "[encoded data removed]",
      "text/plain": [
       "<Figure size 2500x500 with 1 Axes>"
      ]
     },
     "metadata": {},
     "output_type": "display_data"
    }
   ],
   "source": [
    "plt.figure(figsize=(25,5))\n",
    "plt.imshow(people_count)"
   ]
  },
  {
   "cell_type": "markdown",
   "id": "115612f8",
   "metadata": {},
   "source": [
    "### Video lenghts "
   ]
  },
  {
   "cell_type": "code",
   "execution_count": null,
   "id": "c6e6098c",
   "metadata": {},
   "outputs": [],
   "source": [
    "import skvideo\n",
    "import skvideo.io"
   ]
  },
  {
   "cell_type": "code",
   "execution_count": 174,
   "id": "b99ec4b5",
   "metadata": {},
   "outputs": [
    {
     "name": "stderr",
     "output_type": "stream",
     "text": [
      "100%|█████████████████████████████████████████████████████████████████████████████████| 499/499 [03:59<00:00,  2.09it/s]\n"
     ]
    }
   ],
   "source": [
    "video_durations = np.zeros(good_videos.shape)\n",
    "for f in tqdm(range(n)):\n",
    "    for v in range(20):\n",
    "        if bool(good_videos[v,f])==True:\n",
    "            folder = folders[f]\n",
    "            fn = f'{indir}/{folder}/{folder}_{v:03d}_item_0_masks.npy'\n",
    "            fn = fn.replace('_item_0_masks.npy','.mp4')\n",
    "            metadata = skvideo.io.ffprobe(fn)\n",
    "            video_durations[v,f] = float(metadata['video']['@duration'])"
   ]
  },
  {
   "cell_type": "code",
   "execution_count": 176,
   "id": "6d60c316",
   "metadata": {},
   "outputs": [
    {
     "data": {
      "text/plain": [
       "(array([7.46e+03, 9.26e+02, 1.07e+02, 1.90e+01, 1.10e+01, 4.00e+00,\n",
       "        1.00e+00, 2.00e+00, 2.00e+00, 1.00e+00]),\n",
       " array([ 0.24 ,  3.752,  7.264, 10.776, 14.288, 17.8  , 21.312, 24.824,\n",
       "        28.336, 31.848, 35.36 ]),\n",
       " <BarContainer object of 10 artists>)"
      ]
     },
     "execution_count": 176,
     "metadata": {},
     "output_type": "execute_result"
    },
    {
     "data": {
      "image/png": "[encoded data removed]",
      "text/plain": [
       "<Figure size 640x480 with 1 Axes>"
      ]
     },
     "metadata": {},
     "output_type": "display_data"
    }
   ],
   "source": [
    "plt.hist(video_durations[good_videos==True])"
   ]
  },
  {
   "cell_type": "code",
   "execution_count": 198,
   "id": "9109a10b",
   "metadata": {},
   "outputs": [
    {
     "data": {
      "text/plain": [
       "466"
      ]
     },
     "execution_count": 198,
     "metadata": {},
     "output_type": "execute_result"
    }
   ],
   "source": [
    "(video_durations[good_videos==True]>5).sum()"
   ]
  },
  {
   "cell_type": "code",
   "execution_count": 199,
   "id": "5f0e53f8",
   "metadata": {},
   "outputs": [
    {
     "data": {
      "text/plain": [
       "35.36"
      ]
     },
     "execution_count": 199,
     "metadata": {},
     "output_type": "execute_result"
    }
   ],
   "source": [
    "video_durations.max()"
   ]
  },
  {
   "cell_type": "code",
   "execution_count": 197,
   "id": "2b90e1a2",
   "metadata": {},
   "outputs": [
    {
     "data": {
      "text/plain": [
       "0.943747802648541"
      ]
     },
     "execution_count": 197,
     "metadata": {},
     "output_type": "execute_result"
    }
   ],
   "source": [
    "(video_durations[good_videos==True]<5).mean()"
   ]
  },
  {
   "cell_type": "code",
   "execution_count": 178,
   "id": "10cdc686",
   "metadata": {},
   "outputs": [
    {
     "data": {
      "text/plain": [
       "2.3875635767022145"
      ]
     },
     "execution_count": 178,
     "metadata": {},
     "output_type": "execute_result"
    }
   ],
   "source": [
    "video_durations[good_videos==True].mean()"
   ]
  },
  {
   "cell_type": "code",
   "execution_count": 181,
   "id": "68851680",
   "metadata": {},
   "outputs": [
    {
     "data": {
      "text/plain": [
       "55"
      ]
     },
     "execution_count": 181,
     "metadata": {},
     "output_type": "execute_result"
    }
   ],
   "source": [
    "(video_durations[good_videos==True]>10).sum()"
   ]
  },
  {
   "cell_type": "code",
   "execution_count": 186,
   "id": "76e58d3b",
   "metadata": {},
   "outputs": [],
   "source": [
    "video_durations_copy = video_durations.copy()\n",
    "video_durations_copy[good_videos==False]=np.nan"
   ]
  },
  {
   "cell_type": "code",
   "execution_count": 195,
   "id": "22a6924c",
   "metadata": {},
   "outputs": [
    {
     "data": {
      "text/plain": [
       "Text(0, 0.5, 'avg length (s)')"
      ]
     },
     "execution_count": 195,
     "metadata": {},
     "output_type": "execute_result"
    },
    {
     "data": {
      "image/png": "[encoded data removed]",
      "text/plain": [
       "<Figure size 1500x500 with 1 Axes>"
      ]
     },
     "metadata": {},
     "output_type": "display_data"
    }
   ],
   "source": [
    "plt.figure(figsize=(15,5))\n",
    "plt.plot(np.nanmean(video_durations_copy,axis=0),'k.')\n",
    "plt.xlabel('folder')\n",
    "plt.ylabel('avg length (s)')"
   ]
  },
  {
   "cell_type": "code",
   "execution_count": null,
   "id": "92f2f962",
   "metadata": {},
   "outputs": [],
   "source": []
  },
  {
   "cell_type": "code",
   "execution_count": null,
   "id": "1f03d617",
   "metadata": {},
   "outputs": [],
   "source": []
  },
  {
   "cell_type": "code",
   "execution_count": null,
   "id": "212bba4d",
   "metadata": {},
   "outputs": [],
   "source": []
  }
 ],
 "metadata": {
  "kernelspec": {
   "display_name": "Python 3 (ipykernel)",
   "language": "python",
   "name": "python3"
  },
  "language_info": {
   "codemirror_mode": {
    "name": "ipython",
    "version": 3
   },
   "file_extension": ".py",
   "mimetype": "text/x-python",
   "name": "python",
   "nbconvert_exporter": "python",
   "pygments_lexer": "ipython3",
   "version": "3.8.5"
  }
 },
 "nbformat": 4,
 "nbformat_minor": 5
}
