{
 "cells": [
  {
   "cell_type": "code",
   "execution_count": 1,
   "id": "1b39efbe",
   "metadata": {},
   "outputs": [
    {
     "name": "stdout",
     "output_type": "stream",
     "text": [
      "Fri Apr 28 05:58:15 EDT 2023\n"
     ]
    }
   ],
   "source": [
    "!date"
   ]
  },
  {
   "cell_type": "code",
   "execution_count": 2,
   "id": "37e8c82a",
   "metadata": {},
   "outputs": [
    {
     "data": {
      "text/plain": [
       "'/mmfs1/data/aglinska/BC-actionpred-seg'"
      ]
     },
     "execution_count": 2,
     "metadata": {},
     "output_type": "execute_result"
    }
   ],
   "source": [
    "pwd"
   ]
  },
  {
   "cell_type": "code",
   "execution_count": 3,
   "id": "e93adeb4",
   "metadata": {},
   "outputs": [],
   "source": [
    "import PIL\n",
    "from PIL import Image,ImageFilter\n",
    "import matplotlib.pyplot as plt\n",
    "import seaborn as sns\n",
    "import numpy as np\n",
    "from tqdm import tqdm\n",
    "from scipy.ndimage.filters import gaussian_filter\n",
    "import os\n",
    "import shutil\n",
    "import random\n",
    "#import cv2\n",
    "from skimage.transform import resize\n",
    "from datetime import datetime\n",
    "now = datetime.now"
   ]
  },
  {
   "cell_type": "code",
   "execution_count": 4,
   "id": "dfdbb0a0",
   "metadata": {},
   "outputs": [],
   "source": [
    "def load_video(fn):\n",
    "    import skvideo\n",
    "    import skvideo.io\n",
    "    videodata = skvideo.io.vread(fn)\n",
    "    return videodata"
   ]
  },
  {
   "cell_type": "code",
   "execution_count": 5,
   "id": "530d7821",
   "metadata": {},
   "outputs": [],
   "source": [
    "def safe_mkdir(fn):\n",
    "    import os\n",
    "    if not os.path.exists(fn):\n",
    "        os.mkdir(fn)"
   ]
  },
  {
   "cell_type": "code",
   "execution_count": 6,
   "id": "a8a4e28b",
   "metadata": {},
   "outputs": [
    {
     "name": "stdout",
     "output_type": "stream",
     "text": [
      "45\n",
      "['CPR', 'badminton_overswing', 'basketball_pass']\n",
      "['weightlifting_stand', 'whipping', 'yoga_updog']\n"
     ]
    }
   ],
   "source": [
    "dataset_dir = './Data/dataset-v3-10/'\n",
    "categories = [cat for cat in os.listdir(dataset_dir) if not cat.startswith('.')]\n",
    "categories.sort()\n",
    "n = len(categories)\n",
    "print(n)\n",
    "print(categories[0:3])\n",
    "print(categories[-3::])"
   ]
  },
  {
   "cell_type": "code",
   "execution_count": 7,
   "id": "86052dd3",
   "metadata": {},
   "outputs": [],
   "source": [
    "outdir = './Data/pytorch-data/action_data_rnd'\n",
    "#fn_temp = '{this_cat}_{vid_num:03d}.mp4' # original videos\n",
    "#fn_temp = '{this_cat}_{vid_num:03d}_item_0_fwd_seg.mp4' # Segmented videos\n",
    "#fn_temp = '{this_cat}_{vid_num:03d}_item_0_inp_seg.mp4' # Background\n",
    "fn_temp = '{this_cat}_{vid_num:03d}_item_0_bg_rnd.mp4' # RND inpainted\n",
    "\n",
    "safe_mkdir(outdir)\n",
    "\n",
    "safe_mkdir(os.path.join(outdir,'train'))\n",
    "safe_mkdir(os.path.join(outdir,'val'))\n",
    "safe_mkdir(os.path.join(outdir,'test'))\n",
    "\n",
    "[safe_mkdir(os.path.join(outdir,'train',category)) for category in categories];\n",
    "[safe_mkdir(os.path.join(outdir,'val',category)) for category in categories];\n",
    "[safe_mkdir(os.path.join(outdir,'test',category)) for category in categories];\n",
    "\n",
    "#cat_val = 8\n",
    "#cat_test = 9"
   ]
  },
  {
   "cell_type": "code",
   "execution_count": 8,
   "id": "9d39d616",
   "metadata": {},
   "outputs": [
    {
     "name": "stderr",
     "output_type": "stream",
     "text": [
      "100%|██████████| 45/45 [1:26:00<00:00, 114.69s/it]\n"
     ]
    }
   ],
   "source": [
    "for c in tqdm( range( n ) ):\n",
    "    this_cat = categories[c]\n",
    "    files = os.listdir(os.path.join(dataset_dir,this_cat))\n",
    "    files.sort()\n",
    "    vid_nums = np.unique([int(file.replace(this_cat+'_','')[0:3]) for file in files])\n",
    "    vid_nums = vid_nums[0:10]\n",
    "    \n",
    "    for vid_num in vid_nums:\n",
    "        video_data = load_video(os.path.join(dataset_dir,this_cat,fn_temp.format(this_cat=this_cat,vid_num=vid_num))) # load video 360*640\n",
    "        nframes = video_data.shape[0]\n",
    "        video_data = resize(np.pad(video_data,((0,0),(140,140),(0,0),(0,0))),(nframes,224,224,3)) # resize to 244*244 (0-1 range)\n",
    "        video_data = (video_data*255).astype(np.uint8) # make into 0-255 uint\n",
    "\n",
    "        if vid_num==vid_nums[8]:\n",
    "            outdir_subfolder = os.path.join(outdir,'val',this_cat)\n",
    "        elif vid_num==vid_nums[9]:\n",
    "            outdir_subfolder = os.path.join(outdir,'test',this_cat)\n",
    "        else:\n",
    "            outdir_subfolder = os.path.join(outdir,'train',this_cat)    \n",
    "\n",
    "        # Save all frames\n",
    "        [Image.fromarray(video_data[f,:,:,:]).save(os.path.join(outdir_subfolder,f'{vid_num:03d}_{f:03d}.jpg')) for f in range(nframes)];"
   ]
  },
  {
   "cell_type": "code",
   "execution_count": null,
   "id": "4c269154",
   "metadata": {},
   "outputs": [],
   "source": []
  },
  {
   "cell_type": "code",
   "execution_count": null,
   "id": "450b19a8",
   "metadata": {},
   "outputs": [],
   "source": []
  },
  {
   "cell_type": "code",
   "execution_count": null,
   "id": "5f71bbfd",
   "metadata": {},
   "outputs": [],
   "source": []
  },
  {
   "cell_type": "code",
   "execution_count": null,
   "id": "cc8cce5a",
   "metadata": {},
   "outputs": [],
   "source": []
  },
  {
   "cell_type": "code",
   "execution_count": null,
   "id": "6d166e8a",
   "metadata": {},
   "outputs": [],
   "source": []
  },
  {
   "cell_type": "code",
   "execution_count": null,
   "id": "88b66eac",
   "metadata": {},
   "outputs": [],
   "source": []
  },
  {
   "cell_type": "code",
   "execution_count": null,
   "id": "2d46e8cd",
   "metadata": {},
   "outputs": [],
   "source": []
  },
  {
   "cell_type": "code",
   "execution_count": null,
   "id": "6c3aa713",
   "metadata": {},
   "outputs": [],
   "source": []
  },
  {
   "cell_type": "code",
   "execution_count": null,
   "id": "9f8deace",
   "metadata": {},
   "outputs": [],
   "source": []
  },
  {
   "cell_type": "code",
   "execution_count": null,
   "id": "6c7a9316",
   "metadata": {},
   "outputs": [],
   "source": []
  },
  {
   "cell_type": "code",
   "execution_count": null,
   "id": "a19f60b7",
   "metadata": {},
   "outputs": [],
   "source": []
  },
  {
   "cell_type": "code",
   "execution_count": null,
   "id": "8200a7c4",
   "metadata": {},
   "outputs": [],
   "source": []
  },
  {
   "cell_type": "code",
   "execution_count": null,
   "id": "a3d3e0a6",
   "metadata": {},
   "outputs": [],
   "source": []
  },
  {
   "cell_type": "code",
   "execution_count": null,
   "id": "1d2d9912",
   "metadata": {},
   "outputs": [],
   "source": []
  },
  {
   "cell_type": "code",
   "execution_count": null,
   "id": "834fd216",
   "metadata": {},
   "outputs": [],
   "source": []
  },
  {
   "cell_type": "code",
   "execution_count": null,
   "id": "fd9f6f41",
   "metadata": {},
   "outputs": [],
   "source": []
  },
  {
   "cell_type": "code",
   "execution_count": null,
   "id": "7725e891",
   "metadata": {},
   "outputs": [],
   "source": []
  },
  {
   "cell_type": "code",
   "execution_count": null,
   "id": "e94b147e",
   "metadata": {},
   "outputs": [],
   "source": []
  },
  {
   "cell_type": "code",
   "execution_count": null,
   "id": "2e5ba1aa",
   "metadata": {},
   "outputs": [],
   "source": []
  },
  {
   "cell_type": "code",
   "execution_count": null,
   "id": "99947239",
   "metadata": {},
   "outputs": [],
   "source": []
  },
  {
   "cell_type": "code",
   "execution_count": null,
   "id": "c5fc8ff7",
   "metadata": {},
   "outputs": [],
   "source": []
  },
  {
   "cell_type": "code",
   "execution_count": null,
   "id": "678a8aca",
   "metadata": {},
   "outputs": [],
   "source": []
  }
 ],
 "metadata": {
  "kernelspec": {
   "display_name": "Python 3 (ipykernel)",
   "language": "python",
   "name": "python3"
  },
  "language_info": {
   "codemirror_mode": {
    "name": "ipython",
    "version": 3
   },
   "file_extension": ".py",
   "mimetype": "text/x-python",
   "name": "python",
   "nbconvert_exporter": "python",
   "pygments_lexer": "ipython3",
   "version": "3.8.5"
  }
 },
 "nbformat": 4,
 "nbformat_minor": 5
}
