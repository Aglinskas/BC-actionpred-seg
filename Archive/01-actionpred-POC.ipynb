{
 "cells": [
  {
   "cell_type": "code",
   "execution_count": 1,
   "id": "5bb883e8",
   "metadata": {},
   "outputs": [],
   "source": [
    "from torchvision import models\n",
    "fcn = models.segmentation.fcn_resnet101(weights=\"FCN_ResNet101_Weights.DEFAULT\").eval()"
   ]
  },
  {
   "cell_type": "code",
   "execution_count": 26,
   "id": "c2a91446",
   "metadata": {},
   "outputs": [],
   "source": [
    "import torch\n",
    "import torchvision.transforms as T"
   ]
  },
  {
   "cell_type": "code",
   "execution_count": 2,
   "id": "da543169",
   "metadata": {},
   "outputs": [
    {
     "name": "stderr",
     "output_type": "stream",
     "text": [
      "/var/folders/vq/3kk0fzh5509g0jkz5rt3zzsh0000gn/T/ipykernel_59110/1981465829.py:6: DeprecationWarning: Please use `gaussian_filter` from the `scipy.ndimage` namespace, the `scipy.ndimage.filters` namespace is deprecated.\n",
      "  from scipy.ndimage.filters import gaussian_filter\n"
     ]
    }
   ],
   "source": [
    "import PIL\n",
    "from PIL import Image\n",
    "import matplotlib.pyplot as plt\n",
    "import numpy as np\n",
    "from tqdm import tqdm\n",
    "from scipy.ndimage.filters import gaussian_filter"
   ]
  },
  {
   "cell_type": "code",
   "execution_count": 5,
   "id": "a70383cb",
   "metadata": {},
   "outputs": [],
   "source": [
    "def load_video(fn):\n",
    "    import skvideo\n",
    "    import skvideo.io\n",
    "    videodata = skvideo.io.vread(fn)\n",
    "    return videodata"
   ]
  },
  {
   "cell_type": "code",
   "execution_count": 6,
   "id": "4c71204b",
   "metadata": {},
   "outputs": [],
   "source": [
    "def save_video(videodata,ofn='outvideo.mp4'):\n",
    "    import skvideo\n",
    "    import skvideo.io\n",
    "    skvideo.io.vwrite(ofn, videodata.astype(np.uint8),outputdict={'-codec': 'h264', '-filter:v' : 'fps=29.97'})"
   ]
  },
  {
   "cell_type": "code",
   "execution_count": 7,
   "id": "045d1160",
   "metadata": {},
   "outputs": [],
   "source": [
    "# Define the helper function\n",
    "def decode_segmap(image, nc=21):\n",
    "  \n",
    "  label_colors = np.array([(0, 0, 0),  # 0=background\n",
    "               # 1=aeroplane, 2=bicycle, 3=bird, 4=boat, 5=bottle\n",
    "               (128, 0, 0), (0, 128, 0), (128, 128, 0), (0, 0, 128), (128, 0, 128),\n",
    "               # 6=bus, 7=car, 8=cat, 9=chair, 10=cow\n",
    "               (0, 128, 128), (128, 128, 128), (64, 0, 0), (192, 0, 0), (64, 128, 0),\n",
    "               # 11=dining table, 12=dog, 13=horse, 14=motorbike, 15=person\n",
    "               (192, 128, 0), (64, 0, 128), (192, 0, 128), (64, 128, 128), (192, 128, 128),\n",
    "               # 16=potted plant, 17=sheep, 18=sofa, 19=train, 20=tv/monitor\n",
    "               (0, 64, 0), (128, 64, 0), (0, 192, 0), (128, 192, 0), (0, 64, 128)])\n",
    "\n",
    "  r = np.zeros_like(image).astype(np.uint8)\n",
    "  g = np.zeros_like(image).astype(np.uint8)\n",
    "  b = np.zeros_like(image).astype(np.uint8)\n",
    "  \n",
    "  for l in range(0, nc):\n",
    "    idx = image == l\n",
    "    r[idx] = label_colors[l, 0]\n",
    "    g[idx] = label_colors[l, 1]\n",
    "    b[idx] = label_colors[l, 2]\n",
    "    \n",
    "  rgb = np.stack([r, g, b], axis=2)\n",
    "  return rgb"
   ]
  },
  {
   "cell_type": "code",
   "execution_count": 33,
   "id": "1ee9df75",
   "metadata": {},
   "outputs": [],
   "source": [
    "def get_seg(net, img, show=True, dev='cpu'):\n",
    "    \n",
    "    if not type(img)==PIL.Image.Image:\n",
    "        img = Image.fromarray(img)\n",
    "    \n",
    "    if show: plt.figure(figsize=(15,5))\n",
    "    \n",
    "    if show: plt.subplot(1,3,1);plt.imshow(img); plt.axis('off');\n",
    "    \n",
    "    \n",
    "    # Comment the Resize and CenterCrop for better inference results\n",
    "    trf = T.Compose([T.Resize((720,1280)), \n",
    "                   #T.CenterCrop(224), \n",
    "                   T.ToTensor(), \n",
    "                   T.Normalize(mean = [0.485, 0.456, 0.406], \n",
    "                               std = [0.229, 0.224, 0.225])])\n",
    "    inp = trf(img).unsqueeze(0).to(dev)\n",
    "    out = net.to(dev)(inp)['out']\n",
    "    om = torch.argmax(out.squeeze(), dim=0).detach().cpu().numpy()\n",
    "    rgb = decode_segmap(om)\n",
    "    #plt.imshow(rgb); plt.axis('off'); plt.show()\n",
    "    \n",
    "    seg_resized = Image.fromarray(rgb).resize((512,512),resample=PIL.Image.NEAREST)\n",
    "    \n",
    "    #bg = (np.array(seg_resized)==0).sum(axis=-1)==3\n",
    "    #img_copy = np.array(img).copy()\n",
    "    #img_copy[:,:,0][bg] = 0\n",
    "    #img_copy[:,:,1][bg] = 0\n",
    "    #img_copy[:,:,2][bg] = 0\n",
    "    #Image.fromarray(img_copy)\n",
    "    \n",
    "    if show: plt.subplot(1,3,2);plt.imshow(rgb); plt.axis('off');\n",
    "    \n",
    "    if show: plt.subplot(1,3,3);plt.imshow(seg_resized); plt.axis('off');\n",
    "    \n",
    "    \n",
    "    if show: plt.show()\n",
    "    \n",
    "    return rgb"
   ]
  },
  {
   "cell_type": "code",
   "execution_count": null,
   "id": "6451243d",
   "metadata": {},
   "outputs": [],
   "source": []
  },
  {
   "cell_type": "code",
   "execution_count": 37,
   "id": "a9d900ff",
   "metadata": {},
   "outputs": [
    {
     "data": {
      "text/plain": [
       "(53, 720, 1280, 3)"
      ]
     },
     "execution_count": 37,
     "metadata": {},
     "output_type": "execute_result"
    }
   ],
   "source": [
    "fn = 'wall_paint_brush_004.mp4'\n",
    "video_data = load_video(fn)\n",
    "video_data.shape"
   ]
  },
  {
   "cell_type": "code",
   "execution_count": 49,
   "id": "318a972e",
   "metadata": {},
   "outputs": [
    {
     "name": "stderr",
     "output_type": "stream",
     "text": [
      "\n",
      "  0%|                                                    | 0/62 [00:00<?, ?it/s]\u001b[A\n",
      "  2%|▋                                           | 1/62 [00:06<06:20,  6.24s/it]\u001b[A\n",
      "  3%|█▍                                          | 2/62 [00:11<05:30,  5.51s/it]\u001b[A\n",
      "  5%|██▏                                         | 3/62 [00:16<05:08,  5.22s/it]\u001b[A\n",
      "  6%|██▊                                         | 4/62 [00:21<04:59,  5.16s/it]\u001b[A\n",
      "  8%|███▌                                        | 5/62 [00:26<04:54,  5.16s/it]\u001b[A\n",
      " 10%|████▎                                       | 6/62 [00:31<04:46,  5.12s/it]\u001b[A\n",
      " 11%|████▉                                       | 7/62 [00:36<04:40,  5.10s/it]\u001b[A\n",
      " 13%|█████▋                                      | 8/62 [00:41<04:35,  5.11s/it]\u001b[A\n",
      " 15%|██████▍                                     | 9/62 [00:46<04:30,  5.10s/it]\u001b[A\n",
      " 16%|██████▉                                    | 10/62 [00:51<04:25,  5.11s/it]\u001b[A\n",
      " 18%|███████▋                                   | 11/62 [00:56<04:16,  5.04s/it]\u001b[A\n",
      " 19%|████████▎                                  | 12/62 [01:01<04:09,  5.00s/it]\u001b[A\n",
      " 21%|█████████                                  | 13/62 [01:07<04:16,  5.24s/it]\u001b[A\n",
      " 23%|█████████▋                                 | 14/62 [01:12<04:11,  5.25s/it]\u001b[A\n",
      " 24%|██████████▍                                | 15/62 [01:17<04:06,  5.24s/it]\u001b[A\n",
      " 26%|███████████                                | 16/62 [01:22<03:55,  5.12s/it]\u001b[A\n",
      " 27%|███████████▊                               | 17/62 [01:27<03:48,  5.08s/it]\u001b[A\n",
      " 29%|████████████▍                              | 18/62 [01:32<03:43,  5.08s/it]\u001b[A\n",
      " 31%|█████████████▏                             | 19/62 [01:37<03:36,  5.04s/it]\u001b[A\n",
      " 32%|█████████████▊                             | 20/62 [01:42<03:29,  4.98s/it]\u001b[A\n",
      " 34%|██████████████▌                            | 21/62 [01:47<03:22,  4.94s/it]\u001b[A\n",
      " 35%|███████████████▎                           | 22/62 [01:52<03:18,  4.97s/it]\u001b[A\n",
      " 37%|███████████████▉                           | 23/62 [01:57<03:12,  4.93s/it]\u001b[A\n",
      " 39%|████████████████▋                          | 24/62 [02:02<03:13,  5.09s/it]\u001b[A\n",
      " 40%|█████████████████▎                         | 25/62 [02:07<03:09,  5.13s/it]\u001b[A\n",
      " 42%|██████████████████                         | 26/62 [02:13<03:05,  5.14s/it]\u001b[A\n",
      " 44%|██████████████████▋                        | 27/62 [02:18<02:57,  5.08s/it]\u001b[A\n",
      " 45%|███████████████████▍                       | 28/62 [02:23<02:54,  5.14s/it]\u001b[A\n",
      " 47%|████████████████████                       | 29/62 [02:29<02:59,  5.45s/it]\u001b[A\n",
      " 48%|████████████████████▊                      | 30/62 [02:35<02:56,  5.53s/it]\u001b[A\n",
      " 50%|█████████████████████▌                     | 31/62 [02:40<02:53,  5.60s/it]\u001b[A\n",
      " 52%|██████████████████████▏                    | 32/62 [02:47<02:52,  5.74s/it]\u001b[A\n",
      " 53%|██████████████████████▉                    | 33/62 [02:53<02:55,  6.03s/it]\u001b[A\n",
      " 55%|███████████████████████▌                   | 34/62 [03:00<02:53,  6.19s/it]\u001b[A\n",
      " 56%|████████████████████████▎                  | 35/62 [03:05<02:40,  5.96s/it]\u001b[A\n",
      " 58%|████████████████████████▉                  | 36/62 [03:11<02:35,  5.98s/it]\u001b[A\n",
      " 60%|█████████████████████████▋                 | 37/62 [03:17<02:27,  5.91s/it]\u001b[A\n",
      " 61%|██████████████████████████▎                | 38/62 [03:23<02:20,  5.85s/it]\u001b[A\n",
      " 63%|███████████████████████████                | 39/62 [03:29<02:16,  5.95s/it]\u001b[A\n",
      " 65%|███████████████████████████▋               | 40/62 [03:35<02:12,  6.02s/it]\u001b[A\n",
      " 66%|████████████████████████████▍              | 41/62 [03:41<02:05,  5.96s/it]\u001b[A\n",
      " 68%|█████████████████████████████▏             | 42/62 [03:47<01:57,  5.88s/it]\u001b[A\n",
      " 69%|█████████████████████████████▊             | 43/62 [03:53<01:54,  6.02s/it]\u001b[A\n",
      " 71%|██████████████████████████████▌            | 44/62 [03:59<01:46,  5.91s/it]\u001b[A\n",
      " 73%|███████████████████████████████▏           | 45/62 [04:05<01:42,  6.06s/it]\u001b[A\n",
      " 74%|███████████████████████████████▉           | 46/62 [04:11<01:35,  5.98s/it]\u001b[A\n",
      " 76%|████████████████████████████████▌          | 47/62 [04:17<01:29,  5.95s/it]\u001b[A\n",
      " 77%|█████████████████████████████████▎         | 48/62 [04:23<01:25,  6.12s/it]\u001b[A\n",
      " 79%|█████████████████████████████████▉         | 49/62 [04:30<01:20,  6.18s/it]\u001b[A\n",
      " 81%|██████████████████████████████████▋        | 50/62 [04:35<01:11,  5.98s/it]\u001b[A\n",
      " 82%|███████████████████████████████████▎       | 51/62 [04:41<01:05,  5.98s/it]\u001b[A\n",
      " 84%|████████████████████████████████████       | 52/62 [04:48<01:01,  6.16s/it]\u001b[A\n",
      " 85%|████████████████████████████████████▊      | 53/62 [04:53<00:53,  5.98s/it]\u001b[A\n",
      " 87%|█████████████████████████████████████▍     | 54/62 [04:59<00:46,  5.81s/it]\u001b[A\n",
      " 89%|██████████████████████████████████████▏    | 55/62 [05:03<00:38,  5.49s/it]\u001b[A\n",
      " 90%|██████████████████████████████████████▊    | 56/62 [05:09<00:32,  5.47s/it]\u001b[A\n",
      " 92%|███████████████████████████████████████▌   | 57/62 [05:14<00:27,  5.54s/it]\u001b[A\n",
      " 94%|████████████████████████████████████████▏  | 58/62 [05:20<00:21,  5.43s/it]\u001b[A\n",
      " 95%|████████████████████████████████████████▉  | 59/62 [05:25<00:16,  5.39s/it]\u001b[A\n",
      " 97%|█████████████████████████████████████████▌ | 60/62 [05:30<00:10,  5.17s/it]\u001b[A\n",
      " 98%|██████████████████████████████████████████▎| 61/62 [05:35<00:05,  5.09s/it]\u001b[A\n",
      "100%|███████████████████████████████████████████| 62/62 [05:39<00:00,  5.48s/it]\u001b[A\n"
     ]
    }
   ],
   "source": [
    "fn = 'taking_selfie_014.mp4'\n",
    "video_data = load_video(fn)\n",
    "video_seg = np.array([get_seg(fcn,video_data[i,:,:,:],show=False) for i in tqdm(range(video_data.shape[0]))])\n",
    "save_video(video_seg,fn.replace('.mp4','_seg.mp4'))"
   ]
  },
  {
   "cell_type": "code",
   "execution_count": null,
   "id": "24447047",
   "metadata": {},
   "outputs": [],
   "source": []
  },
  {
   "cell_type": "code",
   "execution_count": null,
   "id": "25560220",
   "metadata": {},
   "outputs": [],
   "source": []
  },
  {
   "cell_type": "code",
   "execution_count": 38,
   "id": "cd50a5ea",
   "metadata": {},
   "outputs": [],
   "source": [
    "frame = video_data[1,:,:,:]"
   ]
  },
  {
   "cell_type": "code",
   "execution_count": 39,
   "id": "4e3c67bf",
   "metadata": {},
   "outputs": [
    {
     "data": {
      "image/png": "[encoded data removed]",
      "text/plain": [
       "<Figure size 1080x360 with 3 Axes>"
      ]
     },
     "metadata": {
      "needs_background": "light"
     },
     "output_type": "display_data"
    }
   ],
   "source": [
    "seg = get_seg(fcn,frame)"
   ]
  },
  {
   "cell_type": "code",
   "execution_count": null,
   "id": "7ef9dc2b",
   "metadata": {},
   "outputs": [],
   "source": []
  },
  {
   "cell_type": "code",
   "execution_count": null,
   "id": "fb22b6a4",
   "metadata": {},
   "outputs": [],
   "source": []
  },
  {
   "cell_type": "code",
   "execution_count": null,
   "id": "3ad0da95",
   "metadata": {},
   "outputs": [],
   "source": []
  },
  {
   "cell_type": "code",
   "execution_count": null,
   "id": "aba6d7c3",
   "metadata": {},
   "outputs": [],
   "source": []
  },
  {
   "cell_type": "code",
   "execution_count": 4,
   "id": "87429d41",
   "metadata": {},
   "outputs": [],
   "source": [
    "# def get_bg(net, img, show=True, dev='cpu'):\n",
    "    \n",
    "#     if not type(img)==PIL.Image.Image:\n",
    "#         img = Image.fromarray(img)\n",
    "    \n",
    "    \n",
    "#     if show: plt.figure(figsize=(15,5))\n",
    "    \n",
    "#     if show: plt.subplot(1,3,1);plt.imshow(img); plt.axis('off');\n",
    "    \n",
    "    \n",
    "#     # Comment the Resize and CenterCrop for better inference results\n",
    "#     trf = T.Compose([T.Resize(640), \n",
    "#                    #T.CenterCrop(224), \n",
    "#                    T.ToTensor(), \n",
    "#                    T.Normalize(mean = [0.485, 0.456, 0.406], \n",
    "#                                std = [0.229, 0.224, 0.225])])\n",
    "#     inp = trf(img).unsqueeze(0).to(dev)\n",
    "#     out = net.to(dev)(inp)['out']\n",
    "#     om = torch.argmax(out.squeeze(), dim=0).detach().cpu().numpy()\n",
    "#     rgb = decode_segmap(om)\n",
    "#     #plt.imshow(rgb); plt.axis('off'); plt.show()\n",
    "    \n",
    "    \n",
    "#     seg_resized = Image.fromarray(rgb).resize((512,512),resample=PIL.Image.NEAREST)\n",
    "#     bg = (np.array(seg_resized)==0).sum(axis=-1)==3\n",
    "#     img_copy = np.array(img).copy()\n",
    "#     img_copy[:,:,0][bg] = 0\n",
    "#     img_copy[:,:,1][bg] = 0\n",
    "#     img_copy[:,:,2][bg] = 0\n",
    "#     #Image.fromarray(img_copy)\n",
    "    \n",
    "#     if show: plt.subplot(1,3,2);plt.imshow(rgb); plt.axis('off');\n",
    "    \n",
    "#     if show: plt.subplot(1,3,3);plt.imshow(img_copy); plt.axis('off');\n",
    "    \n",
    "    \n",
    "#     if show: plt.show()\n",
    "    \n",
    "#     return bg"
   ]
  },
  {
   "cell_type": "code",
   "execution_count": null,
   "id": "e2da9e4a",
   "metadata": {},
   "outputs": [],
   "source": []
  },
  {
   "cell_type": "code",
   "execution_count": null,
   "id": "334752be",
   "metadata": {},
   "outputs": [],
   "source": []
  },
  {
   "cell_type": "code",
   "execution_count": null,
   "id": "746c59ca",
   "metadata": {},
   "outputs": [],
   "source": []
  },
  {
   "cell_type": "code",
   "execution_count": null,
   "id": "e3ff6f4d",
   "metadata": {},
   "outputs": [],
   "source": []
  },
  {
   "cell_type": "code",
   "execution_count": null,
   "id": "d0cbac1c",
   "metadata": {},
   "outputs": [],
   "source": []
  },
  {
   "cell_type": "code",
   "execution_count": null,
   "id": "9278817d",
   "metadata": {},
   "outputs": [],
   "source": []
  },
  {
   "cell_type": "code",
   "execution_count": null,
   "id": "3aeaf0cb",
   "metadata": {},
   "outputs": [],
   "source": []
  }
 ],
 "metadata": {
  "kernelspec": {
   "display_name": "Python 3",
   "language": "python",
   "name": "python3"
  },
  "language_info": {
   "codemirror_mode": {
    "name": "ipython",
    "version": 3
   },
   "file_extension": ".py",
   "mimetype": "text/x-python",
   "name": "python",
   "nbconvert_exporter": "python",
   "pygments_lexer": "ipython3",
   "version": "3.8.5"
  }
 },
 "nbformat": 4,
 "nbformat_minor": 5
}
