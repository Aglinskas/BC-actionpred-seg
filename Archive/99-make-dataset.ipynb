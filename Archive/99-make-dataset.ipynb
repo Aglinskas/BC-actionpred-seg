{
 "cells": [
  {
   "cell_type": "code",
   "execution_count": 2,
   "id": "bda90b2e",
   "metadata": {},
   "outputs": [
    {
     "data": {
      "text/plain": [
       "'/mmfs1/data/aglinska/BC-actionpred-seg'"
      ]
     },
     "execution_count": 2,
     "metadata": {},
     "output_type": "execute_result"
    }
   ],
   "source": [
    "pwd"
   ]
  },
  {
   "cell_type": "code",
   "execution_count": 1,
   "id": "9ab51c2c",
   "metadata": {},
   "outputs": [],
   "source": [
    "import os\n",
    "import numpy as np"
   ]
  },
  {
   "cell_type": "code",
   "execution_count": 3,
   "id": "53dbebba",
   "metadata": {},
   "outputs": [],
   "source": [
    "data_dir = './Data/haa500_v1_1_yolo_seg3'"
   ]
  },
  {
   "cell_type": "code",
   "execution_count": 10,
   "id": "957a4d0a",
   "metadata": {},
   "outputs": [
    {
     "name": "stdout",
     "output_type": "stream",
     "text": [
      "497\n"
     ]
    },
    {
     "data": {
      "text/plain": [
       "['ALS_IceBucket_Challenge',\n",
       " 'CPR',\n",
       " 'abseiling',\n",
       " 'add_new_car_tire',\n",
       " 'adjusting_glasses']"
      ]
     },
     "execution_count": 10,
     "metadata": {},
     "output_type": "execute_result"
    }
   ],
   "source": [
    "folders = [folder for folder in os.listdir(data_dir) if not folder.startswith('.')]\n",
    "folders.sort()\n",
    "nfolders = len(folders)\n",
    "print(nfolders)\n",
    "folders[0:5]"
   ]
  },
  {
   "cell_type": "code",
   "execution_count": 19,
   "id": "6701f4a5",
   "metadata": {},
   "outputs": [
    {
     "data": {
      "text/plain": [
       "346"
      ]
     },
     "execution_count": 19,
     "metadata": {},
     "output_type": "execute_result"
    }
   ],
   "source": [
    "check_contents = [len([file for file in os.listdir(os.path.join(data_dir,folder)) if file.endswith('_fwd_seg.mp4')]) for folder in folders]\n",
    "check_contents = np.array(check_contents)\n",
    "(check_contents==20).sum()"
   ]
  },
  {
   "cell_type": "code",
   "execution_count": null,
   "id": "04e8608f",
   "metadata": {},
   "outputs": [],
   "source": []
  }
 ],
 "metadata": {
  "kernelspec": {
   "display_name": "Python 3 (ipykernel)",
   "language": "python",
   "name": "python3"
  },
  "language_info": {
   "codemirror_mode": {
    "name": "ipython",
    "version": 3
   },
   "file_extension": ".py",
   "mimetype": "text/x-python",
   "name": "python",
   "nbconvert_exporter": "python",
   "pygments_lexer": "ipython3",
   "version": "3.8.5"
  }
 },
 "nbformat": 4,
 "nbformat_minor": 5
}
