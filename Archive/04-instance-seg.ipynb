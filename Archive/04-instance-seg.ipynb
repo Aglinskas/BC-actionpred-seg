{
 "cells": [
  {
   "cell_type": "code",
   "execution_count": null,
   "id": "d72b5f80",
   "metadata": {},
   "outputs": [],
   "source": []
  },
  {
   "cell_type": "code",
   "execution_count": null,
   "id": "fb8b2d51",
   "metadata": {},
   "outputs": [],
   "source": []
  },
  {
   "cell_type": "code",
   "execution_count": null,
   "id": "2591fa65",
   "metadata": {},
   "outputs": [],
   "source": [
    "cd ~/BC-actionpred-seg/"
   ]
  },
  {
   "cell_type": "code",
   "execution_count": null,
   "id": "37b96197",
   "metadata": {},
   "outputs": [],
   "source": [
    "from ultralytics import YOLO\n"
   ]
  },
  {
   "cell_type": "code",
   "execution_count": null,
   "id": "511ab054",
   "metadata": {},
   "outputs": [],
   "source": [
    "import PIL\n",
    "from PIL import Image\n",
    "import matplotlib.pyplot as plt\n",
    "import numpy as np\n",
    "from tqdm import tqdm\n",
    "from scipy.ndimage.filters import gaussian_filter\n",
    "import os"
   ]
  },
  {
   "cell_type": "code",
   "execution_count": null,
   "id": "4dd0843c",
   "metadata": {},
   "outputs": [],
   "source": [
    "import skvideo\n",
    "import skvideo.io\n",
    "def load_video(fn):\n",
    "    videodata = skvideo.io.vread(fn)\n",
    "    return videodata"
   ]
  },
  {
   "cell_type": "code",
   "execution_count": null,
   "id": "9835826b",
   "metadata": {},
   "outputs": [],
   "source": [
    "indir = './Data/haa500_v1_1/video'\n",
    "folders = os.listdir(indir) ; folders.sort()\n",
    "\n",
    "videos = []\n",
    "for folder in folders:\n",
    "    cont = [file for file in os.listdir(os.path.join(indir,folder)) if file.endswith('.mp4')]\n",
    "    videos.append(cont)\n",
    "    \n",
    "print(len(folders))\n",
    "print(np.array([len(folder) for folder in videos]))"
   ]
  },
  {
   "cell_type": "code",
   "execution_count": null,
   "id": "39675071",
   "metadata": {},
   "outputs": [],
   "source": [
    "model = YOLO(\"yolov8x-seg.pt\")  # load a pretrained model (recommended for training)\n"
   ]
  },
  {
   "cell_type": "code",
   "execution_count": null,
   "id": "2d058dd0",
   "metadata": {},
   "outputs": [],
   "source": [
    "f = 0\n",
    "v = 6\n",
    "fn = os.path.join(indir,folders[f],videos[f][v])\n",
    "video_data = load_video(fn)\n",
    "frame = 0\n",
    "im = video_data[frame,:,:,:]\n",
    "plt.imshow(im)\n",
    "fn"
   ]
  },
  {
   "cell_type": "code",
   "execution_count": null,
   "id": "9a0c73f0",
   "metadata": {},
   "outputs": [],
   "source": []
  },
  {
   "cell_type": "code",
   "execution_count": null,
   "id": "57c8dced",
   "metadata": {},
   "outputs": [],
   "source": [
    "files = [file for file in os.listdir() if file.endswith('_masks.npy')]\n",
    "files.sort()"
   ]
  },
  {
   "cell_type": "code",
   "execution_count": null,
   "id": "db9b514c",
   "metadata": {},
   "outputs": [],
   "source": [
    "for file in files:\n",
    "    arr = np.load(file)\n",
    "    plt.figure(figsize=(15,5))\n",
    "    for i in range(arr.shape[0]):\n",
    "        plt.subplot(2,4,i+1)\n",
    "        plt.imshow(arr[i,:,:])\n",
    "        plt.axis('off') \n",
    "    plt.suptitle(file)"
   ]
  },
  {
   "cell_type": "code",
   "execution_count": null,
   "id": "88538273",
   "metadata": {},
   "outputs": [],
   "source": []
  },
  {
   "cell_type": "code",
   "execution_count": null,
   "id": "8eb9c8d0",
   "metadata": {},
   "outputs": [],
   "source": []
  },
  {
   "cell_type": "markdown",
   "id": "d43dd6be",
   "metadata": {},
   "source": [
    "import numpy as np\n",
    "from ultralytics import YOLO\n",
    "from matplotlib import pyplot as plt\n",
    "import os\n",
    "\n",
    "model = YOLO(\"yolov8x-seg.pt\")\n",
    "#model = YOLO(\"yolov8n-seg.pt\")\n",
    "\n",
    "indir = '~/BC-actionpred-seg/Data/haa500_v1_1_frames/video/' #ALS_IceBucket_Challenge/ALS_IceBucket_Challenge_009\n",
    "indir = os.path.expanduser(indir)\n",
    "\n",
    "folders = [folder for folder in os.listdir(indir) if not folder.startswith('.')]\n",
    "folders.sort()\n",
    "folders\n",
    "\n",
    "videos = []\n",
    "for folder in folders:\n",
    "    conts = os.listdir(os.path.join(indir,folder))\n",
    "    conts = [os.path.join(indir,folder,cont) for cont in conts if not cont.startswith('.')]\n",
    "    conts.sort()\n",
    "    videos.append(conts)\n",
    "\n",
    "f = 1\n",
    "for v in range(20):\n",
    "\tframes = [os.path.join(videos[f][v],frame) for frame in os.listdir(videos[f][v]) if frame.endswith('.png')]\n",
    "\tframes.sort()\n",
    "\n",
    "\tprint(videos[f][v])\n",
    "\t#frames\n",
    "\t#files =  [file for file in os.listdir() if file.endswith('.png')]\n",
    "\t#files.sort()\n",
    "\n",
    "\tfor infn in frames:\n",
    "\t\t#infn = \"axe_throwing_000_0.png\"\n",
    "\t\t#im = plt.imread(infn)[:,:,0:3]\n",
    "\t\t#im = im[0:640,0:384,:]\n",
    "\t\tresults = model.predict(infn)\n",
    "\n",
    "\t\tbox = np.array(results[0].boxes.boxes)\n",
    "\t\tbox.shape\n",
    "\t\tnp.save(infn.replace('.png','_box.npy'),box)\n",
    "\n",
    "\t\tarr = np.array(results[0].masks.masks)\n",
    "\t\tnp.save(infn.replace('.png','_masks.npy'),arr)\n"
   ]
  },
  {
   "cell_type": "code",
   "execution_count": null,
   "id": "1c7162dc",
   "metadata": {},
   "outputs": [],
   "source": []
  }
 ],
 "metadata": {
  "kernelspec": {
   "display_name": "Python 3 (ipykernel)",
   "language": "python",
   "name": "python3"
  },
  "language_info": {
   "codemirror_mode": {
    "name": "ipython",
    "version": 3
   },
   "file_extension": ".py",
   "mimetype": "text/x-python",
   "name": "python",
   "nbconvert_exporter": "python",
   "pygments_lexer": "ipython3",
   "version": "3.8.5"
  }
 },
 "nbformat": 4,
 "nbformat_minor": 5
}
