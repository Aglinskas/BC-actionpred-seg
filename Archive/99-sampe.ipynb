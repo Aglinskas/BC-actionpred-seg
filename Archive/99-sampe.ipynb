{
 "cells": [
  {
   "cell_type": "code",
   "execution_count": 1,
   "id": "ea8f9230",
   "metadata": {},
   "outputs": [
    {
     "data": {
      "text/plain": [
       "'/mmfs1/data/aglinska/BC-actionpred-seg'"
      ]
     },
     "execution_count": 1,
     "metadata": {},
     "output_type": "execute_result"
    }
   ],
   "source": [
    "pwd"
   ]
  },
  {
   "cell_type": "code",
   "execution_count": 16,
   "id": "3722e742",
   "metadata": {},
   "outputs": [],
   "source": [
    "import os\n",
    "import shutil\n",
    "import random"
   ]
  },
  {
   "cell_type": "code",
   "execution_count": 35,
   "id": "f08326d4",
   "metadata": {},
   "outputs": [
    {
     "data": {
      "text/plain": [
       "499"
      ]
     },
     "execution_count": 35,
     "metadata": {},
     "output_type": "execute_result"
    }
   ],
   "source": [
    "infn = './Data/haa500_v1_1_frames/video/'\n",
    "folders = [folder for folder in os.listdir(infn) if not folder.startswith('.')]\n",
    "folders.sort()\n",
    "len(folders)"
   ]
  },
  {
   "cell_type": "code",
   "execution_count": 53,
   "id": "62b6b5b9",
   "metadata": {},
   "outputs": [
    {
     "data": {
      "text/plain": [
       "'whistle_two_hands'"
      ]
     },
     "execution_count": 53,
     "metadata": {},
     "output_type": "execute_result"
    }
   ],
   "source": [
    "rand_folder = random.choice(folders)\n",
    "rand_folder"
   ]
  },
  {
   "cell_type": "code",
   "execution_count": 54,
   "id": "6dd5fc24",
   "metadata": {},
   "outputs": [],
   "source": [
    "outfn = './Data/sample/haa500_v1_1_frames/video'"
   ]
  },
  {
   "cell_type": "code",
   "execution_count": 55,
   "id": "bf60c02f",
   "metadata": {},
   "outputs": [],
   "source": [
    "rand_in = os.path.join(infn,rand_folder,rand_folder+'_001')\n",
    "rand_out = os.path.join(outfn,rand_folder,rand_folder+'_001')"
   ]
  },
  {
   "cell_type": "code",
   "execution_count": 56,
   "id": "cd8f0bc1",
   "metadata": {},
   "outputs": [
    {
     "data": {
      "text/plain": [
       "'./Data/sample/haa500_v1_1_frames/video/whistle_two_hands/whistle_two_hands_001'"
      ]
     },
     "execution_count": 56,
     "metadata": {},
     "output_type": "execute_result"
    }
   ],
   "source": [
    "shutil.copytree(rand_in,rand_out)"
   ]
  },
  {
   "cell_type": "code",
   "execution_count": null,
   "id": "469e1025",
   "metadata": {},
   "outputs": [],
   "source": []
  },
  {
   "cell_type": "code",
   "execution_count": null,
   "id": "fdc70501",
   "metadata": {},
   "outputs": [],
   "source": []
  }
 ],
 "metadata": {
  "kernelspec": {
   "display_name": "Python 3 (ipykernel)",
   "language": "python",
   "name": "python3"
  },
  "language_info": {
   "codemirror_mode": {
    "name": "ipython",
    "version": 3
   },
   "file_extension": ".py",
   "mimetype": "text/x-python",
   "name": "python",
   "nbconvert_exporter": "python",
   "pygments_lexer": "ipython3",
   "version": "3.8.5"
  }
 },
 "nbformat": 4,
 "nbformat_minor": 5
}
