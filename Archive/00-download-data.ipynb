{
 "cells": [
  {
   "cell_type": "markdown",
   "id": "a5f7fb1d",
   "metadata": {},
   "source": [
    "https://hkustconnect-my.sharepoint.com/personal/jchungaa_connect_ust_hk/_layouts/15/onedrive.aspx?id=%2Fpersonal%2Fjchungaa%5Fconnect%5Fust%5Fhk%2FDocuments%2FSHARED%2FHAA500%2Fhaa500%5Fv1%5F1%2Ezip&parent=%2Fpersonal%2Fjchungaa%5Fconnect%5Fust%5Fhk%2FDocuments%2FSHARED%2FHAA500&ga=1\n",
    "https://hkustconnect-my.sharepoint.com/personal/jchungaa_connect_ust_hk/_layouts/15/download.aspx?SourceUrl=%2Fpersonal%2Fjchungaa%5Fconnect%5Fust%5Fhk%2FDocuments%2FSHARED%2FHAA500%2Fhaa500%5Fv1%5F1%2Ezip"
   ]
  },
  {
   "cell_type": "code",
   "execution_count": 6,
   "id": "1a6479e7",
   "metadata": {},
   "outputs": [],
   "source": [
    "#!wget --no-check-certificate https://hkustconnect-my.sharepoint.com/personal/jchungaa_connect_ust_hk/_layouts/15/onedrive.aspx?id=%2Fpersonal%2Fjchungaa%5Fconnect%5Fust%5Fhk%2FDocuments%2FSHARED%2FHAA500%2Fhaa500%5Fv1%5F1%2Ezip&parent=%2Fpersonal%2Fjchungaa%5Fconnect%5Fust%5Fhk%2FDocuments%2FSHARED%2FHAA500&download=1"
   ]
  },
  {
   "cell_type": "code",
   "execution_count": 5,
   "id": "b7fee0ed",
   "metadata": {},
   "outputs": [],
   "source": [
    "#rsync -rvz -e 'ssh -p 22022' --progress /Users/aidasaglinskas/Downloads/haa500_v1_1.zip aglinska@andromeda.bc.edu:/data/aglinska/BC-actionpred-seg/"
   ]
  },
  {
   "cell_type": "code",
   "execution_count": null,
   "id": "9692c6cc",
   "metadata": {},
   "outputs": [],
   "source": []
  },
  {
   "cell_type": "code",
   "execution_count": null,
   "id": "5443f32e",
   "metadata": {},
   "outputs": [],
   "source": []
  }
 ],
 "metadata": {
  "kernelspec": {
   "display_name": "Python 3 (ipykernel)",
   "language": "python",
   "name": "python3"
  },
  "language_info": {
   "codemirror_mode": {
    "name": "ipython",
    "version": 3
   },
   "file_extension": ".py",
   "mimetype": "text/x-python",
   "name": "python",
   "nbconvert_exporter": "python",
   "pygments_lexer": "ipython3",
   "version": "3.8.5"
  }
 },
 "nbformat": 4,
 "nbformat_minor": 5
}
