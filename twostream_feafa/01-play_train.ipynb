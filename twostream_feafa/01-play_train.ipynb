{
 "cells": [
  {
   "cell_type": "code",
   "execution_count": 1,
   "metadata": {},
   "outputs": [
    {
     "name": "stdout",
     "output_type": "stream",
     "text": [
      "Wed Jul  5 11:02:24 EDT 2023\n"
     ]
    }
   ],
   "source": [
    "!date"
   ]
  },
  {
   "cell_type": "code",
   "execution_count": 2,
   "metadata": {},
   "outputs": [
    {
     "data": {
      "text/plain": [
       "'/mmfs1/data/aglinska/BC-actionpred-seg/twostream_feafa'"
      ]
     },
     "execution_count": 2,
     "metadata": {},
     "output_type": "execute_result"
    }
   ],
   "source": [
    "pwd"
   ]
  },
  {
   "cell_type": "code",
   "execution_count": 3,
   "metadata": {},
   "outputs": [
    {
     "data": {
      "text/plain": [
       "<module 'feafa_criterion' from '/mmfs1/data/aglinska/BC-actionpred-seg/twostream_feafa/feafa_criterion.py'>"
      ]
     },
     "execution_count": 3,
     "metadata": {},
     "output_type": "execute_result"
    }
   ],
   "source": [
    "import torch\n",
    "from torch.nn import functional as F\n",
    "from torch import nn\n",
    "from typing import Union\n",
    "import numpy as np\n",
    "from math import exp\n",
    "import os\n",
    "from os import listdir\n",
    "from os.path import isfile, join\n",
    "from torch.utils.data import Dataset, DataLoader\n",
    "from PIL import Image\n",
    "from torchvision import transforms\n",
    "from torchvision import models\n",
    "import torch.optim as optim\n",
    "import gc\n",
    "\n",
    "from importlib import reload\n",
    "\n",
    "import feafa_utils\n",
    "import feafa_dataloader\n",
    "import feafa_architecture\n",
    "import feafa_criterion\n",
    "\n",
    "reload(feafa_utils)\n",
    "reload(feafa_dataloader)\n",
    "reload(feafa_architecture)\n",
    "reload(feafa_criterion)"
   ]
  },
  {
   "cell_type": "code",
   "execution_count": 18,
   "metadata": {},
   "outputs": [],
   "source": [
    "from matplotlib import pyplot as plt"
   ]
  },
  {
   "cell_type": "code",
   "execution_count": 4,
   "metadata": {},
   "outputs": [
    {
     "data": {
      "text/plain": [
       "device(type='cuda', index=0)"
      ]
     },
     "execution_count": 4,
     "metadata": {},
     "output_type": "execute_result"
    }
   ],
   "source": [
    "device = torch.device(\"cuda:0\" if torch.cuda.is_available() else \"cpu\")\n",
    "device"
   ]
  },
  {
   "cell_type": "code",
   "execution_count": 5,
   "metadata": {},
   "outputs": [
    {
     "data": {
      "text/plain": [
       "'Tesla V100-SXM2-16GB'"
      ]
     },
     "execution_count": 5,
     "metadata": {},
     "output_type": "execute_result"
    }
   ],
   "source": [
    "torch.cuda.get_device_name(0)"
   ]
  },
  {
   "cell_type": "code",
   "execution_count": 21,
   "metadata": {},
   "outputs": [],
   "source": [
    "import os, glob\n",
    "import numpy as np\n",
    "import torch\n",
    "from torch.utils.data import Dataset, DataLoader\n",
    "import torchvision.transforms as transforms\n",
    "from PIL import Image\n",
    "import math\n",
    "\n",
    "def findvideofolders(path):\n",
    "    folders = [os.path.join(path,folder) for folder in os.listdir(path) if not folder.startswith('.')]\n",
    "    folders.sort()\n",
    "    return folders\n",
    "\n",
    "\n",
    "def windowmapper(videopaths,window,return_labels=False):\n",
    "    allwindows_frames = []\n",
    "    allwindows_labels = []\n",
    "    for path in videopaths:\n",
    "        os.chdir(path)\n",
    "        path_frames = []\n",
    "        path_labels = []\n",
    "\n",
    "        for frame_filename in sorted(glob.glob(\"*.jpg\")):\n",
    "            framepath = os.path.join(path,frame_filename)\n",
    "            \n",
    "            path_frames.append(framepath)\n",
    "            #this_label = framepath.split('/')[-1]\n",
    "            this_label = (framepath.split('/')[-2],framepath.split('/')[-1])\n",
    "            path_labels.append(this_label)\n",
    "            #labelpath = framepath[:-4]+\".auw\"\n",
    "#             if os.path.isfile(labelpath):\n",
    "#                 f = open(labelpath, \"r\")\n",
    "#                 x = f.read()\n",
    "#                 y = torch.from_numpy(np.asarray([float(i) for i in x.split()]))\n",
    "#                 #path_labels.append(y)\n",
    "#             else:\n",
    "#                 #path_labels.append(\"missing\")\n",
    "        \n",
    "        for iwindow in range(len(path_frames)-window+1):\n",
    "#             missing = 0\n",
    "            #windowlabels = path_labels[iwindow:iwindow+window]\n",
    "#             for label in windowlabels:\n",
    "#                 if type(label) == str:\n",
    "#                     missing+=1\n",
    "#             if not missing:\n",
    "            framepaths = path_frames[iwindow:iwindow+window]\n",
    "            allwindows_frames.append(framepaths)\n",
    "            allwindows_labels.append( path_labels[iwindow:iwindow+window] )\n",
    "            #allwindows_labels.append()\n",
    "            #allwindows_labels.append(torch.cat(windowlabels,dim=0))\n",
    "    #print(len(path_labels))\n",
    "    #print(path_labels)\n",
    "    if return_labels==True:\n",
    "        return allwindows_frames , allwindows_labels\n",
    "    else:\n",
    "        return allwindows_frames #, allwindows_labels\n",
    "    \n",
    "\n",
    "class FeafaDataset(Dataset):\n",
    "    def __init__(self, path, window,usage,train=0.8,return_labels=False):\n",
    "        self.path = path\n",
    "        self.window = window\n",
    "        #self.transform = transforms.Compose([transforms.CenterCrop(720),transforms.Resize((224,224)),transforms.ToTensor()])\n",
    "        self.transform = transforms.Compose([transforms.Resize((224,224)),transforms.ToTensor()])\n",
    "        # find all the frames\n",
    "        videopaths = findvideofolders(self.path)\n",
    "        # select train or test\n",
    "        if usage == 'Train':\n",
    "            self.videopaths = videopaths[:math.ceil(len(videopaths)*train)]\n",
    "        elif usage == 'Test':\n",
    "            self.videopaths = videopaths[math.ceil(len(videopaths)*train):]\n",
    "        else:\n",
    "            print('Error: incorrect usage')\n",
    "            \n",
    "        # extract frames and labels\n",
    "        if return_labels==True:\n",
    "            self.allwindows_frames,self.allwindows_labels = windowmapper(self.videopaths,self.window,return_labels=True)\n",
    "        else:\n",
    "            self.allwindows_frames = windowmapper(self.videopaths,self.window)\n",
    "\n",
    "    def __getitem__(self, index,return_labels=False):\n",
    "        # read the frames in the window\n",
    "        framepaths = self.allwindows_frames[index]\n",
    "        frames = []\n",
    "        for frame_path in framepaths:\n",
    "            frame = Image.open(frame_path)\n",
    "            if self.transform:\n",
    "                frame = self.transform(frame)\n",
    "            frames.append(frame)\n",
    "        x = torch.stack(frames,dim=1)\n",
    "        if return_labels==True:\n",
    "            labels = self.allwindows_labels[index]\n",
    "            sample = {'frames':x,'labels':labels}\n",
    "        else:\n",
    "            sample = {'frames':x,'labels':0}\n",
    "            \n",
    "        return sample\n",
    "\n",
    "    def __len__(self):\n",
    "        return len(self.allwindows_frames)\n"
   ]
  },
  {
   "cell_type": "code",
   "execution_count": null,
   "metadata": {},
   "outputs": [],
   "source": []
  },
  {
   "cell_type": "code",
   "execution_count": 27,
   "metadata": {},
   "outputs": [],
   "source": [
    "#os.environ[\"CUDA_VISIBLE_DEVICES\"]='2'\n",
    "#path = \"/mmfs1/data/anzellos/data/FEAFA2\"\n",
    "path = '/data/aglinska/BC-actionpred-seg/Data/pytorch-data/xl_121_15_action_data_orig/train/'\n",
    "window = 11\n",
    "#traindataset = feafa_dataloader.FeafaDataset(path,window,usage='Train')\n",
    "traindataset = FeafaDataset(path,window,usage='Train')\n",
    "trainloader = DataLoader(traindataset,batch_size = 32)"
   ]
  },
  {
   "cell_type": "code",
   "execution_count": 28,
   "metadata": {},
   "outputs": [
    {
     "data": {
      "text/plain": [
       "2340"
      ]
     },
     "execution_count": 28,
     "metadata": {},
     "output_type": "execute_result"
    }
   ],
   "source": [
    "len(trainloader)"
   ]
  },
  {
   "cell_type": "code",
   "execution_count": null,
   "metadata": {},
   "outputs": [],
   "source": []
  },
  {
   "cell_type": "code",
   "execution_count": null,
   "metadata": {},
   "outputs": [],
   "source": []
  },
  {
   "cell_type": "code",
   "execution_count": null,
   "metadata": {},
   "outputs": [],
   "source": []
  },
  {
   "cell_type": "code",
   "execution_count": 29,
   "metadata": {},
   "outputs": [],
   "source": [
    "flownet = feafa_architecture.TinyMotionNet()\n",
    "flownet.cuda()\n",
    "flownet.train()\n",
    "\n",
    "reconstructor = feafa_utils.Reconstructor()\n",
    "\n",
    "criterion = feafa_criterion.SimpleLoss(flownet)\n",
    "\n",
    "optimizer = optim.SGD(flownet.parameters(), lr=0.1, momentum=0.9)\n",
    "\n",
    "#save_root = \"/data/anzellos/results/twostream_feafa\"\n",
    "save_root = \"/data/aglinska/BC-actionpred-seg/Data/02-results_twostream_feafa/test\""
   ]
  },
  {
   "cell_type": "code",
   "execution_count": null,
   "metadata": {},
   "outputs": [],
   "source": []
  },
  {
   "cell_type": "code",
   "execution_count": 30,
   "metadata": {},
   "outputs": [
    {
     "name": "stdout",
     "output_type": "stream",
     "text": [
      "done\n"
     ]
    }
   ],
   "source": [
    "save_freq = 1                               # specify every how many epochs to save the model\n",
    "loss_memory = []\n",
    "epoch = 0\n",
    "running_loss = 0.0\n",
    "    \n",
    "for i, data in enumerate(trainloader):\n",
    "    \n",
    "    frames = data['frames'].cuda()\n",
    "    torch.cuda.empty_cache()\n",
    "    flows = flownet(frames)\n",
    "    t0s, reconstructed, flows_reshaped = reconstructor(frames, flows)\n",
    "    print('done')\n",
    "    break"
   ]
  },
  {
   "cell_type": "code",
   "execution_count": 31,
   "metadata": {},
   "outputs": [
    {
     "data": {
      "text/plain": [
       "<matplotlib.image.AxesImage at 0x1554b1d54eb0>"
      ]
     },
     "execution_count": 31,
     "metadata": {},
     "output_type": "execute_result"
    },
    {
     "data": {
      "image/png": "[encoded data removed]",
      "text/plain": [
       "<Figure size 432x288 with 1 Axes>"
      ]
     },
     "metadata": {
      "needs_background": "light"
     },
     "output_type": "display_data"
    }
   ],
   "source": [
    "plt.imshow(frames[0,:,0,:,:].detach().cpu().numpy().swapaxes(0,1).swapaxes(1,2))"
   ]
  },
  {
   "cell_type": "code",
   "execution_count": null,
   "metadata": {},
   "outputs": [],
   "source": []
  },
  {
   "cell_type": "code",
   "execution_count": null,
   "metadata": {},
   "outputs": [],
   "source": []
  },
  {
   "cell_type": "code",
   "execution_count": null,
   "metadata": {},
   "outputs": [],
   "source": []
  },
  {
   "cell_type": "code",
   "execution_count": null,
   "metadata": {},
   "outputs": [],
   "source": []
  },
  {
   "cell_type": "code",
   "execution_count": null,
   "metadata": {},
   "outputs": [],
   "source": []
  },
  {
   "cell_type": "code",
   "execution_count": null,
   "metadata": {},
   "outputs": [
    {
     "name": "stdout",
     "output_type": "stream",
     "text": [
      "Starting epoch  0  ...\n",
      "\n"
     ]
    }
   ],
   "source": [
    "save_freq = 1                               # specify every how many epochs to save the model\n",
    "loss_memory = []\n",
    "for epoch in range(5):  # loop over the dataset multiple times\n",
    "    print('Starting epoch ',epoch,' ...\\n')\n",
    "    running_loss = 0.0\n",
    "    for i, data in enumerate(trainloader):\n",
    "        # get the inputs\n",
    "        frames = data['frames'].cuda()\n",
    "        torch.cuda.empty_cache()\n",
    "        flows = flownet(frames)\n",
    "        t0s, reconstructed, flows_reshaped = reconstructor(frames, flows) # t0s are original images excluding the 11th, downsampled to match the reconstructed versions\n",
    "        # zero the parameter gradients\n",
    "        frames.detach().cpu()\n",
    "        for flow in flows:\n",
    "            flow.detach().cpu()\n",
    "        del flows,frames\n",
    "        gc.collect()\n",
    "        torch.cuda.empty_cache()\n",
    "        optimizer.zero_grad()\n",
    "        # forward + backward + optimize\n",
    "        loss = criterion(t0s,reconstructed,flows_reshaped,flownet)\n",
    "        for t0 in t0s:\n",
    "            t0.detach().cpu()\n",
    "        for reco in reconstructed:\n",
    "            reco.detach().cpu()\n",
    "        for flore in flows_reshaped:\n",
    "            flore.detach().cpu()\n",
    "        del t0s,reconstructed,flows_reshaped\n",
    "        gc.collect()\n",
    "        torch.cuda.empty_cache()\n",
    "        loss.backward()\n",
    "        optimizer.step()\n",
    "        # print statistics\n",
    "        running_loss += loss.data.item()\n",
    "    epoch_loss = running_loss / len(trainloader)\n",
    "    print('[%d] loss: %.3f' %(epoch + 1, epoch_loss ))\n",
    "    # loss_memory.append(epoch_loss)\n",
    "    running_loss = 0.0\n",
    "    if epoch % save_freq == save_freq-1: \n",
    "        savename = f'epoch{epoch+1:05d}.ckp'\n",
    "        save_path = os.path.join(save_root,savename)\n",
    "        torch.save({\n",
    "            'epoch': epoch,\n",
    "            'model_state_dict': flownet.state_dict(),\n",
    "            'optimizer_state_dict': optimizer.state_dict(),\n",
    "            'loss': epoch_loss\n",
    "            }, save_path)\n",
    "\n",
    "\n"
   ]
  },
  {
   "cell_type": "code",
   "execution_count": null,
   "metadata": {},
   "outputs": [],
   "source": []
  },
  {
   "cell_type": "code",
   "execution_count": null,
   "metadata": {},
   "outputs": [],
   "source": []
  },
  {
   "cell_type": "code",
   "execution_count": null,
   "metadata": {},
   "outputs": [],
   "source": []
  },
  {
   "cell_type": "code",
   "execution_count": null,
   "metadata": {},
   "outputs": [],
   "source": []
  },
  {
   "cell_type": "code",
   "execution_count": null,
   "metadata": {},
   "outputs": [],
   "source": []
  }
 ],
 "metadata": {
  "kernelspec": {
   "display_name": "Python 3",
   "language": "python",
   "name": "python3"
  },
  "language_info": {
   "codemirror_mode": {
    "name": "ipython",
    "version": 3
   },
   "file_extension": ".py",
   "mimetype": "text/x-python",
   "name": "python",
   "nbconvert_exporter": "python",
   "pygments_lexer": "ipython3",
   "version": "3.8.3"
  }
 },
 "nbformat": 4,
 "nbformat_minor": 4
}
