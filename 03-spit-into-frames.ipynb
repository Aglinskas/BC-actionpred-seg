{
 "cells": [
  {
   "cell_type": "code",
   "execution_count": 1,
   "id": "a485f54b",
   "metadata": {},
   "outputs": [],
   "source": [
    "import PIL\n",
    "from PIL import Image\n",
    "import matplotlib.pyplot as plt\n",
    "import numpy as np\n",
    "from tqdm import tqdm\n",
    "from scipy.ndimage.filters import gaussian_filter\n",
    "import os"
   ]
  },
  {
   "cell_type": "code",
   "execution_count": 2,
   "id": "d77ef5f5",
   "metadata": {},
   "outputs": [],
   "source": [
    "import skvideo\n",
    "import skvideo.io"
   ]
  },
  {
   "cell_type": "code",
   "execution_count": 3,
   "id": "2261b256",
   "metadata": {},
   "outputs": [],
   "source": [
    "def load_video(fn):\n",
    "    import skvideo\n",
    "    import skvideo.io\n",
    "    videodata = skvideo.io.vread(fn)\n",
    "    return videodata"
   ]
  },
  {
   "cell_type": "code",
   "execution_count": 4,
   "id": "e93b4657",
   "metadata": {},
   "outputs": [],
   "source": [
    "def save_video(videodata,ofn='outvideo.mp4'):\n",
    "    import skvideo\n",
    "    import skvideo.io\n",
    "    #skvideo.io.vwrite(ofn, videodata.astype(np.uint8),outputdict={'-codec': 'h264', '-filter:v' : 'fps=29.97'})\n",
    "    skvideo.io.vwrite(ofn, videodata.astype(np.uint8))"
   ]
  },
  {
   "cell_type": "code",
   "execution_count": 5,
   "id": "ba565564",
   "metadata": {},
   "outputs": [],
   "source": [
    "def safe_mkdir(fn):\n",
    "    import os\n",
    "    if not os.path.exists(fn):\n",
    "        os.mkdir(fn)\n",
    "        \n",
    "def safe_mkdir_subdirs(fn):\n",
    "    fn_split = fn.split('/')\n",
    "    n = len(fn.split('/'))\n",
    "    paths = ['/'.join(fn_split[0:i]) for i in range(0,n) if len('/'.join(fn_split[0:i]))>1]\n",
    "    for path in paths:\n",
    "        safe_mkdir(path)"
   ]
  },
  {
   "cell_type": "code",
   "execution_count": 6,
   "id": "ac9f6a52",
   "metadata": {},
   "outputs": [
    {
     "name": "stdout",
     "output_type": "stream",
     "text": [
      "500\n",
      "[20 20 20 20 20 20 20 20 20 20 20 20 20 20 20 20 20 20 20 20 20 20 20 20\n",
      " 20 20 20 20 20 20 20 20 20 20 20 20 20 20 20 20 20 20 20 20 20 20 20 20\n",
      " 20 20 20 20 20 20 20 20 20 20 20 20 20 20 20 20 20 20 20 20 20 20 20 20\n",
      " 20 20 20 20 20 20 20 20 20 20 20 20 20 20 20 20 20 20 20 20 20 20 20 20\n",
      " 20 20 20 20 20 20 20 20 20 20 20 20 20 20 20 20 20 20 20 20 20 20 20 20\n",
      " 20 20 20 20 20 20 20 20 20 20 20 20 20 20 20 20 20 20 20 20 20 20 20 20\n",
      " 20 20 20 20 20 20 20 20 20 20 20 20 20 20 20 20 20 20 20 20 20 20 20 20\n",
      " 20 20 20 20 20 20 20 20 20 20 20 20 20 20 20 20 20 20 20 20 20 20 20 20\n",
      " 20 20 20 20 20 20 20 20 20 20 20 20 20 20 20 20 20 20 20 20 20 20 20 20\n",
      " 20 20 20 20 20 20 20 20 20 20 20 20 20 20 20 20 20 20 20 20 20 20 20 20\n",
      " 20 20 20 20 20 20 20 20 20 20 20 20 20 20 20 20 20 20 20 20 20 20 20 20\n",
      " 20 20 20 20 20 20 20 20 20 20 20 20 20 20 20 20 20 20 20 20 20 20 20 20\n",
      " 20 20 20 20 20 20 20 20 20 20 20 20 20 20 20 20 20 20 20 20 20 20 20 20\n",
      " 20 20 20 20 20 20 20 20 20 20 20 20 20 20 20 20 20 20 20 20 20 20 20 20\n",
      " 20 20 20 20 20 20 20 20 20 20 20 20 20 20 20 20 20 20 20 20 20 20 20 20\n",
      " 20 20 20 20 20 20 20 20 20 20 20 20 20 20 20 20 20 20 20 20 20 20 20 20\n",
      " 20 20 20 20 20 20 20 20 20 20 20 20 20 20 20 20 20 20 20 20 20 20 20 20\n",
      " 20 20 20 20 20 20 20 20 20 20 20 20 20 20 20 20 20 20 20 20 20 20 20 20\n",
      " 20 20 20 20 20 20 20 20 20 20 20 20 20 20 20 20 20 20 20 20 20 20 20 20\n",
      " 20 20 20 20 20 20 20 20 20 20 20 20 20 20 20 20 20 20 20 20 20 20 20 20\n",
      " 20 20 20 20 20 20 20 20 20 20 20 20 20 20 20 20 20 20 20 20]\n"
     ]
    }
   ],
   "source": [
    "indir = './Data/haa500_v1_1/video'\n",
    "folders = os.listdir(indir) ; folders.sort()\n",
    "\n",
    "videos = []\n",
    "for folder in folders:\n",
    "    cont = [file for file in os.listdir(os.path.join(indir,folder)) if file.endswith('.mp4')]\n",
    "    videos.append(cont)\n",
    "    \n",
    "print(len(folders))\n",
    "print(np.array([len(folder) for folder in videos]))"
   ]
  },
  {
   "cell_type": "code",
   "execution_count": 7,
   "id": "f5b501e1",
   "metadata": {},
   "outputs": [],
   "source": [
    "from datetime import datetime\n",
    "now = datetime.now"
   ]
  },
  {
   "cell_type": "code",
   "execution_count": null,
   "id": "db8fdef7",
   "metadata": {
    "tags": [
     "parameters"
    ]
   },
   "outputs": [],
   "source": [
    "f = 0"
   ]
  },
  {
   "cell_type": "code",
   "execution_count": null,
   "id": "2815ca1e",
   "metadata": {},
   "outputs": [],
   "source": [
    "for v in range(20):\n",
    "    fn = os.path.join(indir,folders[f],videos[f][v])\n",
    "    print(fn)\n",
    "    filename = fn.split('/')[-1]\n",
    "    frames_dir = fn.replace('haa500_v1_1','haa500_v1_1_frames').replace('.mp4','/')\n",
    "    safe_mkdir_subdirs(fn.replace('haa500_v1_1','haa500_v1_1_frames'))\n",
    "    safe_mkdir_subdirs(frames_dir)\n",
    "    if not os.path.exists(os.path.join(frames_dir,filename)):\n",
    "        print(f'folder {f:03d}/500 | video {v:02d}/20 | {now()}')\n",
    "        video_data = load_video(fn)\n",
    "        n = video_data.shape[0]\n",
    "        save_video(video_data,os.path.join(frames_dir,filename))\n",
    "        print(os.path.join(frames_dir,filename))\n",
    "        [plt.imsave(fname=os.path.join(frames_dir,filename.replace('.mp4',f'_{i:03d}.png')), arr=video_data[i,:,:,:]) for i in range(n)];"
   ]
  },
  {
   "cell_type": "code",
   "execution_count": 1,
   "id": "0edc17d7",
   "metadata": {},
   "outputs": [],
   "source": [
    "# for f in range(500):\n",
    "#     for v in range(20):\n",
    "#         fn = os.path.join(indir,folders[f],videos[f][v])\n",
    "#         filename = fn.split('/')[-1]\n",
    "#         frames_dir = fn.replace('haa500_v1_1','haa500_v1_1_frames').replace('.mp4','/')\n",
    "#         safe_mkdir_subdirs(fn.replace('haa500_v1_1','haa500_v1_1_frames'))\n",
    "#         safe_mkdir_subdirs(frames_dir)\n",
    "#         if not os.path.exists(os.path.join(frames_dir,filename)):\n",
    "#             print(f'folder {f:03d}/500 | video {v:02d}/20 | {now()}')\n",
    "#             video_data = load_video(fn)\n",
    "#             n = video_data.shape[0]\n",
    "#             save_video(video_data,os.path.join(frames_dir,filename))\n",
    "#             [plt.imsave(fname=os.path.join(frames_dir,filename.replace('.mp4',f'_{i:03d}.png')), arr=video_data[i,:,:,:]) for i in range(n)];"
   ]
  },
  {
   "cell_type": "code",
   "execution_count": null,
   "id": "3dac0d0d",
   "metadata": {},
   "outputs": [],
   "source": []
  },
  {
   "cell_type": "code",
   "execution_count": null,
   "id": "3be096fd",
   "metadata": {},
   "outputs": [],
   "source": []
  },
  {
   "cell_type": "code",
   "execution_count": null,
   "id": "4fd6640a",
   "metadata": {},
   "outputs": [],
   "source": []
  },
  {
   "cell_type": "code",
   "execution_count": null,
   "id": "8c75c55c",
   "metadata": {},
   "outputs": [],
   "source": []
  },
  {
   "cell_type": "code",
   "execution_count": null,
   "id": "de5c9eaa",
   "metadata": {},
   "outputs": [],
   "source": []
  },
  {
   "cell_type": "code",
   "execution_count": null,
   "id": "f4bf1190",
   "metadata": {},
   "outputs": [],
   "source": []
  },
  {
   "cell_type": "code",
   "execution_count": null,
   "id": "a1ade337",
   "metadata": {},
   "outputs": [],
   "source": [
    "#[plt.imsave(fn.replace('.mp4',f'_{i:03d}.png'),video_data[i,:,:,:]) for i in range(video_data.shape[0])]"
   ]
  },
  {
   "cell_type": "code",
   "execution_count": null,
   "id": "c317a635",
   "metadata": {},
   "outputs": [],
   "source": [
    "# video_data1 = load_video(fn)\n",
    "# print(video_data1.shape)\n",
    "# #save_video(videodata,ofn='outvideo.mp4')\n",
    "# skvideo.io.vwrite('outvideo.mp4', video_data1.astype(np.uint8))\n",
    "# video_data2 = load_video('outvideo.mp4')\n",
    "# print(video_data2.shape)\n",
    "# print(np.corrcoef(video_data1.flatten(),video_data2.flatten())[0,1])"
   ]
  },
  {
   "cell_type": "code",
   "execution_count": null,
   "id": "af15d541",
   "metadata": {},
   "outputs": [],
   "source": [
    "#np.load('arr.npy').shape"
   ]
  },
  {
   "cell_type": "code",
   "execution_count": null,
   "id": "c5ace411",
   "metadata": {},
   "outputs": [],
   "source": []
  },
  {
   "cell_type": "code",
   "execution_count": null,
   "id": "2bdf03bb",
   "metadata": {},
   "outputs": [],
   "source": []
  }
 ],
 "metadata": {
  "kernelspec": {
   "display_name": "Python 3 (ipykernel)",
   "language": "python",
   "name": "python3"
  },
  "language_info": {
   "codemirror_mode": {
    "name": "ipython",
    "version": 3
   },
   "file_extension": ".py",
   "mimetype": "text/x-python",
   "name": "python",
   "nbconvert_exporter": "python",
   "pygments_lexer": "ipython3",
   "version": "3.8.5"
  }
 },
 "nbformat": 4,
 "nbformat_minor": 5
}
