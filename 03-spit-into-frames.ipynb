{
 "cells": [
  {
   "cell_type": "code",
   "execution_count": 7,
   "id": "5fd7ae71",
   "metadata": {},
   "outputs": [],
   "source": [
    "import PIL\n",
    "from PIL import Image\n",
    "import matplotlib.pyplot as plt\n",
    "import numpy as np\n",
    "from tqdm import tqdm\n",
    "from scipy.ndimage.filters import gaussian_filter\n",
    "import os"
   ]
  },
  {
   "cell_type": "code",
   "execution_count": 8,
   "id": "ad062084",
   "metadata": {},
   "outputs": [],
   "source": [
    "import skvideo\n",
    "import skvideo.io"
   ]
  },
  {
   "cell_type": "code",
   "execution_count": 9,
   "id": "3cdd0f2c",
   "metadata": {},
   "outputs": [],
   "source": [
    "def load_video(fn):\n",
    "    import skvideo\n",
    "    import skvideo.io\n",
    "    videodata = skvideo.io.vread(fn)\n",
    "    return videodata"
   ]
  },
  {
   "cell_type": "code",
   "execution_count": 10,
   "id": "1a4c2241",
   "metadata": {},
   "outputs": [],
   "source": [
    "def save_video(videodata,ofn='outvideo.mp4'):\n",
    "    import skvideo\n",
    "    import skvideo.io\n",
    "    #skvideo.io.vwrite(ofn, videodata.astype(np.uint8),outputdict={'-codec': 'h264', '-filter:v' : 'fps=29.97'})\n",
    "    skvideo.io.vwrite(ofn, videodata.astype(np.uint8))"
   ]
  },
  {
   "cell_type": "code",
   "execution_count": 11,
   "id": "a74cabbd",
   "metadata": {},
   "outputs": [],
   "source": [
    "def safe_mkdir(fn):\n",
    "    import os\n",
    "    if not os.path.exists(fn):\n",
    "        os.mkdir(fn)\n",
    "        \n",
    "def safe_mkdir_subdirs(fn):\n",
    "    fn_split = fn.split('/')\n",
    "    n = len(fn.split('/'))\n",
    "    paths = ['/'.join(fn_split[0:i]) for i in range(0,n) if len('/'.join(fn_split[0:i]))>1]\n",
    "    for path in paths:\n",
    "        safe_mkdir(path)"
   ]
  },
  {
   "cell_type": "code",
   "execution_count": 12,
   "id": "42701367",
   "metadata": {},
   "outputs": [
    {
     "name": "stdout",
     "output_type": "stream",
     "text": [
      "500\n",
      "[20 20 20 20 20 20 20 20 20 20 20 20 20 20 20 20 20 20 20 20 20 20 20 20\n",
      " 20 20 20 20 20 20 20 20 20 20 20 20 20 20 20 20 20 20 20 20 20 20 20 20\n",
      " 20 20 20 20 20 20 20 20 20 20 20 20 20 20 20 20 20 20 20 20 20 20 20 20\n",
      " 20 20 20 20 20 20 20 20 20 20 20 20 20 20 20 20 20 20 20 20 20 20 20 20\n",
      " 20 20 20 20 20 20 20 20 20 20 20 20 20 20 20 20 20 20 20 20 20 20 20 20\n",
      " 20 20 20 20 20 20 20 20 20 20 20 20 20 20 20 20 20 20 20 20 20 20 20 20\n",
      " 20 20 20 20 20 20 20 20 20 20 20 20 20 20 20 20 20 20 20 20 20 20 20 20\n",
      " 20 20 20 20 20 20 20 20 20 20 20 20 20 20 20 20 20 20 20 20 20 20 20 20\n",
      " 20 20 20 20 20 20 20 20 20 20 20 20 20 20 20 20 20 20 20 20 20 20 20 20\n",
      " 20 20 20 20 20 20 20 20 20 20 20 20 20 20 20 20 20 20 20 20 20 20 20 20\n",
      " 20 20 20 20 20 20 20 20 20 20 20 20 20 20 20 20 20 20 20 20 20 20 20 20\n",
      " 20 20 20 20 20 20 20 20 20 20 20 20 20 20 20 20 20 20 20 20 20 20 20 20\n",
      " 20 20 20 20 20 20 20 20 20 20 20 20 20 20 20 20 20 20 20 20 20 20 20 20\n",
      " 20 20 20 20 20 20 20 20 20 20 20 20 20 20 20 20 20 20 20 20 20 20 20 20\n",
      " 20 20 20 20 20 20 20 20 20 20 20 20 20 20 20 20 20 20 20 20 20 20 20 20\n",
      " 20 20 20 20 20 20 20 20 20 20 20 20 20 20 20 20 20 20 20 20 20 20 20 20\n",
      " 20 20 20 20 20 20 20 20 20 20 20 20 20 20 20 20 20 20 20 20 20 20 20 20\n",
      " 20 20 20 20 20 20 20 20 20 20 20 20 20 20 20 20 20 20 20 20 20 20 20 20\n",
      " 20 20 20 20 20 20 20 20 20 20 20 20 20 20 20 20 20 20 20 20 20 20 20 20\n",
      " 20 20 20 20 20 20 20 20 20 20 20 20 20 20 20 20 20 20 20 20 20 20 20 20\n",
      " 20 20 20 20 20 20 20 20 20 20 20 20 20 20 20 20 20 20 20 20]\n"
     ]
    }
   ],
   "source": [
    "indir = './Data/haa500_v1_1_resized/video'\n",
    "folders = os.listdir(indir) ; folders.sort()\n",
    "\n",
    "videos = []\n",
    "for folder in folders:\n",
    "    cont = [file for file in os.listdir(os.path.join(indir,folder)) if file.endswith('.mp4')]\n",
    "    videos.append(cont)\n",
    "    \n",
    "print(len(folders))\n",
    "print(np.array([len(folder) for folder in videos]))"
   ]
  },
  {
   "cell_type": "code",
   "execution_count": 15,
   "id": "24eb2bd6",
   "metadata": {},
   "outputs": [],
   "source": [
    "from datetime import datetime\n",
    "now = datetime.now"
   ]
  },
  {
   "cell_type": "code",
   "execution_count": 16,
   "id": "9f90518d",
   "metadata": {
    "tags": [
     "parameters"
    ]
   },
   "outputs": [],
   "source": [
    "f = 0"
   ]
  },
  {
   "cell_type": "code",
   "execution_count": 17,
   "id": "49d198e9",
   "metadata": {},
   "outputs": [
    {
     "name": "stdout",
     "output_type": "stream",
     "text": [
      "./Data/haa500_v1_1_resized/video/ALS_IceBucket_Challenge/ALS_IceBucket_Challenge_014.mp4\n",
      "folder 000/500 | video 00/20 | 2023-03-17 08:24:10.447276\n",
      "./Data/haa500_v1_1_frames/video/ALS_IceBucket_Challenge/ALS_IceBucket_Challenge_014/ALS_IceBucket_Challenge_014.mp4\n",
      "./Data/haa500_v1_1_resized/video/ALS_IceBucket_Challenge/ALS_IceBucket_Challenge_004.mp4\n",
      "folder 000/500 | video 01/20 | 2023-03-17 08:24:13.420872\n",
      "./Data/haa500_v1_1_frames/video/ALS_IceBucket_Challenge/ALS_IceBucket_Challenge_004/ALS_IceBucket_Challenge_004.mp4\n",
      "./Data/haa500_v1_1_resized/video/ALS_IceBucket_Challenge/ALS_IceBucket_Challenge_005.mp4\n",
      "folder 000/500 | video 02/20 | 2023-03-17 08:24:16.140732\n",
      "./Data/haa500_v1_1_frames/video/ALS_IceBucket_Challenge/ALS_IceBucket_Challenge_005/ALS_IceBucket_Challenge_005.mp4\n",
      "./Data/haa500_v1_1_resized/video/ALS_IceBucket_Challenge/ALS_IceBucket_Challenge_008.mp4\n",
      "folder 000/500 | video 03/20 | 2023-03-17 08:24:18.907938\n",
      "./Data/haa500_v1_1_frames/video/ALS_IceBucket_Challenge/ALS_IceBucket_Challenge_008/ALS_IceBucket_Challenge_008.mp4\n",
      "./Data/haa500_v1_1_resized/video/ALS_IceBucket_Challenge/ALS_IceBucket_Challenge_016.mp4\n",
      "folder 000/500 | video 04/20 | 2023-03-17 08:24:22.209646\n",
      "./Data/haa500_v1_1_frames/video/ALS_IceBucket_Challenge/ALS_IceBucket_Challenge_016/ALS_IceBucket_Challenge_016.mp4\n",
      "./Data/haa500_v1_1_resized/video/ALS_IceBucket_Challenge/ALS_IceBucket_Challenge_019.mp4\n",
      "folder 000/500 | video 05/20 | 2023-03-17 08:24:28.500423\n",
      "./Data/haa500_v1_1_frames/video/ALS_IceBucket_Challenge/ALS_IceBucket_Challenge_019/ALS_IceBucket_Challenge_019.mp4\n",
      "./Data/haa500_v1_1_resized/video/ALS_IceBucket_Challenge/ALS_IceBucket_Challenge_010.mp4\n",
      "folder 000/500 | video 06/20 | 2023-03-17 08:24:41.307654\n",
      "./Data/haa500_v1_1_frames/video/ALS_IceBucket_Challenge/ALS_IceBucket_Challenge_010/ALS_IceBucket_Challenge_010.mp4\n",
      "./Data/haa500_v1_1_resized/video/ALS_IceBucket_Challenge/ALS_IceBucket_Challenge_011.mp4\n",
      "folder 000/500 | video 07/20 | 2023-03-17 08:24:47.240559\n",
      "./Data/haa500_v1_1_frames/video/ALS_IceBucket_Challenge/ALS_IceBucket_Challenge_011/ALS_IceBucket_Challenge_011.mp4\n",
      "./Data/haa500_v1_1_resized/video/ALS_IceBucket_Challenge/ALS_IceBucket_Challenge_015.mp4\n",
      "folder 000/500 | video 08/20 | 2023-03-17 08:24:51.394185\n",
      "./Data/haa500_v1_1_frames/video/ALS_IceBucket_Challenge/ALS_IceBucket_Challenge_015/ALS_IceBucket_Challenge_015.mp4\n",
      "./Data/haa500_v1_1_resized/video/ALS_IceBucket_Challenge/ALS_IceBucket_Challenge_003.mp4\n",
      "folder 000/500 | video 09/20 | 2023-03-17 08:24:57.108878\n",
      "./Data/haa500_v1_1_frames/video/ALS_IceBucket_Challenge/ALS_IceBucket_Challenge_003/ALS_IceBucket_Challenge_003.mp4\n",
      "./Data/haa500_v1_1_resized/video/ALS_IceBucket_Challenge/ALS_IceBucket_Challenge_006.mp4\n",
      "folder 000/500 | video 10/20 | 2023-03-17 08:25:00.061567\n",
      "./Data/haa500_v1_1_frames/video/ALS_IceBucket_Challenge/ALS_IceBucket_Challenge_006/ALS_IceBucket_Challenge_006.mp4\n",
      "./Data/haa500_v1_1_resized/video/ALS_IceBucket_Challenge/ALS_IceBucket_Challenge_009.mp4\n",
      "folder 000/500 | video 11/20 | 2023-03-17 08:25:03.483241\n",
      "./Data/haa500_v1_1_frames/video/ALS_IceBucket_Challenge/ALS_IceBucket_Challenge_009/ALS_IceBucket_Challenge_009.mp4\n",
      "./Data/haa500_v1_1_resized/video/ALS_IceBucket_Challenge/ALS_IceBucket_Challenge_013.mp4\n",
      "folder 000/500 | video 12/20 | 2023-03-17 08:25:09.003351\n",
      "./Data/haa500_v1_1_frames/video/ALS_IceBucket_Challenge/ALS_IceBucket_Challenge_013/ALS_IceBucket_Challenge_013.mp4\n",
      "./Data/haa500_v1_1_resized/video/ALS_IceBucket_Challenge/ALS_IceBucket_Challenge_018.mp4\n",
      "folder 000/500 | video 13/20 | 2023-03-17 08:25:14.556887\n",
      "./Data/haa500_v1_1_frames/video/ALS_IceBucket_Challenge/ALS_IceBucket_Challenge_018/ALS_IceBucket_Challenge_018.mp4\n",
      "./Data/haa500_v1_1_resized/video/ALS_IceBucket_Challenge/ALS_IceBucket_Challenge_012.mp4\n",
      "folder 000/500 | video 14/20 | 2023-03-17 08:25:19.572825\n",
      "./Data/haa500_v1_1_frames/video/ALS_IceBucket_Challenge/ALS_IceBucket_Challenge_012/ALS_IceBucket_Challenge_012.mp4\n",
      "./Data/haa500_v1_1_resized/video/ALS_IceBucket_Challenge/ALS_IceBucket_Challenge_001.mp4\n",
      "folder 000/500 | video 15/20 | 2023-03-17 08:25:26.534335\n",
      "./Data/haa500_v1_1_frames/video/ALS_IceBucket_Challenge/ALS_IceBucket_Challenge_001/ALS_IceBucket_Challenge_001.mp4\n",
      "./Data/haa500_v1_1_resized/video/ALS_IceBucket_Challenge/ALS_IceBucket_Challenge_017.mp4\n",
      "folder 000/500 | video 16/20 | 2023-03-17 08:25:29.635193\n",
      "./Data/haa500_v1_1_frames/video/ALS_IceBucket_Challenge/ALS_IceBucket_Challenge_017/ALS_IceBucket_Challenge_017.mp4\n",
      "./Data/haa500_v1_1_resized/video/ALS_IceBucket_Challenge/ALS_IceBucket_Challenge_002.mp4\n",
      "folder 000/500 | video 17/20 | 2023-03-17 08:25:36.893279\n",
      "./Data/haa500_v1_1_frames/video/ALS_IceBucket_Challenge/ALS_IceBucket_Challenge_002/ALS_IceBucket_Challenge_002.mp4\n",
      "./Data/haa500_v1_1_resized/video/ALS_IceBucket_Challenge/ALS_IceBucket_Challenge_000.mp4\n",
      "folder 000/500 | video 18/20 | 2023-03-17 08:25:40.680999\n",
      "./Data/haa500_v1_1_frames/video/ALS_IceBucket_Challenge/ALS_IceBucket_Challenge_000/ALS_IceBucket_Challenge_000.mp4\n",
      "./Data/haa500_v1_1_resized/video/ALS_IceBucket_Challenge/ALS_IceBucket_Challenge_007.mp4\n",
      "folder 000/500 | video 19/20 | 2023-03-17 08:25:48.306095\n",
      "./Data/haa500_v1_1_frames/video/ALS_IceBucket_Challenge/ALS_IceBucket_Challenge_007/ALS_IceBucket_Challenge_007.mp4\n"
     ]
    }
   ],
   "source": [
    "for v in range(20):\n",
    "    fn = os.path.join(indir,folders[f],videos[f][v])\n",
    "    print(fn)\n",
    "    filename = fn.split('/')[-1]\n",
    "    frames_dir = fn.replace('haa500_v1_1_resized','haa500_v1_1_frames').replace('.mp4','/')\n",
    "    safe_mkdir_subdirs(fn.replace('haa500_v1_1_resized','haa500_v1_1_frames'))\n",
    "    safe_mkdir_subdirs(frames_dir)\n",
    "    if not os.path.exists(os.path.join(frames_dir,filename)):\n",
    "        print(f'folder {f:03d}/500 | video {v:02d}/20 | {now()}')\n",
    "        video_data = load_video(fn)\n",
    "        n = video_data.shape[0]\n",
    "        save_video(video_data,os.path.join(frames_dir,filename))\n",
    "        print(os.path.join(frames_dir,filename))\n",
    "        [plt.imsave(fname=os.path.join(frames_dir,filename.replace('.mp4',f'_{i:03d}.png')), arr=video_data[i,:,:,:]) for i in range(n)];"
   ]
  },
  {
   "cell_type": "code",
   "execution_count": null,
   "id": "119ae32d",
   "metadata": {},
   "outputs": [],
   "source": []
  },
  {
   "cell_type": "code",
   "execution_count": 69,
   "id": "55121144",
   "metadata": {},
   "outputs": [
    {
     "name": "stderr",
     "output_type": "stream",
     "text": [
      "100%|█████████████████████████████████████████████████████████████████████████████████| 500/500 [05:13<00:00,  1.59it/s]"
     ]
    },
    {
     "name": "stdout",
     "output_type": "stream",
     "text": [
      "[]\n"
     ]
    },
    {
     "name": "stderr",
     "output_type": "stream",
     "text": [
      "\n"
     ]
    },
    {
     "data": {
      "image/png": "[encoded data removed]",
      "text/plain": [
       "<Figure size 2000x500 with 1 Axes>"
      ]
     },
     "metadata": {},
     "output_type": "display_data"
    }
   ],
   "source": [
    "QA_done = False\n",
    "if QA_done:\n",
    "    arr_nframes = np.zeros((20,500))\n",
    "    arr_nimg = np.zeros((20,500))\n",
    "    for f in tqdm(range(500)):\n",
    "        for v in range(20):        \n",
    "            video_fn = os.path.join(indir,folders[f],videos[f][v])\n",
    "            nframes  = int(skvideo.io.ffprobe(video_fn)['video']['@nb_frames'])\n",
    "            arr_nframes[v,f] = nframes\n",
    "\n",
    "\n",
    "            frames_fn = video_fn.replace('haa500_v1_1_resized','haa500_v1_1_frames').replace('.mp4','/')\n",
    "            if os.path.exists(frames_fn):\n",
    "                nimg = len([i for i in os.listdir(frames_fn) if i.endswith('.png')])\n",
    "            else:\n",
    "                nimg = 0\n",
    "            arr_nimg[v,f] = nimg        \n",
    "            \n",
    "    arr_isdone = arr_nframes==arr_nimg\n",
    "    print(arr_isdone.mean())\n",
    "    print(np.nonzero(arr_isdone.sum(axis=0)<20)[0])\n",
    "    plt.figure(figsize=(20,5));\n",
    "    plt.imshow(arr_isdone,vmin=0,vmax=1);"
   ]
  },
  {
   "cell_type": "code",
   "execution_count": 43,
   "id": "773c6f04",
   "metadata": {},
   "outputs": [],
   "source": []
  },
  {
   "cell_type": "code",
   "execution_count": null,
   "id": "e2a8fda8",
   "metadata": {},
   "outputs": [],
   "source": []
  }
 ],
 "metadata": {
  "kernelspec": {
   "display_name": "Python 3 (ipykernel)",
   "language": "python",
   "name": "python3"
  },
  "language_info": {
   "codemirror_mode": {
    "name": "ipython",
    "version": 3
   },
   "file_extension": ".py",
   "mimetype": "text/x-python",
   "name": "python",
   "nbconvert_exporter": "python",
   "pygments_lexer": "ipython3",
   "version": "3.8.5"
  }
 },
 "nbformat": 4,
 "nbformat_minor": 5
}
