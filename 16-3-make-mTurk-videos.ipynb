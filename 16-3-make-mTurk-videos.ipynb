{
 "cells": [
  {
   "cell_type": "code",
   "execution_count": 4,
   "id": "ed54bc45",
   "metadata": {},
   "outputs": [
    {
     "name": "stdout",
     "output_type": "stream",
     "text": [
      "Tue Jul 11 11:28:55 EDT 2023\n"
     ]
    }
   ],
   "source": [
    "!date"
   ]
  },
  {
   "cell_type": "code",
   "execution_count": 5,
   "id": "3d507c43",
   "metadata": {},
   "outputs": [
    {
     "data": {
      "text/plain": [
       "'/mmfs1/data/aglinska/BC-actionpred-seg'"
      ]
     },
     "execution_count": 5,
     "metadata": {},
     "output_type": "execute_result"
    }
   ],
   "source": [
    "pwd"
   ]
  },
  {
   "cell_type": "code",
   "execution_count": 6,
   "id": "869addc8",
   "metadata": {},
   "outputs": [],
   "source": [
    "#!pip install scikit-video"
   ]
  },
  {
   "cell_type": "code",
   "execution_count": 7,
   "id": "d7a92f5e",
   "metadata": {},
   "outputs": [],
   "source": [
    "#!pip install opencv-python"
   ]
  },
  {
   "cell_type": "code",
   "execution_count": 8,
   "id": "b8f1947f",
   "metadata": {},
   "outputs": [],
   "source": [
    "from matplotlib import pyplot as plt\n",
    "from PIL import Image, ImageEnhance,ImageStat\n",
    "import skvideo\n",
    "import skvideo.io\n",
    "import numpy as np\n",
    "import os\n",
    "from tqdm import tqdm\n",
    "import cv2\n",
    "\n",
    "from PIL import Image\n",
    "from PIL import ImageDraw\n",
    "from PIL import ImageFont\n",
    "import pandas as pd\n",
    "import random"
   ]
  },
  {
   "cell_type": "code",
   "execution_count": 9,
   "id": "33f81f64",
   "metadata": {},
   "outputs": [],
   "source": [
    "fnt_dir = './Arial Bold.ttf'\n",
    "fnt = ImageFont.truetype(fnt_dir, 40)"
   ]
  },
  {
   "cell_type": "code",
   "execution_count": 10,
   "id": "02f983e5",
   "metadata": {},
   "outputs": [],
   "source": [
    "def load_video(fn):\n",
    "    #fn = 'ID4_h1_1.mp4'\n",
    "    videodata = skvideo.io.vread(fn)\n",
    "    return videodata"
   ]
  },
  {
   "cell_type": "code",
   "execution_count": 11,
   "id": "f55a4208",
   "metadata": {},
   "outputs": [],
   "source": [
    "def get_text_im(text='000',nframes=150):\n",
    "    img = Image.new('RGB', (640,360))\n",
    "    d = ImageDraw.Draw(img)\n",
    "    d.text((320-len(text)*10, 150), text, fill=(255, 255, 255),font=fnt)\n",
    "    return np.array([np.array(img) for _ in range(nframes)])"
   ]
  },
  {
   "cell_type": "code",
   "execution_count": 12,
   "id": "bc4a9c19",
   "metadata": {},
   "outputs": [],
   "source": [
    "def save_video(videodata,ofn='outvideo.mp4'):\n",
    "    #skvideo.io.vwrite(ofn, videodata.astype(np.uint8),outputdict={'-pix_fmt' : 'yuv420p','-codec': 'h264', '-filter:v' : 'fps=20'})\n",
    "    skvideo.io.vwrite(ofn, videodata.astype(np.uint8))"
   ]
  },
  {
   "cell_type": "code",
   "execution_count": 13,
   "id": "34568da3",
   "metadata": {},
   "outputs": [],
   "source": [
    "def safe_mkdir(fn):\n",
    "    import os\n",
    "    if not os.path.exists(fn):\n",
    "        os.mkdir(fn)"
   ]
  },
  {
   "cell_type": "code",
   "execution_count": null,
   "id": "0423af1c",
   "metadata": {},
   "outputs": [],
   "source": []
  },
  {
   "cell_type": "code",
   "execution_count": 14,
   "id": "8e4d3d17",
   "metadata": {},
   "outputs": [
    {
     "data": {
      "text/html": [
       "<div>\n",
       "<style scoped>\n",
       "    .dataframe tbody tr th:only-of-type {\n",
       "        vertical-align: middle;\n",
       "    }\n",
       "\n",
       "    .dataframe tbody tr th {\n",
       "        vertical-align: top;\n",
       "    }\n",
       "\n",
       "    .dataframe thead th {\n",
       "        text-align: right;\n",
       "    }\n",
       "</style>\n",
       "<table border=\"1\" class=\"dataframe\">\n",
       "  <thead>\n",
       "    <tr style=\"text-align: right;\">\n",
       "      <th></th>\n",
       "      <th>Unnamed: 0</th>\n",
       "      <th>action</th>\n",
       "      <th>cat_idx</th>\n",
       "      <th>file</th>\n",
       "      <th>code</th>\n",
       "      <th>label</th>\n",
       "      <th>choice_idx_1</th>\n",
       "      <th>choice_idx_2</th>\n",
       "      <th>choice_idx_3</th>\n",
       "      <th>choice_idx_4</th>\n",
       "      <th>choice_idx_5</th>\n",
       "      <th>choice_label_1</th>\n",
       "      <th>choice_label_2</th>\n",
       "      <th>choice_label_3</th>\n",
       "      <th>choice_label_4</th>\n",
       "      <th>choice_label_5</th>\n",
       "    </tr>\n",
       "  </thead>\n",
       "  <tbody>\n",
       "    <tr>\n",
       "      <th>0</th>\n",
       "      <td>0</td>\n",
       "      <td>golf_part</td>\n",
       "      <td>24</td>\n",
       "      <td>NaN</td>\n",
       "      <td>NaN</td>\n",
       "      <td>golf part</td>\n",
       "      <td>24</td>\n",
       "      <td>40</td>\n",
       "      <td>20</td>\n",
       "      <td>34</td>\n",
       "      <td>4</td>\n",
       "      <td>golf part</td>\n",
       "      <td>play cymbals</td>\n",
       "      <td>eat apple</td>\n",
       "      <td>jack up car</td>\n",
       "      <td>balloon animal</td>\n",
       "    </tr>\n",
       "    <tr>\n",
       "      <th>1</th>\n",
       "      <td>1</td>\n",
       "      <td>using_lawn_mower</td>\n",
       "      <td>97</td>\n",
       "      <td>NaN</td>\n",
       "      <td>NaN</td>\n",
       "      <td>using lawn mower</td>\n",
       "      <td>97</td>\n",
       "      <td>32</td>\n",
       "      <td>23</td>\n",
       "      <td>69</td>\n",
       "      <td>40</td>\n",
       "      <td>using lawn mower</td>\n",
       "      <td>handshake dog</td>\n",
       "      <td>floss dance</td>\n",
       "      <td>pull ups</td>\n",
       "      <td>play cymbals</td>\n",
       "    </tr>\n",
       "    <tr>\n",
       "      <th>2</th>\n",
       "      <td>2</td>\n",
       "      <td>using_scythe</td>\n",
       "      <td>98</td>\n",
       "      <td>NaN</td>\n",
       "      <td>NaN</td>\n",
       "      <td>using scythe</td>\n",
       "      <td>98</td>\n",
       "      <td>23</td>\n",
       "      <td>31</td>\n",
       "      <td>103</td>\n",
       "      <td>113</td>\n",
       "      <td>using scythe</td>\n",
       "      <td>floss dance</td>\n",
       "      <td>handsaw</td>\n",
       "      <td>wear face mask</td>\n",
       "      <td>yoga firefly</td>\n",
       "    </tr>\n",
       "    <tr>\n",
       "      <th>3</th>\n",
       "      <td>3</td>\n",
       "      <td>closing_door</td>\n",
       "      <td>14</td>\n",
       "      <td>NaN</td>\n",
       "      <td>NaN</td>\n",
       "      <td>closing door</td>\n",
       "      <td>14</td>\n",
       "      <td>58</td>\n",
       "      <td>84</td>\n",
       "      <td>5</td>\n",
       "      <td>34</td>\n",
       "      <td>closing door</td>\n",
       "      <td>play serpent</td>\n",
       "      <td>softball pitch</td>\n",
       "      <td>basketball jabstep</td>\n",
       "      <td>jack up car</td>\n",
       "    </tr>\n",
       "    <tr>\n",
       "      <th>4</th>\n",
       "      <td>4</td>\n",
       "      <td>chainsaw_tree</td>\n",
       "      <td>10</td>\n",
       "      <td>NaN</td>\n",
       "      <td>NaN</td>\n",
       "      <td>chainsaw tree</td>\n",
       "      <td>10</td>\n",
       "      <td>18</td>\n",
       "      <td>19</td>\n",
       "      <td>60</td>\n",
       "      <td>17</td>\n",
       "      <td>chainsaw tree</td>\n",
       "      <td>dog highfive</td>\n",
       "      <td>draw handgun</td>\n",
       "      <td>play tambourine</td>\n",
       "      <td>dips</td>\n",
       "    </tr>\n",
       "  </tbody>\n",
       "</table>\n",
       "</div>"
      ],
      "text/plain": [
       "   Unnamed: 0            action  cat_idx  file  code             label  \\\n",
       "0           0         golf_part       24   NaN   NaN         golf part   \n",
       "1           1  using_lawn_mower       97   NaN   NaN  using lawn mower   \n",
       "2           2      using_scythe       98   NaN   NaN      using scythe   \n",
       "3           3      closing_door       14   NaN   NaN      closing door   \n",
       "4           4     chainsaw_tree       10   NaN   NaN     chainsaw tree   \n",
       "\n",
       "   choice_idx_1  choice_idx_2  choice_idx_3  choice_idx_4  choice_idx_5  \\\n",
       "0            24            40            20            34             4   \n",
       "1            97            32            23            69            40   \n",
       "2            98            23            31           103           113   \n",
       "3            14            58            84             5            34   \n",
       "4            10            18            19            60            17   \n",
       "\n",
       "     choice_label_1 choice_label_2  choice_label_3      choice_label_4  \\\n",
       "0         golf part   play cymbals       eat apple         jack up car   \n",
       "1  using lawn mower  handshake dog     floss dance            pull ups   \n",
       "2      using scythe    floss dance         handsaw      wear face mask   \n",
       "3      closing door   play serpent  softball pitch  basketball jabstep   \n",
       "4     chainsaw tree   dog highfive    draw handgun     play tambourine   \n",
       "\n",
       "   choice_label_5  \n",
       "0  balloon animal  \n",
       "1    play cymbals  \n",
       "2    yoga firefly  \n",
       "3     jack up car  \n",
       "4            dips  "
      ]
     },
     "execution_count": 14,
     "metadata": {},
     "output_type": "execute_result"
    }
   ],
   "source": [
    "df = pd.read_csv('./Results/mTurk_masterfile.csv')\n",
    "df.head(5)"
   ]
  },
  {
   "cell_type": "code",
   "execution_count": 15,
   "id": "464e992f",
   "metadata": {},
   "outputs": [],
   "source": [
    "plt.ioff()"
   ]
  },
  {
   "cell_type": "code",
   "execution_count": null,
   "id": "6ff34247",
   "metadata": {},
   "outputs": [],
   "source": [
    "\n"
   ]
  },
  {
   "cell_type": "code",
   "execution_count": 16,
   "id": "37c9e01d",
   "metadata": {},
   "outputs": [],
   "source": [
    "# indir_root = './Data/pytorch-data/xl_121_15_action_data_bg/test/'\n",
    "# vid_fn_temp = './Data/haa500_v1_1_yolo_seg4/{this_cat}/{this_cat}_{vid_num}_item_0_inv_seg.mp4'\n",
    "# ofdir = './Data/01_gifs_for_mTurk_bg/'\n",
    "# safe_mkdir(ofdir)"
   ]
  },
  {
   "cell_type": "code",
   "execution_count": 17,
   "id": "e322366d",
   "metadata": {},
   "outputs": [],
   "source": [
    "#vid_fn_temp = './Data/haa500_v1_1_yolo_seg4/{this_cat}/{this_cat}_{vid_num}.mp4'\n",
    "#vid_fn_temp = './Data/haa500_v1_1_yolo_seg4/{this_cat}/{this_cat}_{vid_num}_item_0_inp_seg.mp4'"
   ]
  },
  {
   "cell_type": "code",
   "execution_count": null,
   "id": "239a77e6",
   "metadata": {},
   "outputs": [],
   "source": []
  },
  {
   "cell_type": "code",
   "execution_count": 18,
   "id": "76e82bde",
   "metadata": {},
   "outputs": [],
   "source": [
    "mturk_categories = df['action'].values\n",
    "n = len(mturk_categories)\n",
    "mturk_categories_nice = df['label'].values"
   ]
  },
  {
   "cell_type": "code",
   "execution_count": 24,
   "id": "99cece02",
   "metadata": {},
   "outputs": [],
   "source": []
  },
  {
   "cell_type": "code",
   "execution_count": 31,
   "id": "5b8bdcd7",
   "metadata": {},
   "outputs": [
    {
     "name": "stderr",
     "output_type": "stream",
     "text": [
      "100%|███████████████████████████████████████████| 80/80 [03:10<00:00,  2.38s/it]\n"
     ]
    }
   ],
   "source": [
    "### ORIGINAL VIDEOS\n",
    "indir_root = './Data/pytorch-data/xl_121_15_action_data_orig/test/'\n",
    "vid_fn_temp = './Data/haa500_v1_1_yolo_seg4/{this_cat}/{this_cat}_{vid_num}.mp4'\n",
    "ofdir = './Data/01_gifs_for_mTurk_orig/'\n",
    "safe_mkdir(ofdir)\n",
    "\n",
    "codes = [f'{np.random.randint(low=0,high=999):03d}' for _ in range(n)]\n",
    "df['gif_code_orig'] = codes\n",
    "\n",
    "for c in tqdm(range(n)):\n",
    "    this_cat = mturk_categories[c]\n",
    "    indir = os.path.join(indir_root,this_cat)\n",
    "    frames = [frame for frame in os.listdir(indir) if not frame.startswith('.')]\n",
    "    frames.sort()\n",
    "    frame = frames[0]\n",
    "    vid_num = frame.split('_')[0]\n",
    "    vid_fn = vid_fn_temp.format(this_cat=this_cat,vid_num=vid_num)\n",
    "    video_data = load_video(vid_fn)\n",
    "    video_data = video_data[0:min(video_data.shape[0],150),:,:,:]\n",
    "    \n",
    "    arr = np.concatenate((\n",
    "                get_text_im(text='5',nframes=25),\n",
    "                get_text_im(text='4',nframes=25),\n",
    "                get_text_im(text='3',nframes=25),\n",
    "                get_text_im(text='2',nframes=25),\n",
    "                get_text_im(text='1',nframes=25),\n",
    "                video_data,\n",
    "                get_text_im(text=codes[c],nframes=250)),axis=0)\n",
    "    \n",
    "    save_video(arr,os.path.join(ofdir,f'gif_{c+1:03d}.gif'))\n",
    "    \n",
    "    plt.figure(figsize=(20,10))\n",
    "    plt.subplot(1,3,1)\n",
    "    plt.imshow(arr[0,:,:,:])\n",
    "    plt.axis('off')\n",
    "    plt.subplot(1,3,2)\n",
    "    plt.imshow(arr[126,:,:,:])\n",
    "    plt.axis('off')\n",
    "    plt.subplot(1,3,3)\n",
    "    plt.imshow(arr[-1,:,:,:])\n",
    "    plt.axis('off')\n",
    "    plt.suptitle(mturk_categories[c],fontsize=20,y=0.66)\n",
    "    plt.savefig(os.path.join(ofdir,f'im_{c+1:03d}.jpg'))\n",
    "    plt.close()"
   ]
  },
  {
   "cell_type": "code",
   "execution_count": null,
   "id": "ac8b2ace",
   "metadata": {},
   "outputs": [],
   "source": []
  },
  {
   "cell_type": "code",
   "execution_count": 33,
   "id": "2327183b",
   "metadata": {},
   "outputs": [
    {
     "name": "stderr",
     "output_type": "stream",
     "text": [
      "100%|███████████████████████████████████████████| 80/80 [03:11<00:00,  2.40s/it]\n"
     ]
    }
   ],
   "source": [
    "### BG VIDEOS\n",
    "indir_root = './Data/pytorch-data/xl_121_15_action_data_bg/test/'\n",
    "vid_fn_temp = './Data/haa500_v1_1_yolo_seg4/{this_cat}/{this_cat}_{vid_num}_item_0_inp_seg.mp4'\n",
    "ofdir = './Data/01_gifs_for_mTurk_bg/'\n",
    "safe_mkdir(ofdir)\n",
    "\n",
    "codes = [f'{np.random.randint(low=0,high=999):03d}' for _ in range(n)]\n",
    "df['gif_code_bg'] = codes\n",
    "\n",
    "for c in tqdm(range(n)):\n",
    "    this_cat = mturk_categories[c]\n",
    "    indir = os.path.join(indir_root,this_cat)\n",
    "    frames = [frame for frame in os.listdir(indir) if not frame.startswith('.')]\n",
    "    frames.sort()\n",
    "    frame = frames[0]\n",
    "    vid_num = frame.split('_')[0]\n",
    "    vid_fn = vid_fn_temp.format(this_cat=this_cat,vid_num=vid_num)\n",
    "    video_data = load_video(vid_fn)\n",
    "    video_data = video_data[0:min(video_data.shape[0],150),:,:,:]\n",
    "    \n",
    "    arr = np.concatenate((\n",
    "                get_text_im(text='5',nframes=25),\n",
    "                get_text_im(text='4',nframes=25),\n",
    "                get_text_im(text='3',nframes=25),\n",
    "                get_text_im(text='2',nframes=25),\n",
    "                get_text_im(text='1',nframes=25),\n",
    "                video_data,\n",
    "                get_text_im(text=codes[c],nframes=250)),axis=0)\n",
    "    \n",
    "    save_video(arr,os.path.join(ofdir,f'gif_{c+1:03d}.gif'))\n",
    "    \n",
    "    plt.figure(figsize=(20,10))\n",
    "    plt.subplot(1,3,1)\n",
    "    plt.imshow(arr[0,:,:,:])\n",
    "    plt.axis('off')\n",
    "    plt.subplot(1,3,2)\n",
    "    plt.imshow(arr[126,:,:,:])\n",
    "    plt.axis('off')\n",
    "    plt.subplot(1,3,3)\n",
    "    plt.imshow(arr[-1,:,:,:])\n",
    "    plt.axis('off')\n",
    "    plt.suptitle(mturk_categories[c],fontsize=20,y=0.66)\n",
    "    plt.savefig(os.path.join(ofdir,f'im_{c+1:03d}.jpg'))\n",
    "    plt.close()"
   ]
  },
  {
   "cell_type": "code",
   "execution_count": null,
   "id": "c29a644e",
   "metadata": {},
   "outputs": [],
   "source": []
  },
  {
   "cell_type": "code",
   "execution_count": 34,
   "id": "e1aa0af1",
   "metadata": {},
   "outputs": [
    {
     "name": "stderr",
     "output_type": "stream",
     "text": [
      "100%|███████████████████████████████████████████| 80/80 [02:58<00:00,  2.23s/it]\n"
     ]
    }
   ],
   "source": [
    "### SEG VIDEOS\n",
    "indir_root = './Data/pytorch-data/xl_121_15_action_data_seg/test/'\n",
    "vid_fn_temp = './Data/haa500_v1_1_yolo_seg4/{this_cat}/{this_cat}_{vid_num}_item_0_fwd_seg.mp4'\n",
    "ofdir = './Data/01_gifs_for_mTurk_seg/'\n",
    "safe_mkdir(ofdir)\n",
    "\n",
    "codes = [f'{np.random.randint(low=0,high=999):03d}' for _ in range(n)]\n",
    "df['gif_code_seg'] = codes\n",
    "\n",
    "for c in tqdm(range(n)):\n",
    "    this_cat = mturk_categories[c]\n",
    "    indir = os.path.join(indir_root,this_cat)\n",
    "    frames = [frame for frame in os.listdir(indir) if not frame.startswith('.')]\n",
    "    frames.sort()\n",
    "    frame = frames[0]\n",
    "    vid_num = frame.split('_')[0]\n",
    "    vid_fn = vid_fn_temp.format(this_cat=this_cat,vid_num=vid_num)\n",
    "    video_data = load_video(vid_fn)\n",
    "    video_data = video_data[0:min(video_data.shape[0],150),:,:,:]\n",
    "    \n",
    "    arr = np.concatenate((\n",
    "                get_text_im(text='5',nframes=25),\n",
    "                get_text_im(text='4',nframes=25),\n",
    "                get_text_im(text='3',nframes=25),\n",
    "                get_text_im(text='2',nframes=25),\n",
    "                get_text_im(text='1',nframes=25),\n",
    "                video_data,\n",
    "                get_text_im(text=codes[c],nframes=250)),axis=0)\n",
    "    \n",
    "    save_video(arr,os.path.join(ofdir,f'gif_{c+1:03d}.gif'))\n",
    "    \n",
    "    plt.figure(figsize=(20,10))\n",
    "    plt.subplot(1,3,1)\n",
    "    plt.imshow(arr[0,:,:,:])\n",
    "    plt.axis('off')\n",
    "    plt.subplot(1,3,2)\n",
    "    plt.imshow(arr[126,:,:,:])\n",
    "    plt.axis('off')\n",
    "    plt.subplot(1,3,3)\n",
    "    plt.imshow(arr[-1,:,:,:])\n",
    "    plt.axis('off')\n",
    "    plt.suptitle(mturk_categories[c],fontsize=20,y=0.66)\n",
    "    plt.savefig(os.path.join(ofdir,f'im_{c+1:03d}.jpg'))\n",
    "    plt.close()"
   ]
  },
  {
   "cell_type": "code",
   "execution_count": null,
   "id": "09a30ab6",
   "metadata": {},
   "outputs": [],
   "source": []
  },
  {
   "cell_type": "code",
   "execution_count": null,
   "id": "f3047a72",
   "metadata": {},
   "outputs": [],
   "source": []
  },
  {
   "cell_type": "code",
   "execution_count": null,
   "id": "7b7170af",
   "metadata": {},
   "outputs": [],
   "source": []
  },
  {
   "cell_type": "code",
   "execution_count": 58,
   "id": "53b72619",
   "metadata": {},
   "outputs": [
    {
     "name": "stderr",
     "output_type": "stream",
     "text": [
      "100%|███████████████████████████████████████████| 80/80 [01:01<00:00,  1.29it/s]\n"
     ]
    }
   ],
   "source": [
    "### VALIDATION VIDEOS\n",
    "indir_root = './Data/pytorch-data/xl_121_15_action_data_orig/val/'\n",
    "vid_fn_temp = './Data/haa500_v1_1_yolo_seg4/{this_cat}/{this_cat}_{vid_num}.mp4'\n",
    "ofdir = './Data/01_gifs_for_mTurk_val/'\n",
    "safe_mkdir(ofdir)\n",
    "\n",
    "#codes = [f'{np.random.randint(low=0,high=999):03d}' for _ in range(n)]\n",
    "#df['gif_code_orig'] = codes\n",
    "\n",
    "for c in tqdm(range(n)):\n",
    "    this_cat = mturk_categories[c]\n",
    "    indir = os.path.join(indir_root,this_cat)\n",
    "    frames = [frame for frame in os.listdir(indir) if not frame.startswith('.')]\n",
    "    frames.sort()\n",
    "    frame = frames[0]\n",
    "    vid_num = frame.split('_')[0]\n",
    "    vid_fn = vid_fn_temp.format(this_cat=this_cat,vid_num=vid_num)\n",
    "    video_data = load_video(vid_fn)\n",
    "    video_data = video_data[0:min(video_data.shape[0],100),:,:,:]\n",
    "    \n",
    "#     arr = np.concatenate((\n",
    "#                 get_text_im(text='5',nframes=25),\n",
    "#                 get_text_im(text='4',nframes=25),\n",
    "#                 get_text_im(text='3',nframes=25),\n",
    "#                 get_text_im(text='2',nframes=25),\n",
    "#                 get_text_im(text='1',nframes=25),\n",
    "#                 video_data,\n",
    "#                 get_text_im(text=codes[c],nframes=250)),axis=0)\n",
    "    \n",
    "    save_video(video_data,os.path.join(ofdir,f'vgif_{c+1:03d}.gif'))\n",
    "    #save_video(arr,os.path.join(ofdir,f'gif_{c+1:03d}.gif'))\n",
    "    \n",
    "#     plt.figure(figsize=(20,10))\n",
    "#     plt.subplot(1,3,1)\n",
    "#     plt.imshow(arr[0,:,:,:])\n",
    "#     plt.axis('off')\n",
    "#     plt.subplot(1,3,2)\n",
    "#     plt.imshow(arr[126,:,:,:])\n",
    "#     plt.axis('off')\n",
    "#     plt.subplot(1,3,3)\n",
    "#     plt.imshow(arr[-1,:,:,:])\n",
    "#     plt.axis('off')\n",
    "#     plt.suptitle(mturk_categories[c],fontsize=20,y=0.66)\n",
    "#     plt.savefig(os.path.join(ofdir,f'im_{c+1:03d}.jpg'))\n",
    "#     plt.close()"
   ]
  },
  {
   "cell_type": "code",
   "execution_count": null,
   "id": "8cb924b6",
   "metadata": {},
   "outputs": [],
   "source": []
  },
  {
   "cell_type": "code",
   "execution_count": 49,
   "id": "6c0cddfb",
   "metadata": {},
   "outputs": [],
   "source": [
    "df = df[['action', 'cat_idx', 'file', 'label',\n",
    "       'choice_idx_1', 'choice_idx_2', 'choice_idx_3', 'choice_idx_4',\n",
    "       'choice_idx_5', 'choice_label_1', 'choice_label_2', 'choice_label_3',\n",
    "       'choice_label_4', 'choice_label_5', 'gif_code_orig', 'gif_code_bg',\n",
    "       'gif_code_seg']]"
   ]
  },
  {
   "cell_type": "code",
   "execution_count": 53,
   "id": "93be3d9e",
   "metadata": {},
   "outputs": [
    {
     "name": "stderr",
     "output_type": "stream",
     "text": [
      "/tmp/ipykernel_42927/1520840460.py:1: SettingWithCopyWarning: \n",
      "A value is trying to be set on a copy of a slice from a DataFrame.\n",
      "Try using .loc[row_indexer,col_indexer] = value instead\n",
      "\n",
      "See the caveats in the documentation: https://pandas.pydata.org/pandas-docs/stable/user_guide/indexing.html#returning-a-view-versus-a-copy\n",
      "  df['file'] = [f'gif_{c+1:03d}.gif' for c in range(n)]\n"
     ]
    }
   ],
   "source": [
    "df['file'] = [f'gif_{c+1:03d}.gif' for c in range(n)]"
   ]
  },
  {
   "cell_type": "code",
   "execution_count": 55,
   "id": "863f127b",
   "metadata": {},
   "outputs": [],
   "source": [
    "#df.to_csv('./Results/mTurk_masterfile_2.csv')"
   ]
  },
  {
   "cell_type": "code",
   "execution_count": 59,
   "id": "b950ee3c",
   "metadata": {},
   "outputs": [],
   "source": [
    "#!zip -r ./Data/01_gifs_for_mTurk_orig.zip ./Data/01_gifs_for_mTurk_orig"
   ]
  },
  {
   "cell_type": "code",
   "execution_count": 61,
   "id": "ec915123",
   "metadata": {},
   "outputs": [],
   "source": [
    "#!zip -r ./Data/01_gifs_for_mTurk_bg.zip ./Data/01_gifs_for_mTurk_bg"
   ]
  },
  {
   "cell_type": "code",
   "execution_count": 63,
   "id": "ff1aab0a",
   "metadata": {},
   "outputs": [],
   "source": [
    "#!zip -r ./Data/01_gifs_for_mTurk_seg.zip ./Data/01_gifs_for_mTurk_seg"
   ]
  },
  {
   "cell_type": "code",
   "execution_count": 60,
   "id": "02e05341",
   "metadata": {},
   "outputs": [],
   "source": [
    "#!zip -r ./Data/01_gifs_for_mTurk_val.zip ./Data/01_gifs_for_mTurk_val"
   ]
  },
  {
   "cell_type": "code",
   "execution_count": null,
   "id": "79ea6ffb",
   "metadata": {},
   "outputs": [],
   "source": []
  },
  {
   "cell_type": "code",
   "execution_count": 11,
   "id": "d8d15f6a",
   "metadata": {},
   "outputs": [
    {
     "data": {
      "text/plain": [
       "'/mmfs1/data/aglinska/BC-actionpred-seg'"
      ]
     },
     "execution_count": 11,
     "metadata": {},
     "output_type": "execute_result"
    }
   ],
   "source": [
    "pwd"
   ]
  },
  {
   "cell_type": "code",
   "execution_count": 55,
   "id": "e77ea699",
   "metadata": {},
   "outputs": [],
   "source": [
    "plt.ioff()"
   ]
  },
  {
   "cell_type": "code",
   "execution_count": 73,
   "id": "d240997e",
   "metadata": {},
   "outputs": [
    {
     "name": "stderr",
     "output_type": "stream",
     "text": [
      "100%|███████████████████████████████████████████| 80/80 [00:39<00:00,  2.01it/s]\n"
     ]
    }
   ],
   "source": [
    "durs = []\n",
    "for i in tqdm( np.arange(1,80+1)):\n",
    "    video_data_orig = load_video(f'./Data/01_gifs_for_mTurk_orig/gif_{i:03d}.gif')\n",
    "    durs.append( (video_data_orig.shape[0]-125-250)/25 )"
   ]
  },
  {
   "cell_type": "code",
   "execution_count": 74,
   "id": "874249cd",
   "metadata": {},
   "outputs": [
    {
     "data": {
      "text/plain": [
       "(0.4, 6.0)"
      ]
     },
     "execution_count": 74,
     "metadata": {},
     "output_type": "execute_result"
    }
   ],
   "source": [
    "durs = np.array(durs)\n",
    "(durs.min(),durs.max())"
   ]
  },
  {
   "cell_type": "code",
   "execution_count": 3,
   "id": "da42d632",
   "metadata": {},
   "outputs": [],
   "source": [
    "# for i in tqdm( np.arange(1,80+1) ):\n",
    "    \n",
    "#     video_data_orig = load_video(f'./Data/01_gifs_for_mTurk_orig/gif_{i:03d}.gif')\n",
    "#     video_data_bg = load_video(f'./Data/01_gifs_for_mTurk_bg/gif_{i:03d}.gif')\n",
    "#     video_data_seg = load_video(f'./Data/01_gifs_for_mTurk_seg/gif_{i:03d}.gif')\n",
    "#     video_data_val = load_video(f'./Data/01_gifs_for_mTurk_val/vgif_{i:03d}.gif')\n",
    "\n",
    "#     mid1 = 125+int((video_data_orig.shape[0]-125-250)/2)\n",
    "#     mid2 = int(video_data_val.shape[0]/2)\n",
    "\n",
    "#     plt.figure(figsize=np.array((15,5))*1.5)\n",
    "#     plt.subplot(1,4,1)\n",
    "#     plt.imshow(video_data_orig[mid1,:,:,:])\n",
    "#     plt.xticks([]);plt.yticks([]);\n",
    "#     plt.ylabel(df['label'].values[i-1],fontsize=16,fontweight='bold')\n",
    "\n",
    "#     plt.subplot(1,4,2)\n",
    "#     plt.imshow(video_data_seg[mid1,:,:,:])\n",
    "#     plt.xticks([]);plt.yticks([]);\n",
    "#     #plt.ylabel('golf',fontsize=14)\n",
    "\n",
    "#     plt.subplot(1,4,3)\n",
    "#     plt.imshow(video_data_bg[mid1,:,:,:])\n",
    "#     plt.xticks([]);plt.yticks([]);\n",
    "#     #plt.ylabel('golf',fontsize=14)\n",
    "\n",
    "#     plt.subplot(1,4,4)\n",
    "#     plt.imshow(video_data_val[mid2,:,:,:])\n",
    "#     plt.xticks([]);plt.yticks([]);\n",
    "#     #plt.ylabel('golf',fontsize=14)\n",
    "\n",
    "#     plt.tight_layout()\n",
    "\n",
    "#     plt.savefig(f'./Data/01-figs-for-ethics/{i:03d}.png',transparent=True)\n",
    "#     plt.close()"
   ]
  },
  {
   "cell_type": "code",
   "execution_count": null,
   "id": "4eebd0f8",
   "metadata": {},
   "outputs": [],
   "source": []
  },
  {
   "cell_type": "code",
   "execution_count": 2,
   "id": "7b1bbf2a",
   "metadata": {},
   "outputs": [],
   "source": [
    "# i = 51\n",
    "# video_data_orig = load_video(f'./Data/01_gifs_for_mTurk_orig/gif_{i:03d}.gif')\n",
    "# print(video_data_orig.shape)\n",
    "\n",
    "# video_data_orig = video_data_orig[125:video_data_orig.shape[0]-250,:,:,:]\n",
    "# plt.imshow(video_data_orig[-1,:,:,:])\n",
    "# plt.show()"
   ]
  },
  {
   "cell_type": "code",
   "execution_count": 1,
   "id": "a63b3c39",
   "metadata": {},
   "outputs": [],
   "source": [
    "# for f in np.linspace(0,53,6).astype(int):\n",
    "#     plt.imshow(video_data_orig[f,:,:,:])\n",
    "#     plt.axis('off')\n",
    "#     plt.show()"
   ]
  },
  {
   "cell_type": "code",
   "execution_count": null,
   "id": "04a1195c",
   "metadata": {},
   "outputs": [],
   "source": []
  },
  {
   "cell_type": "code",
   "execution_count": null,
   "id": "8db1a743",
   "metadata": {},
   "outputs": [],
   "source": []
  },
  {
   "cell_type": "code",
   "execution_count": 40,
   "id": "2149e74a",
   "metadata": {},
   "outputs": [],
   "source": []
  },
  {
   "cell_type": "code",
   "execution_count": 67,
   "id": "1bd9222d",
   "metadata": {},
   "outputs": [
    {
     "name": "stderr",
     "output_type": "stream",
     "text": [
      " 25%|██▌       | 20/80 [00:08<00:26,  2.24it/s]<ipython-input-67-96e9dedfe661>:6: RuntimeWarning: More than 20 figures have been opened. Figures created through the pyplot interface (`matplotlib.pyplot.figure`) are retained until explicitly closed and may consume too much memory. (To control this warning, see the rcParam `figure.max_open_warning`).\n",
      "  plt.figure(figsize=(20,10))\n",
      "100%|██████████| 80/80 [00:36<00:00,  2.19it/s]\n"
     ]
    }
   ],
   "source": [
    "#i = 1\n",
    "for i in tqdm( np.arange(1,80+1) ):\n",
    "    video_data_val = load_video(f'./Data/01_gifs_for_mTurk_val/vgif_{i:03d}.gif')\n",
    "    i_frames = np.linspace(start=0,stop=video_data_val.shape[0]-1,num=5).astype(int)\n",
    "\n",
    "    plt.figure(figsize=(20,10))\n",
    "    c = 0\n",
    "    for f in i_frames:\n",
    "        c = c+1\n",
    "        plt.subplot(1,5,c)\n",
    "        plt.imshow(video_data_val[f,:,:,:])\n",
    "        plt.axis('off')\n",
    "    lbl = df['label'].values[i-1]\n",
    "    plt.suptitle(lbl,y=.65,fontsize=25)\n",
    "    plt.tight_layout()\n",
    "\n",
    "\n",
    "    plt.savefig(os.path.join('./Data/01-still-mturk-train/',lbl.replace(' ','_')+'.jpg'),bbox_inches='tight')\n",
    "    #plt.show()"
   ]
  },
  {
   "cell_type": "code",
   "execution_count": 69,
   "id": "9ecfb877",
   "metadata": {},
   "outputs": [],
   "source": [
    "#!zip -r './Data/01-still-mturk-train.zip' './Data/01-still-mturk-train/'"
   ]
  },
  {
   "cell_type": "code",
   "execution_count": null,
   "id": "052b4890",
   "metadata": {},
   "outputs": [],
   "source": []
  },
  {
   "cell_type": "code",
   "execution_count": null,
   "id": "18ac2539",
   "metadata": {},
   "outputs": [],
   "source": []
  },
  {
   "cell_type": "code",
   "execution_count": null,
   "id": "f31069f8",
   "metadata": {},
   "outputs": [],
   "source": []
  },
  {
   "cell_type": "code",
   "execution_count": null,
   "id": "61d730a4",
   "metadata": {},
   "outputs": [],
   "source": []
  },
  {
   "cell_type": "code",
   "execution_count": null,
   "id": "d9d05816",
   "metadata": {},
   "outputs": [],
   "source": []
  },
  {
   "cell_type": "code",
   "execution_count": null,
   "id": "2cbf73d9",
   "metadata": {},
   "outputs": [],
   "source": [
    "for i in tqdm( np.arange(1,80+1) ):\n",
    "    \n",
    "    #video_data_orig = load_video(f'./Data/01_gifs_for_mTurk_orig/gif_{i:03d}.gif')\n",
    "    #video_data_bg = load_video(f'./Data/01_gifs_for_mTurk_bg/gif_{i:03d}.gif')\n",
    "    #video_data_seg = load_video(f'./Data/01_gifs_for_mTurk_seg/gif_{i:03d}.gif')\n",
    "    #video_data_val = load_video(f'./Data/01_gifs_for_mTurk_val/vgif_{i:03d}.gif')\n",
    "\n",
    "    mid1 = 125+int((video_data_orig.shape[0]-125-250)/2)\n",
    "    mid2 = int(video_data_val.shape[0]/2)\n",
    "\n",
    "    plt.figure(figsize=np.array((15,5))*1.5)\n",
    "    plt.subplot(1,4,1)\n",
    "    plt.imshow(video_data_orig[mid1,:,:,:])\n",
    "    plt.xticks([]);plt.yticks([]);\n",
    "    plt.ylabel(df['label'].values[i-1],fontsize=16,fontweight='bold')\n",
    "\n",
    "    plt.subplot(1,4,2)\n",
    "    plt.imshow(video_data_seg[mid1,:,:,:])\n",
    "    plt.xticks([]);plt.yticks([]);\n",
    "    #plt.ylabel('golf',fontsize=14)\n",
    "\n",
    "    plt.subplot(1,4,3)\n",
    "    plt.imshow(video_data_bg[mid1,:,:,:])\n",
    "    plt.xticks([]);plt.yticks([]);\n",
    "    #plt.ylabel('golf',fontsize=14)\n",
    "\n",
    "    plt.subplot(1,4,4)\n",
    "    plt.imshow(video_data_val[mid2,:,:,:])\n",
    "    plt.xticks([]);plt.yticks([]);\n",
    "    #plt.ylabel('golf',fontsize=14)\n",
    "\n",
    "    plt.tight_layout()\n",
    "\n",
    "    plt.savefig(f'./Data/01-figs-for-ethics/{i:03d}.png',transparent=True)\n",
    "    plt.close()"
   ]
  },
  {
   "cell_type": "code",
   "execution_count": null,
   "id": "10e5b94d",
   "metadata": {},
   "outputs": [],
   "source": []
  },
  {
   "cell_type": "code",
   "execution_count": null,
   "id": "836ba2f4",
   "metadata": {},
   "outputs": [],
   "source": []
  },
  {
   "cell_type": "code",
   "execution_count": 33,
   "id": "5d473302",
   "metadata": {},
   "outputs": [],
   "source": [
    "# for f in tqdm(range(video_data_orig.shape[0])):\n",
    "#     plt.imshow(video_data_orig[f,:,:,:])\n",
    "#     plt.axis('off')\n",
    "#     plt.savefig(f'./Data/xxx-temp-frames/{f:04d}.jpg',transparent=True)"
   ]
  },
  {
   "cell_type": "code",
   "execution_count": 19,
   "id": "9d89e6ba",
   "metadata": {},
   "outputs": [],
   "source": [
    "#!zip -r './Data/xxx-temp-frames.zip' './Data/xxx-temp-frames/'"
   ]
  },
  {
   "cell_type": "code",
   "execution_count": 30,
   "id": "429d6697",
   "metadata": {},
   "outputs": [],
   "source": []
  },
  {
   "cell_type": "code",
   "execution_count": null,
   "id": "67eb919d",
   "metadata": {},
   "outputs": [],
   "source": []
  },
  {
   "cell_type": "code",
   "execution_count": 29,
   "id": "7e303281",
   "metadata": {},
   "outputs": [
    {
     "data": {
      "text/plain": [
       "'./Data/xxx-temp-frames/0051.jpg'"
      ]
     },
     "execution_count": 29,
     "metadata": {},
     "output_type": "execute_result"
    }
   ],
   "source": []
  },
  {
   "cell_type": "code",
   "execution_count": 16,
   "id": "a8217f1c",
   "metadata": {},
   "outputs": [],
   "source": [
    "#!zip -r './Data/01-figs-for-ethics.zip' './Data/01-figs-for-ethics/'"
   ]
  },
  {
   "cell_type": "code",
   "execution_count": null,
   "id": "155aaa42",
   "metadata": {},
   "outputs": [],
   "source": []
  },
  {
   "cell_type": "code",
   "execution_count": null,
   "id": "99500604",
   "metadata": {},
   "outputs": [],
   "source": []
  }
 ],
 "metadata": {
  "kernelspec": {
   "display_name": "Python 3 (ipykernel)",
   "language": "python",
   "name": "python3"
  },
  "language_info": {
   "codemirror_mode": {
    "name": "ipython",
    "version": 3
   },
   "file_extension": ".py",
   "mimetype": "text/x-python",
   "name": "python",
   "nbconvert_exporter": "python",
   "pygments_lexer": "ipython3",
   "version": "3.8.17"
  }
 },
 "nbformat": 4,
 "nbformat_minor": 5
}
