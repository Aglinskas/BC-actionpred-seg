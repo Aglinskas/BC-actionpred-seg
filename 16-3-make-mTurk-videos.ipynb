{
 "cells": [
  {
   "cell_type": "code",
   "execution_count": 1,
   "id": "342c2aff-5688-47c1-ae32-ad30e7f0cd58",
   "metadata": {},
   "outputs": [
    {
     "name": "stdout",
     "output_type": "stream",
     "text": [
      "Wed May 31 16:57:46 EDT 2023\n"
     ]
    }
   ],
   "source": [
    "!date"
   ]
  },
  {
   "cell_type": "code",
   "execution_count": 2,
   "id": "e5137b5e-fdd3-40ff-ba22-905f11b3a19c",
   "metadata": {},
   "outputs": [
    {
     "data": {
      "text/plain": [
       "'/mmfs1/data/aglinska/BC-actionpred-seg'"
      ]
     },
     "execution_count": 2,
     "metadata": {},
     "output_type": "execute_result"
    }
   ],
   "source": [
    "pwd"
   ]
  },
  {
   "cell_type": "code",
   "execution_count": 3,
   "id": "4b64b6bb-08ac-46bd-ad80-522c70bbd31c",
   "metadata": {},
   "outputs": [],
   "source": [
    "#!pip install scikit-video"
   ]
  },
  {
   "cell_type": "code",
   "execution_count": 8,
   "id": "871fbada-16dd-4496-8913-3c962f86e7c9",
   "metadata": {},
   "outputs": [],
   "source": [
    "#!pip install opencv-python"
   ]
  },
  {
   "cell_type": "code",
   "execution_count": 9,
   "id": "e10b6406-f7f3-4db5-8592-64b64d95dc69",
   "metadata": {},
   "outputs": [],
   "source": [
    "from matplotlib import pyplot as plt\n",
    "from PIL import Image, ImageEnhance,ImageStat\n",
    "import skvideo\n",
    "import skvideo.io\n",
    "import numpy as np\n",
    "import os\n",
    "from tqdm import tqdm\n",
    "import cv2\n",
    "\n",
    "from PIL import Image\n",
    "from PIL import ImageDraw\n",
    "from PIL import ImageFont\n",
    "import pandas as pd\n",
    "import random"
   ]
  },
  {
   "cell_type": "code",
   "execution_count": 10,
   "id": "ca438274-fa00-4797-954c-764e411d98d0",
   "metadata": {},
   "outputs": [],
   "source": [
    "fnt_dir = './Arial Bold.ttf'\n",
    "fnt = ImageFont.truetype(fnt_dir, 40)"
   ]
  },
  {
   "cell_type": "code",
   "execution_count": 11,
   "id": "af4faa5c-6c1c-4099-9518-781a07c85602",
   "metadata": {},
   "outputs": [],
   "source": [
    "def load_video(fn):\n",
    "    #fn = 'ID4_h1_1.mp4'\n",
    "    videodata = skvideo.io.vread(fn)\n",
    "    return videodata"
   ]
  },
  {
   "cell_type": "code",
   "execution_count": 12,
   "id": "b76e908a-775d-47c5-b97c-400c3a4583b6",
   "metadata": {},
   "outputs": [],
   "source": [
    "def get_text_im(text='000',nframes=150):\n",
    "    img = Image.new('RGB', (640,360))\n",
    "    d = ImageDraw.Draw(img)\n",
    "    d.text((320-len(text)*10, 150), text, fill=(255, 255, 255),font=fnt)\n",
    "    return np.array([np.array(img) for _ in range(nframes)])"
   ]
  },
  {
   "cell_type": "code",
   "execution_count": 13,
   "id": "428a6005-f83e-427c-907e-72ae38a4c80b",
   "metadata": {},
   "outputs": [],
   "source": [
    "def save_video(videodata,ofn='outvideo.mp4'):\n",
    "    #skvideo.io.vwrite(ofn, videodata.astype(np.uint8),outputdict={'-pix_fmt' : 'yuv420p','-codec': 'h264', '-filter:v' : 'fps=20'})\n",
    "    skvideo.io.vwrite(ofn, videodata.astype(np.uint8))"
   ]
  },
  {
   "cell_type": "code",
   "execution_count": 14,
   "id": "70643fc4-1348-4ba7-aac0-6b46e36585e4",
   "metadata": {},
   "outputs": [],
   "source": [
    "def safe_mkdir(fn):\n",
    "    import os\n",
    "    if not os.path.exists(fn):\n",
    "        os.mkdir(fn)"
   ]
  },
  {
   "cell_type": "code",
   "execution_count": null,
   "id": "ca94720a-a494-4b3a-97b4-e05151663e6d",
   "metadata": {},
   "outputs": [],
   "source": []
  },
  {
   "cell_type": "code",
   "execution_count": 19,
   "id": "7c08f873-3b34-49f0-8a50-b702b08e125c",
   "metadata": {},
   "outputs": [
    {
     "data": {
      "text/html": [
       "<div>\n",
       "<style scoped>\n",
       "    .dataframe tbody tr th:only-of-type {\n",
       "        vertical-align: middle;\n",
       "    }\n",
       "\n",
       "    .dataframe tbody tr th {\n",
       "        vertical-align: top;\n",
       "    }\n",
       "\n",
       "    .dataframe thead th {\n",
       "        text-align: right;\n",
       "    }\n",
       "</style>\n",
       "<table border=\"1\" class=\"dataframe\">\n",
       "  <thead>\n",
       "    <tr style=\"text-align: right;\">\n",
       "      <th></th>\n",
       "      <th>Unnamed: 0</th>\n",
       "      <th>action</th>\n",
       "      <th>cat_idx</th>\n",
       "      <th>file</th>\n",
       "      <th>code</th>\n",
       "      <th>label</th>\n",
       "      <th>choice_idx_1</th>\n",
       "      <th>choice_idx_2</th>\n",
       "      <th>choice_idx_3</th>\n",
       "      <th>choice_idx_4</th>\n",
       "      <th>choice_idx_5</th>\n",
       "      <th>choice_label_1</th>\n",
       "      <th>choice_label_2</th>\n",
       "      <th>choice_label_3</th>\n",
       "      <th>choice_label_4</th>\n",
       "      <th>choice_label_5</th>\n",
       "    </tr>\n",
       "  </thead>\n",
       "  <tbody>\n",
       "    <tr>\n",
       "      <th>0</th>\n",
       "      <td>0</td>\n",
       "      <td>golf_part</td>\n",
       "      <td>24</td>\n",
       "      <td>NaN</td>\n",
       "      <td>NaN</td>\n",
       "      <td>golf part</td>\n",
       "      <td>24</td>\n",
       "      <td>40</td>\n",
       "      <td>20</td>\n",
       "      <td>34</td>\n",
       "      <td>4</td>\n",
       "      <td>golf part</td>\n",
       "      <td>play cymbals</td>\n",
       "      <td>eat apple</td>\n",
       "      <td>jack up car</td>\n",
       "      <td>balloon animal</td>\n",
       "    </tr>\n",
       "    <tr>\n",
       "      <th>1</th>\n",
       "      <td>1</td>\n",
       "      <td>using_lawn_mower</td>\n",
       "      <td>97</td>\n",
       "      <td>NaN</td>\n",
       "      <td>NaN</td>\n",
       "      <td>using lawn mower</td>\n",
       "      <td>97</td>\n",
       "      <td>32</td>\n",
       "      <td>23</td>\n",
       "      <td>69</td>\n",
       "      <td>40</td>\n",
       "      <td>using lawn mower</td>\n",
       "      <td>handshake dog</td>\n",
       "      <td>floss dance</td>\n",
       "      <td>pull ups</td>\n",
       "      <td>play cymbals</td>\n",
       "    </tr>\n",
       "    <tr>\n",
       "      <th>2</th>\n",
       "      <td>2</td>\n",
       "      <td>using_scythe</td>\n",
       "      <td>98</td>\n",
       "      <td>NaN</td>\n",
       "      <td>NaN</td>\n",
       "      <td>using scythe</td>\n",
       "      <td>98</td>\n",
       "      <td>23</td>\n",
       "      <td>31</td>\n",
       "      <td>103</td>\n",
       "      <td>113</td>\n",
       "      <td>using scythe</td>\n",
       "      <td>floss dance</td>\n",
       "      <td>handsaw</td>\n",
       "      <td>wear face mask</td>\n",
       "      <td>yoga firefly</td>\n",
       "    </tr>\n",
       "    <tr>\n",
       "      <th>3</th>\n",
       "      <td>3</td>\n",
       "      <td>closing_door</td>\n",
       "      <td>14</td>\n",
       "      <td>NaN</td>\n",
       "      <td>NaN</td>\n",
       "      <td>closing door</td>\n",
       "      <td>14</td>\n",
       "      <td>58</td>\n",
       "      <td>84</td>\n",
       "      <td>5</td>\n",
       "      <td>34</td>\n",
       "      <td>closing door</td>\n",
       "      <td>play serpent</td>\n",
       "      <td>softball pitch</td>\n",
       "      <td>basketball jabstep</td>\n",
       "      <td>jack up car</td>\n",
       "    </tr>\n",
       "    <tr>\n",
       "      <th>4</th>\n",
       "      <td>4</td>\n",
       "      <td>chainsaw_tree</td>\n",
       "      <td>10</td>\n",
       "      <td>NaN</td>\n",
       "      <td>NaN</td>\n",
       "      <td>chainsaw tree</td>\n",
       "      <td>10</td>\n",
       "      <td>18</td>\n",
       "      <td>19</td>\n",
       "      <td>60</td>\n",
       "      <td>17</td>\n",
       "      <td>chainsaw tree</td>\n",
       "      <td>dog highfive</td>\n",
       "      <td>draw handgun</td>\n",
       "      <td>play tambourine</td>\n",
       "      <td>dips</td>\n",
       "    </tr>\n",
       "  </tbody>\n",
       "</table>\n",
       "</div>"
      ],
      "text/plain": [
       "   Unnamed: 0            action  cat_idx  file  code             label  \\\n",
       "0           0         golf_part       24   NaN   NaN         golf part   \n",
       "1           1  using_lawn_mower       97   NaN   NaN  using lawn mower   \n",
       "2           2      using_scythe       98   NaN   NaN      using scythe   \n",
       "3           3      closing_door       14   NaN   NaN      closing door   \n",
       "4           4     chainsaw_tree       10   NaN   NaN     chainsaw tree   \n",
       "\n",
       "   choice_idx_1  choice_idx_2  choice_idx_3  choice_idx_4  choice_idx_5  \\\n",
       "0            24            40            20            34             4   \n",
       "1            97            32            23            69            40   \n",
       "2            98            23            31           103           113   \n",
       "3            14            58            84             5            34   \n",
       "4            10            18            19            60            17   \n",
       "\n",
       "     choice_label_1 choice_label_2  choice_label_3      choice_label_4  \\\n",
       "0         golf part   play cymbals       eat apple         jack up car   \n",
       "1  using lawn mower  handshake dog     floss dance            pull ups   \n",
       "2      using scythe    floss dance         handsaw      wear face mask   \n",
       "3      closing door   play serpent  softball pitch  basketball jabstep   \n",
       "4     chainsaw tree   dog highfive    draw handgun     play tambourine   \n",
       "\n",
       "   choice_label_5  \n",
       "0  balloon animal  \n",
       "1    play cymbals  \n",
       "2    yoga firefly  \n",
       "3     jack up car  \n",
       "4            dips  "
      ]
     },
     "execution_count": 19,
     "metadata": {},
     "output_type": "execute_result"
    }
   ],
   "source": [
    "df = pd.read_csv('./Results/mTurk_masterfile.csv')\n",
    "df.head(5)"
   ]
  },
  {
   "cell_type": "code",
   "execution_count": null,
   "id": "8c6b40b7-6caa-48f4-ba3e-fb2cdd3e8a30",
   "metadata": {},
   "outputs": [],
   "source": [
    "plt.ioff()"
   ]
  },
  {
   "cell_type": "code",
   "execution_count": 29,
   "id": "4d795ac7-a4ee-4856-8005-fb0f405b1237",
   "metadata": {},
   "outputs": [],
   "source": []
  },
  {
   "cell_type": "code",
   "execution_count": null,
   "id": "7497ac62-04b3-41f4-805f-82eb84d3cdfa",
   "metadata": {},
   "outputs": [],
   "source": [
    "# indir_root = './Data/pytorch-data/xl_121_15_action_data_bg/test/'\n",
    "# vid_fn_temp = './Data/haa500_v1_1_yolo_seg4/{this_cat}/{this_cat}_{vid_num}_item_0_inv_seg.mp4'\n",
    "# ofdir = './Data/01_gifs_for_mTurk_bg/'\n",
    "# safe_mkdir(ofdir)"
   ]
  },
  {
   "cell_type": "code",
   "execution_count": null,
   "id": "88cfd948-3df4-4d31-8d30-35bbec020a93",
   "metadata": {},
   "outputs": [],
   "source": [
    "#vid_fn_temp = './Data/haa500_v1_1_yolo_seg4/{this_cat}/{this_cat}_{vid_num}.mp4'\n",
    "#vid_fn_temp = './Data/haa500_v1_1_yolo_seg4/{this_cat}/{this_cat}_{vid_num}_item_0_inp_seg.mp4'"
   ]
  },
  {
   "cell_type": "code",
   "execution_count": null,
   "id": "0c1d8212-1d0a-4ab8-8190-202b9a299958",
   "metadata": {},
   "outputs": [],
   "source": []
  },
  {
   "cell_type": "code",
   "execution_count": 25,
   "id": "aa990113-ea69-41e6-bb68-e301de0f9384",
   "metadata": {},
   "outputs": [],
   "source": [
    "mturk_categories = df['action'].values\n",
    "n = len(mturk_categories)\n",
    "mturk_categories_nice = df['label'].values"
   ]
  },
  {
   "cell_type": "code",
   "execution_count": 24,
   "id": "3ef0c74d-b9a2-43e8-9dce-ab97f7d1c37d",
   "metadata": {},
   "outputs": [],
   "source": []
  },
  {
   "cell_type": "code",
   "execution_count": 31,
   "id": "51b2f646-ea60-418c-9b53-171c955cac7d",
   "metadata": {},
   "outputs": [
    {
     "name": "stderr",
     "output_type": "stream",
     "text": [
      "100%|███████████████████████████████████████████| 80/80 [03:10<00:00,  2.38s/it]\n"
     ]
    }
   ],
   "source": [
    "### ORIGINAL VIDEOS\n",
    "indir_root = './Data/pytorch-data/xl_121_15_action_data_orig/test/'\n",
    "vid_fn_temp = './Data/haa500_v1_1_yolo_seg4/{this_cat}/{this_cat}_{vid_num}.mp4'\n",
    "ofdir = './Data/01_gifs_for_mTurk_orig/'\n",
    "safe_mkdir(ofdir)\n",
    "\n",
    "codes = [f'{np.random.randint(low=0,high=999):03d}' for _ in range(n)]\n",
    "df['gif_code_orig'] = codes\n",
    "\n",
    "for c in tqdm(range(n)):\n",
    "    this_cat = mturk_categories[c]\n",
    "    indir = os.path.join(indir_root,this_cat)\n",
    "    frames = [frame for frame in os.listdir(indir) if not frame.startswith('.')]\n",
    "    frames.sort()\n",
    "    frame = frames[0]\n",
    "    vid_num = frame.split('_')[0]\n",
    "    vid_fn = vid_fn_temp.format(this_cat=this_cat,vid_num=vid_num)\n",
    "    video_data = load_video(vid_fn)\n",
    "    video_data = video_data[0:min(video_data.shape[0],150),:,:,:]\n",
    "    \n",
    "    arr = np.concatenate((\n",
    "                get_text_im(text='5',nframes=25),\n",
    "                get_text_im(text='4',nframes=25),\n",
    "                get_text_im(text='3',nframes=25),\n",
    "                get_text_im(text='2',nframes=25),\n",
    "                get_text_im(text='1',nframes=25),\n",
    "                video_data,\n",
    "                get_text_im(text=codes[c],nframes=250)),axis=0)\n",
    "    \n",
    "    save_video(arr,os.path.join(ofdir,f'gif_{c+1:03d}.gif'))\n",
    "    \n",
    "    plt.figure(figsize=(20,10))\n",
    "    plt.subplot(1,3,1)\n",
    "    plt.imshow(arr[0,:,:,:])\n",
    "    plt.axis('off')\n",
    "    plt.subplot(1,3,2)\n",
    "    plt.imshow(arr[126,:,:,:])\n",
    "    plt.axis('off')\n",
    "    plt.subplot(1,3,3)\n",
    "    plt.imshow(arr[-1,:,:,:])\n",
    "    plt.axis('off')\n",
    "    plt.suptitle(mturk_categories[c],fontsize=20,y=0.66)\n",
    "    plt.savefig(os.path.join(ofdir,f'im_{c+1:03d}.jpg'))\n",
    "    plt.close()"
   ]
  },
  {
   "cell_type": "code",
   "execution_count": null,
   "id": "18a11201-995b-44b3-a271-1610478e131f",
   "metadata": {},
   "outputs": [],
   "source": []
  },
  {
   "cell_type": "code",
   "execution_count": 33,
   "id": "2b3f75c7-cfb4-4be2-9dfe-d8cc64d47d85",
   "metadata": {},
   "outputs": [
    {
     "name": "stderr",
     "output_type": "stream",
     "text": [
      "100%|███████████████████████████████████████████| 80/80 [03:11<00:00,  2.40s/it]\n"
     ]
    }
   ],
   "source": [
    "### BG VIDEOS\n",
    "indir_root = './Data/pytorch-data/xl_121_15_action_data_bg/test/'\n",
    "vid_fn_temp = './Data/haa500_v1_1_yolo_seg4/{this_cat}/{this_cat}_{vid_num}_item_0_inp_seg.mp4'\n",
    "ofdir = './Data/01_gifs_for_mTurk_bg/'\n",
    "safe_mkdir(ofdir)\n",
    "\n",
    "codes = [f'{np.random.randint(low=0,high=999):03d}' for _ in range(n)]\n",
    "df['gif_code_bg'] = codes\n",
    "\n",
    "for c in tqdm(range(n)):\n",
    "    this_cat = mturk_categories[c]\n",
    "    indir = os.path.join(indir_root,this_cat)\n",
    "    frames = [frame for frame in os.listdir(indir) if not frame.startswith('.')]\n",
    "    frames.sort()\n",
    "    frame = frames[0]\n",
    "    vid_num = frame.split('_')[0]\n",
    "    vid_fn = vid_fn_temp.format(this_cat=this_cat,vid_num=vid_num)\n",
    "    video_data = load_video(vid_fn)\n",
    "    video_data = video_data[0:min(video_data.shape[0],150),:,:,:]\n",
    "    \n",
    "    arr = np.concatenate((\n",
    "                get_text_im(text='5',nframes=25),\n",
    "                get_text_im(text='4',nframes=25),\n",
    "                get_text_im(text='3',nframes=25),\n",
    "                get_text_im(text='2',nframes=25),\n",
    "                get_text_im(text='1',nframes=25),\n",
    "                video_data,\n",
    "                get_text_im(text=codes[c],nframes=250)),axis=0)\n",
    "    \n",
    "    save_video(arr,os.path.join(ofdir,f'gif_{c+1:03d}.gif'))\n",
    "    \n",
    "    plt.figure(figsize=(20,10))\n",
    "    plt.subplot(1,3,1)\n",
    "    plt.imshow(arr[0,:,:,:])\n",
    "    plt.axis('off')\n",
    "    plt.subplot(1,3,2)\n",
    "    plt.imshow(arr[126,:,:,:])\n",
    "    plt.axis('off')\n",
    "    plt.subplot(1,3,3)\n",
    "    plt.imshow(arr[-1,:,:,:])\n",
    "    plt.axis('off')\n",
    "    plt.suptitle(mturk_categories[c],fontsize=20,y=0.66)\n",
    "    plt.savefig(os.path.join(ofdir,f'im_{c+1:03d}.jpg'))\n",
    "    plt.close()"
   ]
  },
  {
   "cell_type": "code",
   "execution_count": null,
   "id": "65618a68-7571-4da6-8ed5-ad58a72a621d",
   "metadata": {},
   "outputs": [],
   "source": []
  },
  {
   "cell_type": "code",
   "execution_count": 34,
   "id": "12c86a82-dc33-4512-926f-b82adf4c5ed4",
   "metadata": {},
   "outputs": [
    {
     "name": "stderr",
     "output_type": "stream",
     "text": [
      "100%|███████████████████████████████████████████| 80/80 [02:58<00:00,  2.23s/it]\n"
     ]
    }
   ],
   "source": [
    "### SEG VIDEOS\n",
    "indir_root = './Data/pytorch-data/xl_121_15_action_data_seg/test/'\n",
    "vid_fn_temp = './Data/haa500_v1_1_yolo_seg4/{this_cat}/{this_cat}_{vid_num}_item_0_fwd_seg.mp4'\n",
    "ofdir = './Data/01_gifs_for_mTurk_seg/'\n",
    "safe_mkdir(ofdir)\n",
    "\n",
    "codes = [f'{np.random.randint(low=0,high=999):03d}' for _ in range(n)]\n",
    "df['gif_code_seg'] = codes\n",
    "\n",
    "for c in tqdm(range(n)):\n",
    "    this_cat = mturk_categories[c]\n",
    "    indir = os.path.join(indir_root,this_cat)\n",
    "    frames = [frame for frame in os.listdir(indir) if not frame.startswith('.')]\n",
    "    frames.sort()\n",
    "    frame = frames[0]\n",
    "    vid_num = frame.split('_')[0]\n",
    "    vid_fn = vid_fn_temp.format(this_cat=this_cat,vid_num=vid_num)\n",
    "    video_data = load_video(vid_fn)\n",
    "    video_data = video_data[0:min(video_data.shape[0],150),:,:,:]\n",
    "    \n",
    "    arr = np.concatenate((\n",
    "                get_text_im(text='5',nframes=25),\n",
    "                get_text_im(text='4',nframes=25),\n",
    "                get_text_im(text='3',nframes=25),\n",
    "                get_text_im(text='2',nframes=25),\n",
    "                get_text_im(text='1',nframes=25),\n",
    "                video_data,\n",
    "                get_text_im(text=codes[c],nframes=250)),axis=0)\n",
    "    \n",
    "    save_video(arr,os.path.join(ofdir,f'gif_{c+1:03d}.gif'))\n",
    "    \n",
    "    plt.figure(figsize=(20,10))\n",
    "    plt.subplot(1,3,1)\n",
    "    plt.imshow(arr[0,:,:,:])\n",
    "    plt.axis('off')\n",
    "    plt.subplot(1,3,2)\n",
    "    plt.imshow(arr[126,:,:,:])\n",
    "    plt.axis('off')\n",
    "    plt.subplot(1,3,3)\n",
    "    plt.imshow(arr[-1,:,:,:])\n",
    "    plt.axis('off')\n",
    "    plt.suptitle(mturk_categories[c],fontsize=20,y=0.66)\n",
    "    plt.savefig(os.path.join(ofdir,f'im_{c+1:03d}.jpg'))\n",
    "    plt.close()"
   ]
  },
  {
   "cell_type": "code",
   "execution_count": null,
   "id": "5219d067-f188-4ac6-9b4f-2a469f4968d1",
   "metadata": {},
   "outputs": [],
   "source": []
  },
  {
   "cell_type": "code",
   "execution_count": null,
   "id": "1d454990-55e9-4dd1-ba11-4a771d24b09a",
   "metadata": {},
   "outputs": [],
   "source": []
  },
  {
   "cell_type": "code",
   "execution_count": 49,
   "id": "12442ecb-9dde-49a6-9830-a6b99516dded",
   "metadata": {},
   "outputs": [],
   "source": [
    "df = df[['action', 'cat_idx', 'file', 'label',\n",
    "       'choice_idx_1', 'choice_idx_2', 'choice_idx_3', 'choice_idx_4',\n",
    "       'choice_idx_5', 'choice_label_1', 'choice_label_2', 'choice_label_3',\n",
    "       'choice_label_4', 'choice_label_5', 'gif_code_orig', 'gif_code_bg',\n",
    "       'gif_code_seg']]"
   ]
  },
  {
   "cell_type": "code",
   "execution_count": 53,
   "id": "e5b90e7d-0560-44a5-bd89-2bbdfa8e9ca4",
   "metadata": {},
   "outputs": [
    {
     "name": "stderr",
     "output_type": "stream",
     "text": [
      "/tmp/ipykernel_42927/1520840460.py:1: SettingWithCopyWarning: \n",
      "A value is trying to be set on a copy of a slice from a DataFrame.\n",
      "Try using .loc[row_indexer,col_indexer] = value instead\n",
      "\n",
      "See the caveats in the documentation: https://pandas.pydata.org/pandas-docs/stable/user_guide/indexing.html#returning-a-view-versus-a-copy\n",
      "  df['file'] = [f'gif_{c+1:03d}.gif' for c in range(n)]\n"
     ]
    }
   ],
   "source": [
    "df['file'] = [f'gif_{c+1:03d}.gif' for c in range(n)]"
   ]
  },
  {
   "cell_type": "code",
   "execution_count": 55,
   "id": "13a33a25-f4bd-4572-a6e7-deb8ea714694",
   "metadata": {},
   "outputs": [],
   "source": [
    "df.to_csv('./Results/mTurk_masterfile_2.csv')"
   ]
  },
  {
   "cell_type": "code",
   "execution_count": null,
   "id": "8bf101bd-188a-4733-9b93-48cf3fd231c4",
   "metadata": {},
   "outputs": [],
   "source": []
  },
  {
   "cell_type": "code",
   "execution_count": 59,
   "id": "ed714242-24b5-442f-8e38-d252844b463c",
   "metadata": {},
   "outputs": [],
   "source": [
    "#!zip -r ./Data/01_gifs_for_mTurk_orig.zip ./Data/01_gifs_for_mTurk_orig"
   ]
  },
  {
   "cell_type": "code",
   "execution_count": 61,
   "id": "f76e3b7f-408f-4e54-a62d-612d55259f0a",
   "metadata": {},
   "outputs": [],
   "source": [
    "#!zip -r ./Data/01_gifs_for_mTurk_bg.zip ./Data/01_gifs_for_mTurk_bg"
   ]
  },
  {
   "cell_type": "code",
   "execution_count": 63,
   "id": "4ac7239c-f401-43de-adc4-7b6db7e4a2b7",
   "metadata": {},
   "outputs": [],
   "source": [
    "#!zip -r ./Data/01_gifs_for_mTurk_seg.zip ./Data/01_gifs_for_mTurk_seg"
   ]
  },
  {
   "cell_type": "code",
   "execution_count": null,
   "id": "423f8ddb-db2f-4f85-a8be-1360c89dbb04",
   "metadata": {},
   "outputs": [],
   "source": []
  }
 ],
 "metadata": {
  "kernelspec": {
   "display_name": "Python 3 (ipykernel)",
   "language": "python",
   "name": "python3"
  },
  "language_info": {
   "codemirror_mode": {
    "name": "ipython",
    "version": 3
   },
   "file_extension": ".py",
   "mimetype": "text/x-python",
   "name": "python",
   "nbconvert_exporter": "python",
   "pygments_lexer": "ipython3",
   "version": "3.9.12"
  }
 },
 "nbformat": 4,
 "nbformat_minor": 5
}
